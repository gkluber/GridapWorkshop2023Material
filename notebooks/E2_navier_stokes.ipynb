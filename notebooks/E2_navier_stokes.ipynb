{
 "cells": [
  {
   "cell_type": "markdown",
   "metadata": {},
   "source": [
    "## Problem statement\n",
    "\n",
    "The goal is to solve a nonlinear multi-field PDE. As a model problem, we consider a well known benchmark in computational fluid dynamics, the laminar flow around a cyclinder for the incompressible Navier-Stokes equations. We will solve this problem by building on the concepts seen in the previous tutorials.\n",
    "\n",
    "The computational domain $\\Omega$ is a 2-dimensional channel. The fluid enters the channel from the left boundary (inlet) and exits through the right boundary (outlet). The channel has a cylindrical obstacle near the inlet. The domain can be seen in the following figure:\n",
    "\n",
    "![](../figures/ins/perforated_plate.png)\n",
    "\n",
    "We define $\\partial \\Omega = \\Gamma_{w} \\cup \\Gamma_{c} \\cup \\Gamma_{in} \\cup \\Gamma_{out}$ with $\\Gamma_{w}$ the top and bottom channel walls, $\\Gamma_{c}$ the cylinder walls, $\\Gamma_{in}$ the inlet and $\\Gamma_{out}$ the outlet.\n",
    "\n",
    "Formally, the PDE we want to solve is: find the velocity vector $u$ and the pressure $p$ such that\n",
    "\n",
    "$$\n",
    "\\left\\lbrace\n",
    "\\begin{aligned}\n",
    "-\\Delta u + \\mathit{Re}\\ (u\\cdot \\nabla)\\ u + \\nabla p = 0 &\\text{ in }\\Omega,\\\\\n",
    "\\nabla\\cdot u = 0 &\\text{ in } \\Omega,\\\\\n",
    "u = u_{in} &\\text{ on } \\Gamma_{in},\\\\\n",
    "u = 0 &\\text{ on } \\Gamma_{w} \\cup \\Gamma_{c},\\\\\n",
    "n_\\Gamma \\cdot \\sigma = 0 &\\text{ on } \\Gamma_{out},\\\\\n",
    "\\end{aligned}\n",
    "\\right.\n",
    "$$\n",
    "\n",
    "where $d=2$ , and $\\mathit{Re}$ is the Reynolds number.\n",
    "\n",
    "The inflow condition is given by\n",
    "\n",
    "$$\n",
    "u_{in}(0,y) = \\left( 4 U_{m} \\frac{y(H-y)}{H^2}, 0 \\right),\n",
    "$$\n",
    "\n",
    "with $U_{m}=0.3 \\ m/s$ the maximum velocity and $H = 0.41 \\ m$ the height of the channel.\n",
    "\n",
    "## Numerical Scheme\n",
    "\n",
    "In order to approximate this problem we choose a formulation based on inf-sup stable $P_{k}/P_{k-1}$ triangular elements with continuous velocities and pressures. The interpolation spaces are defined as follows. The velocity interpolation space is\n",
    "\n",
    "$$\n",
    "V \\doteq \\{ v \\in [H^1(\\Omega)]^d:\\ v|_T\\in [P_k(T)]^d \\text{ for all } T\\in\\mathcal{T} \\},\n",
    "$$\n",
    "\n",
    "where $T$ denotes an arbitrary cell of the FE mesh $\\mathcal{T}$, and $P_k(T)$ is the usual Lagrangian FE space of order $k$ defined on a mesh of triangles or tetrahedra.\n",
    "On the other hand, the space for the pressure is given by\n",
    "\n",
    "$$\n",
    "Q \\doteq \\{ q \\in C^0(\\Omega):\\ q|_T\\in P_{k-1}(T) \\text{ for all } T\\in\\mathcal{T}\\}.\n",
    "$$\n",
    "\n",
    "The weak form associated to these interpolation spaces reads: find $(u,p)\\in U_g \\times Q$ such that $[r(u,p)](v,q)=0$ for all $(v,q)\\in V_0 \\times Q$\n",
    "where $U_g$ and $V_0$ are the set of functions in $V$ fulfilling the Dirichlet boundary conditions and the homogeneous Dirichlet boundary conditions respetively. The weak residual $r$ evaluated at a given pair $(u,p)$ is the linear form defined as\n",
    "\n",
    "$$\n",
    "[r(u,p)](v,q) \\doteq a((u,p),(v,q))+ [c(u)](v),\n",
    "$$\n",
    "with\n",
    "$$\n",
    "\\begin{aligned}\n",
    "a((u,p),(v,q)) &\\doteq \\int_{\\Omega} \\nabla v \\cdot \\nabla u \\ {\\rm d}\\Omega - \\int_{\\Omega} (\\nabla\\cdot v) \\ p \\ {\\rm d}\\Omega + \\int_{\\Omega} q \\ (\\nabla \\cdot u) \\ {\\rm d}\\Omega,\\\\\n",
    "[c(u)](v) &\\doteq \\int_{\\Omega} v \t\\cdot \\left( (u\\cdot\\nabla)\\ u \\right)\\ {\\rm d}\\Omega.\\\\\n",
    "\\end{aligned}\n",
    "$$\n",
    "Note that the bilinear form $a$ is associated with the linear part of the PDE, whereas $c$ is the contribution to the residual resulting from the convective term.\n",
    "\n",
    "In order to solve this nonlinear weak equation with a Newton-Raphson method, one needs to compute the Jacobian associated with the residual $r$. In this case, the Jacobian $j$ evaluated at a pair $(u,p)$ is the bilinear form defined as\n",
    "\n",
    "$$\n",
    "[j(u,p)]((\\delta u, \\delta p),(v,q)) \\doteq a((\\delta u,\\delta p),(v,q))  + [{\\rm d}c(u)](\\delta u,v),\n",
    "$$\n",
    "where ${\\rm d}c$ results from the linearization of the convective term, namely\n",
    "$$\n",
    "[{\\rm d}c(u)](\\delta u,v) \\doteq \\int_{\\Omega} v \\cdot \\left( (u\\cdot\\nabla)\\ \\delta u \\right) \\ {\\rm d}\\Omega + \\int_{\\Omega} v \\cdot \\left( (\\delta u\\cdot\\nabla)\\ u \\right)  \\ {\\rm d}\\Omega.\n",
    "$$\n",
    "\n",
    "## Geometry\n",
    "\n",
    "We start by importing the packages and loading the provided mesh in the file `perforated_plate_tiny.msh`:"
   ]
  },
  {
   "cell_type": "code",
   "execution_count": 14,
   "metadata": {},
   "outputs": [
    {
     "name": "stdout",
     "output_type": "stream",
     "text": [
      "Info    : Reading '/home/gkluber/Desktop/GridapWorkshop2023Material/meshes/perforated_plate_tiny.msh'...\n",
      "Info    : 429 nodes\n",
      "Info    : 862 elements\n",
      "Info    : Done reading '/home/gkluber/Desktop/GridapWorkshop2023Material/meshes/perforated_plate_tiny.msh'\n"
     ]
    },
    {
     "data": {
      "text/plain": [
       "UnstructuredDiscreteModel()"
      ]
     },
     "metadata": {},
     "output_type": "display_data"
    }
   ],
   "source": [
    "using Gridap, GridapGmsh\n",
    "using DrWatson\n",
    "\n",
    "msh_file = projectdir(\"meshes/perforated_plate_tiny.msh\")\n",
    "model = GmshDiscreteModel(msh_file)"
   ]
  },
  {
   "cell_type": "markdown",
   "metadata": {},
   "source": [
    "### Exercise 1\n",
    "\n",
    "_Open the resulting files with ParaView. Visualize the faces of the model and color them by each of the available fields. Identify the tag names representing the boundaries $\\Gamma_{w}$ (top and bottom channel walls), $\\Gamma_{c}$ (cylinder walls), $\\Gamma_{in}$ (inlet) and $\\Gamma_{out}$ (outlet)._"
   ]
  },
  {
   "cell_type": "code",
   "execution_count": 15,
   "metadata": {},
   "outputs": [
    {
     "data": {
      "text/plain": [
       "3-element Vector{Vector{String}}:\n",
       " [\"/home/gkluber/Desktop/GridapWorkshop2023Material/data/perforated_plate_0.vtu\"]\n",
       " [\"/home/gkluber/Desktop/GridapWorkshop2023Material/data/perforated_plate_1.vtu\"]\n",
       " [\"/home/gkluber/Desktop/GridapWorkshop2023Material/data/perforated_plate_2.vtu\"]"
      ]
     },
     "metadata": {},
     "output_type": "display_data"
    }
   ],
   "source": [
    "writevtk(model,datadir(\"perforated_plate\"))"
   ]
  },
  {
   "cell_type": "markdown",
   "metadata": {},
   "source": [
    "## FE Spaces\n",
    "\n",
    "### Exercise 2\n",
    "\n",
    "_Define the test `FESpaces` for velocity and pressure, as described above. The velocity space should be a vector-valued lagrangian space of order `k` with appropriate boundary conditions. The pressure space should be an unconstrained lagrangian space of order `k-1`._"
   ]
  },
  {
   "cell_type": "code",
   "execution_count": 16,
   "metadata": {},
   "outputs": [
    {
     "data": {
      "text/plain": [
       "ZeroMeanFESpace()"
      ]
     },
     "metadata": {},
     "output_type": "display_data"
    }
   ],
   "source": [
    "D = 2\n",
    "k = 2\n",
    "\n",
    "reffeᵤ = ReferenceFE(lagrangian,VectorValue{D,Float64},k)\n",
    "reffeₚ = ReferenceFE(lagrangian,Float64,k-1;space=:P)\n",
    "\n",
    "labels = get_face_labeling(model)\n",
    "\n",
    "V = TestFESpace(model,reffeᵤ,labels=labels,dirichlet_tags=[\"inlet\",\"walls\",\"cylinder\"],conformity=:H1)\n",
    "Q = TestFESpace(model,reffeₚ,conformity=:L2,constraint=:zeromean)"
   ]
  },
  {
   "cell_type": "markdown",
   "metadata": {},
   "source": [
    "### Exercise 3\n",
    "_Define the boundary conditions for velocity. You should define three functions `u_in`, `u_w` and `u_c` representing the prescribed dirichlet values at $\\Gamma_{in}$, $\\Gamma_w$ and $\\Gamma_c$ respectively._"
   ]
  },
  {
   "cell_type": "code",
   "execution_count": 17,
   "metadata": {},
   "outputs": [
    {
     "data": {
      "text/plain": [
       "u_c (generic function with 1 method)"
      ]
     },
     "metadata": {},
     "output_type": "display_data"
    }
   ],
   "source": [
    "U_m = 0.3\n",
    "H = 0.41\n",
    "u_in((x,y)) = VectorValue(4.0*U_m* (y * (H - y))/(H*H), 0.0)\n",
    "u_w((x,y)) = VectorValue(0.0, 0.0)\n",
    "u_c((x,y)) = VectorValue(0.0, 0.0)"
   ]
  },
  {
   "cell_type": "markdown",
   "metadata": {},
   "source": [
    "### Exercise 4\n",
    "_Define the trial and test spaces for the velocity and pressure fields, as well as the corresponding multi-field spaces._"
   ]
  },
  {
   "cell_type": "code",
   "execution_count": 18,
   "metadata": {},
   "outputs": [
    {
     "data": {
      "text/plain": [
       "ZeroMeanFESpace()"
      ]
     },
     "metadata": {},
     "output_type": "display_data"
    }
   ],
   "source": [
    "U = TrialFESpace(V,[u_in,u_w,u_c])\n",
    "P = TrialFESpace(Q)"
   ]
  },
  {
   "cell_type": "code",
   "execution_count": 19,
   "metadata": {},
   "outputs": [
    {
     "data": {
      "text/plain": [
       "MultiFieldFESpace()"
      ]
     },
     "metadata": {},
     "output_type": "display_data"
    }
   ],
   "source": [
    "Y = MultiFieldFESpace([V,Q])\n",
    "X = MultiFieldFESpace([U,P])"
   ]
  },
  {
   "cell_type": "markdown",
   "metadata": {},
   "source": [
    "## Nonlinear weak form and FE operator\n",
    "\n",
    "As usual, we start by defining the triangulations and measures we will need to define the weak form. In this case, we need to define the measure associate with the bulk $d\\Omega$, as well as the measure associated with the outlet boundary $\\Gamma_{out}$."
   ]
  },
  {
   "cell_type": "code",
   "execution_count": 20,
   "metadata": {},
   "outputs": [
    {
     "data": {
      "text/plain": [
       "GenericMeasure()"
      ]
     },
     "metadata": {},
     "output_type": "display_data"
    }
   ],
   "source": [
    "degree = k\n",
    "Ω  = Triangulation(model)\n",
    "dΩ = Measure(Ω,degree)\n",
    "\n",
    "Γ_out = BoundaryTriangulation(model,tags=\"outlet\")\n",
    "n_Γout = get_normal_vector(Γ_out)\n",
    "dΓ_out = Measure(Γ_out,degree)"
   ]
  },
  {
   "cell_type": "markdown",
   "metadata": {},
   "source": [
    "We also define the Reynolds number and functions to represent the convective term and its linearization."
   ]
  },
  {
   "cell_type": "code",
   "execution_count": 21,
   "metadata": {},
   "outputs": [
    {
     "data": {
      "text/plain": [
       "dconv (generic function with 1 method)"
      ]
     },
     "metadata": {},
     "output_type": "display_data"
    }
   ],
   "source": [
    "const Re = 20\n",
    "conv(u,∇u) = Re*(∇u')⋅u\n",
    "dconv(du,∇du,u,∇u) = conv(u,∇du)+conv(du,∇u)"
   ]
  },
  {
   "cell_type": "markdown",
   "metadata": {},
   "source": [
    "### Exercise 5\n",
    "_Define the weak form for our problem. You should start by defining the bilinear forms $a$ and $c$ and the trilinear form $dc$. Then use these components to build the residual $r$ and the jacobian $j$._"
   ]
  },
  {
   "cell_type": "code",
   "execution_count": 22,
   "metadata": {},
   "outputs": [],
   "source": [
    "#a((u,p),(v,q)) ="
   ]
  },
  {
   "cell_type": "code",
   "execution_count": 23,
   "metadata": {},
   "outputs": [],
   "source": [
    "#c(u,v) =\n",
    "#dc(u,du,v) ="
   ]
  },
  {
   "cell_type": "code",
   "execution_count": 24,
   "metadata": {},
   "outputs": [],
   "source": [
    "#res((u,p),(v,q)) =\n",
    "#jac((u,p),(du,dp),(v,q)) ="
   ]
  },
  {
   "cell_type": "markdown",
   "metadata": {},
   "source": [
    "We can finally define the `FEOperator` as usual"
   ]
  },
  {
   "cell_type": "code",
   "execution_count": 25,
   "metadata": {},
   "outputs": [
    {
     "ename": "UndefVarError",
     "evalue": "UndefVarError: `res` not defined",
     "output_type": "error",
     "traceback": [
      "UndefVarError: `res` not defined\n",
      "\n",
      "Stacktrace:\n",
      " [1] top-level scope\n",
      "   @ ~/Desktop/GridapWorkshop2023Material/notebooks/E2_navier_stokes.ipynb:1"
     ]
    }
   ],
   "source": [
    "op = FEOperator(res,jac,X,Y)"
   ]
  },
  {
   "cell_type": "markdown",
   "metadata": {},
   "source": [
    "## Solver and solution\n",
    "\n",
    "### Exercise 6\n",
    "\n",
    "_Create a nonlinear Newton-Raphson solver and solve the problem. Print the solutions to a `.vtk` file and examine the obtained solution._"
   ]
  },
  {
   "cell_type": "code",
   "execution_count": 26,
   "metadata": {},
   "outputs": [],
   "source": [
    "using LineSearches: BackTracking"
   ]
  },
  {
   "cell_type": "markdown",
   "metadata": {},
   "source": [
    "## References\n",
    "\n",
    "This tutorial follows test case 2D-1 from (Schafer,1996)[https://link.springer.com/chapter/10.1007/978-3-322-89849-4_39]"
   ]
  }
 ],
 "metadata": {
  "kernelspec": {
   "display_name": "Julia 1.9.4",
   "language": "julia",
   "name": "julia-1.9"
  },
  "language_info": {
   "file_extension": ".jl",
   "mimetype": "application/julia",
   "name": "julia",
   "version": "1.9.4"
  }
 },
 "nbformat": 4,
 "nbformat_minor": 3
}
