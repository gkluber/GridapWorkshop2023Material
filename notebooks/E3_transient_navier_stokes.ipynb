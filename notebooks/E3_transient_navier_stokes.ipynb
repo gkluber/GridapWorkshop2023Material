{
 "cells": [
  {
   "cell_type": "markdown",
   "metadata": {},
   "source": [
    "## Problem statement\n",
    "\n",
    "The goal is to solve a time-dependent nonlinear multi-field PDE. As a model problem, we consider a well known benchmark in computational fluid dynamics, the laminar flow around a cyclinder for the transient incompressible Navier-Stokes equations. We will solve this problem by building on the previous exercise.\n",
    "\n",
    "Like in the previous exercise, the computational domain $\\Omega$ is a 2-dimensional channel. The fluid enters the channel from the left boundary (inlet) and exits through the right boundary (outlet). The channel has a cylindrical obstacle near the inlet. The domain can be seen in the following figure:\n",
    "\n",
    "![](../figures/ins/perforated_plate.png)\n",
    "\n",
    "\n",
    "We define $\\partial \\Omega = \\Gamma_{w} \\cup \\Gamma_{c} \\cup \\Gamma_{in} \\cup \\Gamma_{out}$ with $\\Gamma_{w}$ the top and bottom channel walls, $\\Gamma_{c}$ the cylinder walls, $\\Gamma_{in}$ the inlet and $\\Gamma_{out}$ the outlet.\n",
    "\n",
    "Formally, the PDE we want to solve is: find the velocity vector $u$ and the pressure $p$ such that\n",
    "\n",
    "$$\n",
    "\\left\\lbrace\n",
    "\\begin{aligned}\n",
    "\\frac{\\partial u}{\\partial t} - \\Delta u + \\mathit{Re}\\ (u\\cdot \\nabla)\\ u + \\nabla p = 0 &\\text{ in }\\Omega,\\\\\n",
    "\\nabla\\cdot u = 0 &\\text{ in } \\Omega,\\\\\n",
    "u = u_{in} &\\text{ on } \\Gamma_{in},\\\\\n",
    "u = 0 &\\text{ on } \\Gamma_{w} \\cup \\Gamma_{c},\\\\\n",
    "n_\\Gamma \\cdot \\sigma = 0 &\\text{ on } \\Gamma_{out},\\\\\n",
    "\\end{aligned}\n",
    "\\right.\n",
    "$$\n",
    "\n",
    "where $d=2$ , and $\\mathit{Re}$ is the Reynolds number.\n",
    "\n",
    "The inflow condition is now time-dependent and given by\n",
    "\n",
    "$$\n",
    "u_{in}(0,y,t) = \\left( 4 U_{m} \\frac{y(H-y)}{H^2} \\xi(t), 0 \\right)\n",
    "$$\n",
    "\n",
    "with $U_{m}=1.5 \\ m/s$ the maximum velocity, $H = 0.41 \\ m$ the height of the channel and $\\xi$ a function\n",
    "\n",
    "$$\n",
    "\\xi(t) = \\left\\lbrace\n",
    "\\begin{aligned}\n",
    "  \\sin\\left(\\frac{\\pi t}{2 T_{th}}\\right) &\\text{ if } t \\leq T_{th} \\\\\n",
    "  1.0 &\\text{ if } t > T_{th} \\\\\n",
    "\\end{aligned}\n",
    "\\right.\n",
    "$$\n",
    "\n",
    "with $T_{th}$ the time it takes for the flow to reach a steady state.\n",
    "\n",
    "## Numerical Scheme\n",
    "\n",
    "In order to approximate this problem we choose the same formulation as before, namely a formulation based on inf-sup stable $P_{k}/P_{k-1}$ triangular elements with continuous velocities and pressures. The interpolation spaces are defined as follows. The velocity interpolation space is\n",
    "\n",
    "$$\n",
    "V \\doteq \\{ v \\in [H^1(\\Omega)]^d:\\ v|_T\\in [P_k(T)]^d \\text{ for all } T\\in\\mathcal{T} \\},\n",
    "$$\n",
    "\n",
    "where $T$ denotes an arbitrary cell of the FE mesh $\\mathcal{T}$, and $P_k(T)$ is the usual Lagrangian FE space of order $k$ defined on a mesh of triangles or tetrahedra.\n",
    "On the other hand, the space for the pressure is given by\n",
    "\n",
    "$$\n",
    "Q \\doteq \\{ q \\in C^0(\\Omega):\\ q|_T\\in P_{k-1}(T) \\text{ for all } T\\in\\mathcal{T}\\}.\n",
    "$$\n",
    "\n",
    "The weak form associated to these interpolation spaces reads: find $(u,p)\\in U_g \\times Q$ such that $[r(u,p)](v,q)=0$ for all $(v,q)\\in V_0 \\times Q$\n",
    "where $U_g$ and $V_0$ are the set of functions in $V$ fulfilling the Dirichlet boundary conditions and the homogeneous Dirichlet boundary conditions respetively. The weak residual $r$ evaluated at a given pair $(u,p)$ is the linear form defined as\n",
    "\n",
    "$$\n",
    "[r(t,(u,p))](v,q) \\doteq m(t,(u,p),(v,q)) + a(t,(u,p),(v,q)) + [c(u)](v),\n",
    "$$\n",
    "with\n",
    "$$\n",
    "\\begin{aligned}\n",
    "m(t,(u,p),(v,q)) &\\doteq \\int_{\\Omega} \\frac{\\partial u}{\\partial t} \\cdot v \\ {\\rm d}\\Omega,\\\\\n",
    "a(t,(u,p),(v,q)) &\\doteq \\int_{\\Omega} \\nabla v \\cdot \\nabla u \\ {\\rm d}\\Omega - \\int_{\\Omega} (\\nabla\\cdot v) \\ p \\ {\\rm d}\\Omega + \\int_{\\Omega} q \\ (\\nabla \\cdot u) \\ {\\rm d}\\Omega,\\\\\n",
    "[c(u)](v) &\\doteq \\int_{\\Omega} v \t\\cdot \\left( (u\\cdot\\nabla)\\ u \\right)\\ {\\rm d}\\Omega.\\\\\n",
    "\\end{aligned}\n",
    "$$\n",
    "\n",
    "In this exercise, we will rely on automatic differentiation to compute the necessary jacobians in time and space."
   ]
  },
  {
   "cell_type": "markdown",
   "metadata": {},
   "source": [
    "## Geometry\n",
    "\n",
    "### Exercise 1\n",
    "\n",
    "_By using the code in the previous exercise, load the mesh from the file `perforated_plate_tiny.msh`. If your computer is good enough, or if you are working on Gadi, you might want to try the refined model in file `perforated_plate.msh`._"
   ]
  },
  {
   "cell_type": "code",
   "execution_count": 1,
   "metadata": {},
   "outputs": [
    {
     "name": "stdout",
     "output_type": "stream",
     "text": [
      "Info    : Reading '/home/gkluber/Desktop/GridapWorkshop2023Material/meshes/perforated_plate_tiny.msh'...\n",
      "Info    : 429 nodes\n",
      "Info    : 862 elements\n",
      "Info    : Done reading '/home/gkluber/Desktop/GridapWorkshop2023Material/meshes/perforated_plate_tiny.msh'\n"
     ]
    },
    {
     "data": {
      "text/plain": [
       "UnstructuredDiscreteModel()"
      ]
     },
     "metadata": {},
     "output_type": "display_data"
    }
   ],
   "source": [
    "using Gridap, GridapGmsh\n",
    "using DrWatson\n",
    "\n",
    "msh_file = projectdir(\"meshes/perforated_plate_tiny.msh\")\n",
    "model = GmshDiscreteModel(msh_file)"
   ]
  },
  {
   "cell_type": "markdown",
   "metadata": {},
   "source": [
    "## FE spaces\n",
    "\n",
    "### Exercise 2\n",
    "\n",
    "_Define the test FE spaces for teh velocity and pressure, using the same discretisations as in the previous exercise._"
   ]
  },
  {
   "cell_type": "code",
   "execution_count": 2,
   "metadata": {},
   "outputs": [
    {
     "data": {
      "text/plain": [
       "ZeroMeanFESpace()"
      ]
     },
     "metadata": {},
     "output_type": "display_data"
    }
   ],
   "source": [
    "D = 2\n",
    "k = 2\n",
    "\n",
    "reffeᵤ = ReferenceFE(lagrangian,VectorValue{D,Float64},k)\n",
    "reffeₚ = ReferenceFE(lagrangian,Float64,k-1;space=:P)\n",
    "\n",
    "labels = get_face_labeling(model)\n",
    "\n",
    "V = TestFESpace(model,reffeᵤ,labels=labels,dirichlet_tags=[\"inlet\",\"walls\",\"cylinder\"],conformity=:H1)\n",
    "Q = TestFESpace(model,reffeₚ,conformity=:C0,constraint=:zeromean)"
   ]
  },
  {
   "cell_type": "markdown",
   "metadata": {},
   "source": [
    "### Exercise 3\n",
    "_Define the boundary conditions for velocity. You should define three functions `u_in`, `u_w` and `u_c` representing the prescribed dirichlet values at $\\Gamma_{in}$, $\\Gamma_w$ and $\\Gamma_c$ respectively._"
   ]
  },
  {
   "cell_type": "code",
   "execution_count": 3,
   "metadata": {},
   "outputs": [
    {
     "data": {
      "text/plain": [
       "u_c (generic function with 2 methods)"
      ]
     },
     "metadata": {},
     "output_type": "display_data"
    }
   ],
   "source": [
    "const Tth = 2\n",
    "const Uₘ = 1.5\n",
    "const H  = 0.41\n",
    "ξ(t) = (t <= Tth) ? sin(π*t/(2*Tth)) : 1.0\n",
    "u_in((x,y),t::Real) = VectorValue(4.0*Uₘ* (y * (H - y))/(H*H) *ξ(t), 0.0)\n",
    "u_w(x,t::Real) = VectorValue(0.0, 0.0)\n",
    "u_c(x,t::Real) = VectorValue(0.0, 0.0)\n",
    "\n",
    "u_in(t::Real) = x -> u_in(x,t)\n",
    "u_w(t::Real) = x -> u_w(x,t)\n",
    "u_c(t::Real) = x -> u_c(x,t)"
   ]
  },
  {
   "cell_type": "markdown",
   "metadata": {},
   "source": [
    "### Exercise 4\n",
    "_Define the trial and test spaces for the velocity and pressure fields, as well as the corresponding multi-field spaces._"
   ]
  },
  {
   "cell_type": "code",
   "execution_count": 4,
   "metadata": {},
   "outputs": [
    {
     "data": {
      "text/plain": [
       "TransientMultiFieldTrialFESpace(Any[TransientTrialFESpace{Gridap.FESpaces.UnconstrainedFESpace{Vector{Float64}, Nothing}, TrialFESpace{Gridap.FESpaces.UnconstrainedFESpace{Vector{Float64}, Nothing}}}(UnconstrainedFESpace(), Function[u_in, u_w, u_c], TrialFESpace()), ZeroMeanFESpace()])"
      ]
     },
     "metadata": {},
     "output_type": "display_data"
    }
   ],
   "source": [
    "U = TransientTrialFESpace(V,[u_in,u_w,u_c])\n",
    "P = TrialFESpace(Q)\n",
    "Y = MultiFieldFESpace([V,Q])\n",
    "X = TransientMultiFieldFESpace([U,P])"
   ]
  },
  {
   "cell_type": "markdown",
   "metadata": {},
   "source": [
    "## Nonlinear weak form and FE operator\n",
    "\n",
    "As usual, we start by defining the triangulations and measures we will need to define the weak form. In this case, we need to define the measure associate with the bulk $d\\Omega$, as well as the measure associated with the outlet boundary $\\Gamma_{out}$."
   ]
  },
  {
   "cell_type": "code",
   "execution_count": 5,
   "metadata": {},
   "outputs": [
    {
     "data": {
      "text/plain": [
       "GenericMeasure()"
      ]
     },
     "metadata": {},
     "output_type": "display_data"
    }
   ],
   "source": [
    "degree = k\n",
    "Ω  = Triangulation(model)\n",
    "dΩ = Measure(Ω,degree)\n",
    "\n",
    "Γ_out = BoundaryTriangulation(model,tags=\"outlet\")\n",
    "n_Γout = get_normal_vector(Γ_out)\n",
    "dΓ_out = Measure(Γ_out,degree)"
   ]
  },
  {
   "cell_type": "markdown",
   "metadata": {},
   "source": [
    "We also define the Reynolds number and functions to represent the convective term."
   ]
  },
  {
   "cell_type": "code",
   "execution_count": 6,
   "metadata": {},
   "outputs": [
    {
     "data": {
      "text/plain": [
       "conv (generic function with 1 method)"
      ]
     },
     "metadata": {},
     "output_type": "display_data"
    }
   ],
   "source": [
    "const Re = 100.0\n",
    "conv(u,∇u) = Re*(∇u')⋅u"
   ]
  },
  {
   "cell_type": "markdown",
   "metadata": {},
   "source": [
    "### Exercise 5\n",
    "_Define the residual $r$ and the `TransientFEOperator` for our problem._"
   ]
  },
  {
   "cell_type": "code",
   "execution_count": 7,
   "metadata": {},
   "outputs": [
    {
     "data": {
      "text/plain": [
       "TransientFEOperatorFromWeakForm()"
      ]
     },
     "metadata": {},
     "output_type": "display_data"
    }
   ],
   "source": [
    "m(t,(u,p),(v,q)) = ∫( ∂t(u)⋅v )dΩ\n",
    "a(t,(u,p),(v,q)) = ∫( ∇(v)⊙∇(u) - (∇⋅v)*p + q*(∇⋅u) )dΩ\n",
    "c(u,v) = ∫( v⊙(conv∘(u,∇(u))) )dΩ\n",
    "res(t,(u,p),(v,q)) = m(t,(u,p),(v,q)) + a(t,(u,p),(v,q)) + c(u,v)\n",
    "\n",
    "op = TransientFEOperator(res,X,Y)"
   ]
  },
  {
   "cell_type": "markdown",
   "metadata": {},
   "source": [
    "## Solver and solution\n",
    "\n",
    "### Exercise 6\n",
    "\n",
    "_Create the ODE solver. In this exercise you should use the `ThetaMethod` with $\\theta = 0.5$ and a time step size $\\Delta t = 0.01$. Create a Newton-Raphson nonlinear solver to solve the nonlinear problem at each time step._"
   ]
  },
  {
   "cell_type": "code",
   "execution_count": 8,
   "metadata": {},
   "outputs": [
    {
     "data": {
      "text/plain": [
       "ThetaMethod()"
      ]
     },
     "metadata": {},
     "output_type": "display_data"
    }
   ],
   "source": [
    "using LineSearches: BackTracking\n",
    "nls = NLSolver(show_trace=true, method=:newton, linesearch=BackTracking())\n",
    "\n",
    "Δt = 0.01\n",
    "θ  = 0.5\n",
    "ode_solver = ThetaMethod(nls, Δt, θ)"
   ]
  },
  {
   "cell_type": "markdown",
   "metadata": {},
   "source": [
    "We can then solve the problem and print the solutions as follows:"
   ]
  },
  {
   "cell_type": "code",
   "execution_count": 9,
   "metadata": {},
   "outputs": [
    {
     "name": "stdout",
     "output_type": "stream",
     "text": [
      "Iter     f(x) inf-norm    Step 2-norm \n",
      "------   --------------   --------------\n"
     ]
    },
    {
     "name": "stdout",
     "output_type": "stream",
     "text": [
      "     0     1.277595e-02              NaN\n",
      "     1     3.962383e-05     2.021451e+03\n"
     ]
    },
    {
     "name": "stdout",
     "output_type": "stream",
     "text": [
      "     2     1.590325e-10     1.762644e-04\n",
      " > Computing solution at time 0.01"
     ]
    },
    {
     "name": "stdout",
     "output_type": "stream",
     "text": [
      "\n",
      "Iter     f(x) inf-norm    Step 2-norm \n"
     ]
    },
    {
     "name": "stdout",
     "output_type": "stream",
     "text": [
      "------   --------------   --------------\n",
      "     0     1.328995e-02              NaN\n"
     ]
    },
    {
     "name": "stdout",
     "output_type": "stream",
     "text": [
      "     1     1.980966e-05     2.209422e+02\n",
      "     2     4.418774e-11     1.288040e-04\n"
     ]
    },
    {
     "name": "stdout",
     "output_type": "stream",
     "text": [
      " > Computing solution at time 0.02\n",
      "Iter     f(x) inf-norm    Step 2-norm \n",
      "------   --------------   --------------\n"
     ]
    },
    {
     "name": "stdout",
     "output_type": "stream",
     "text": [
      "     0     1.290415e-02              NaN\n",
      "     1     2.075792e-05     1.625350e+03\n"
     ]
    },
    {
     "name": "stdout",
     "output_type": "stream",
     "text": [
      "     2     3.621574e-11     1.364298e-04\n",
      " > Computing solution at time 0.03\n",
      "Iter     f(x) inf-norm    Step 2-norm \n",
      "------   --------------   --------------\n",
      "     0     1.341576e-02              NaN\n"
     ]
    },
    {
     "name": "stdout",
     "output_type": "stream",
     "text": [
      "     1     1.990255e-05     1.681082e+02\n",
      "     2     4.312223e-11     1.383120e-04\n"
     ]
    },
    {
     "name": "stdout",
     "output_type": "stream",
     "text": [
      " > Computing solution at time 0.04\n",
      "Iter     f(x) inf-norm    Step 2-norm \n",
      "------   --------------   --------------\n"
     ]
    },
    {
     "name": "stdout",
     "output_type": "stream",
     "text": [
      "     0     1.302893e-02              NaN\n",
      "     1     1.984106e-05     1.546966e+03\n"
     ]
    },
    {
     "name": "stdout",
     "output_type": "stream",
     "text": [
      "     2     3.796016e-11     1.309990e-04\n",
      " > Computing solution at time 0.05\n",
      "Iter     f(x) inf-norm    Step 2-norm \n",
      "------   --------------   --------------\n",
      "     0     1.353824e-02              NaN\n"
     ]
    },
    {
     "name": "stdout",
     "output_type": "stream",
     "text": [
      "     1     1.997852e-05     1.564202e+02\n",
      "     2     4.291983e-11     1.367058e-04\n"
     ]
    },
    {
     "name": "stdout",
     "output_type": "stream",
     "text": [
      " > Computing solution at time 0.060000000000000005\n",
      "Iter     f(x) inf-norm    Step 2-norm \n",
      "------   --------------   --------------\n"
     ]
    },
    {
     "name": "stdout",
     "output_type": "stream",
     "text": [
      "     0     1.315020e-02              NaN\n",
      "     1     1.992462e-05     1.517873e+03\n",
      "     2     3.942083e-11     1.297387e-04\n",
      " > Computing solution at time 0.07\n",
      "Iter     f(x) inf-norm    Step 2-norm \n"
     ]
    },
    {
     "name": "stdout",
     "output_type": "stream",
     "text": [
      "------   --------------   --------------\n",
      "     0     1.365725e-02              NaN\n"
     ]
    },
    {
     "name": "stdout",
     "output_type": "stream",
     "text": [
      "     1     2.003732e-05     1.520884e+02\n",
      "     2     4.311321e-11     1.348463e-04\n",
      " > Computing solution at time 0.08\n"
     ]
    },
    {
     "name": "stdout",
     "output_type": "stream",
     "text": [
      "Iter     f(x) inf-norm    Step 2-norm \n",
      "------   --------------   --------------\n",
      "     0     1.326786e-02              NaN\n",
      "     1     1.998727e-05     1.500845e+03\n"
     ]
    },
    {
     "name": "stdout",
     "output_type": "stream",
     "text": [
      "     2     4.066614e-11     1.293235e-04\n",
      " > Computing solution at time 0.09\n",
      "Iter     f(x) inf-norm    Step 2-norm \n",
      "------   --------------   --------------\n",
      "     0     1.377265e-02              NaN\n"
     ]
    },
    {
     "name": "stdout",
     "output_type": "stream",
     "text": [
      "     1     2.007847e-05     1.499385e+02\n",
      "     2     4.326556e-11     1.337093e-04\n"
     ]
    },
    {
     "name": "stdout",
     "output_type": "stream",
     "text": [
      " > Computing solution at time 0.09999999999999999\n",
      "Iter     f(x) inf-norm    Step 2-norm \n",
      "------   --------------   --------------\n"
     ]
    },
    {
     "name": "stdout",
     "output_type": "stream",
     "text": [
      "     0     1.338179e-02              NaN\n",
      "     1     2.002979e-05     1.488500e+03\n"
     ]
    },
    {
     "name": "stdout",
     "output_type": "stream",
     "text": [
      "     2     4.117712e-11     1.294406e-04\n",
      " > Computing solution at time 0.10999999999999999\n",
      "Iter     f(x) inf-norm    Step 2-norm \n",
      "------   --------------   --------------\n",
      "     0     1.388430e-02              NaN\n"
     ]
    },
    {
     "name": "stdout",
     "output_type": "stream",
     "text": [
      "     1     2.010191e-05     1.487683e+02\n",
      "     2     4.287767e-11     1.332624e-04\n"
     ]
    },
    {
     "name": "stdout",
     "output_type": "stream",
     "text": [
      " > Computing solution at time 0.11999999999999998\n",
      "Iter     f(x) inf-norm    Step 2-norm \n",
      "------   --------------   --------------\n"
     ]
    },
    {
     "name": "stdout",
     "output_type": "stream",
     "text": [
      "     0     1.349186e-02              NaN\n",
      "     1     2.005287e-05     1.478681e+03\n"
     ]
    },
    {
     "name": "stdout",
     "output_type": "stream",
     "text": [
      "     2     4.097792e-11     1.299977e-04\n",
      " > Computing solution at time 0.12999999999999998\n",
      "Iter     f(x) inf-norm    Step 2-norm \n",
      "------   --------------   --------------\n",
      "     0     1.399207e-02              NaN\n"
     ]
    },
    {
     "name": "stdout",
     "output_type": "stream",
     "text": [
      "     1     2.010783e-05     1.481645e+02\n",
      "     2     4.192818e-11     1.333855e-04\n"
     ]
    },
    {
     "name": "stdout",
     "output_type": "stream",
     "text": [
      " > Computing solution at time 0.13999999999999999\n",
      "Iter     f(x) inf-norm    Step 2-norm \n",
      "------   --------------   --------------\n"
     ]
    },
    {
     "name": "stdout",
     "output_type": "stream",
     "text": [
      "     0     1.359795e-02              NaN\n",
      "     1     2.005717e-05     1.470485e+03\n"
     ]
    },
    {
     "name": "stdout",
     "output_type": "stream",
     "text": [
      "     2     4.010969e-11     1.309075e-04\n",
      " > Computing solution at time 0.15\n",
      "Iter     f(x) inf-norm    Step 2-norm \n",
      "------   --------------   --------------\n",
      "     0     1.409584e-02              NaN\n"
     ]
    },
    {
     "name": "stdout",
     "output_type": "stream",
     "text": [
      "     1     2.009658e-05     1.479349e+02\n",
      "     2     4.043654e-11     1.339494e-04\n"
     ]
    },
    {
     "name": "stdout",
     "output_type": "stream",
     "text": [
      " > Computing solution at time 0.16\n",
      "Iter     f(x) inf-norm    Step 2-norm \n",
      "------   --------------   --------------\n"
     ]
    },
    {
     "name": "stdout",
     "output_type": "stream",
     "text": [
      "     0     1.369995e-02              NaN\n",
      "     1     2.004338e-05     1.463422e+03\n"
     ]
    },
    {
     "name": "stdout",
     "output_type": "stream",
     "text": [
      "     2     3.863737e-11     1.320759e-04\n",
      " > Computing solution at time 0.17\n",
      "Iter     f(x) inf-norm    Step 2-norm \n",
      "------   --------------   --------------\n",
      "     0     1.419548e-02              NaN\n"
     ]
    },
    {
     "name": "stdout",
     "output_type": "stream",
     "text": [
      "     1     2.006862e-05     1.479719e+02\n",
      "     2     3.845529e-11     1.348270e-04\n"
     ]
    },
    {
     "name": "stdout",
     "output_type": "stream",
     "text": [
      " > Computing solution at time 0.18000000000000002\n",
      "Iter     f(x) inf-norm    Step 2-norm \n",
      "------   --------------   --------------\n"
     ]
    },
    {
     "name": "stdout",
     "output_type": "stream",
     "text": [
      "     0     1.379773e-02              NaN\n",
      "     1     2.001220e-05     1.457189e+03\n"
     ]
    },
    {
     "name": "stdout",
     "output_type": "stream",
     "text": [
      "     2     3.664669e-11     1.334066e-04\n",
      " > Computing solution at time 0.19000000000000003\n",
      "Iter     f(x) inf-norm    Step 2-norm \n",
      "------   --------------   --------------\n",
      "     0     1.429086e-02              NaN\n"
     ]
    },
    {
     "name": "stdout",
     "output_type": "stream",
     "text": [
      "     1     2.002449e-05     1.482097e+02\n",
      "     2     3.606127e-11     1.358985e-04\n"
     ]
    },
    {
     "name": "stdout",
     "output_type": "stream",
     "text": [
      " > Computing solution at time 0.20000000000000004\n",
      "Iter     f(x) inf-norm    Step 2-norm \n",
      "------   --------------   --------------\n"
     ]
    },
    {
     "name": "stdout",
     "output_type": "stream",
     "text": [
      "     0     1.389117e-02              NaN\n",
      "     1     1.996438e-05     1.451579e+03\n"
     ]
    },
    {
     "name": "stdout",
     "output_type": "stream",
     "text": [
      "     2     3.457334e-11     1.348059e-04\n",
      " > Computing solution at time 0.21000000000000005\n",
      "Iter     f(x) inf-norm    Step 2-norm \n",
      "------   --------------   --------------\n",
      "     0     1.438188e-02              NaN\n"
     ]
    },
    {
     "name": "stdout",
     "output_type": "stream",
     "text": [
      "     1     1.996475e-05     1.486059e+02\n",
      "     2     3.465156e-11     1.370547e-04\n"
     ]
    },
    {
     "name": "stdout",
     "output_type": "stream",
     "text": [
      " > Computing solution at time 0.22000000000000006\n",
      "Iter     f(x) inf-norm    Step 2-norm \n",
      "------   --------------   --------------\n"
     ]
    },
    {
     "name": "stdout",
     "output_type": "stream",
     "text": [
      "     0     1.398016e-02              NaN\n",
      "     1     1.990062e-05     1.446446e+03\n"
     ]
    },
    {
     "name": "stdout",
     "output_type": "stream",
     "text": [
      "     2     3.452572e-11     1.361867e-04\n",
      " > Computing solution at time 0.23000000000000007\n",
      "Iter     f(x) inf-norm    Step 2-norm \n",
      "------   --------------   --------------\n",
      "     0     1.446840e-02              NaN\n"
     ]
    },
    {
     "name": "stdout",
     "output_type": "stream",
     "text": [
      "     1     1.989001e-05     1.491322e+02\n",
      "     2     3.439193e-11     1.381992e-04\n"
     ]
    },
    {
     "name": "stdout",
     "output_type": "stream",
     "text": [
      " > Computing solution at time 0.24000000000000007\n",
      "Iter     f(x) inf-norm    Step 2-norm \n",
      "------   --------------   --------------\n"
     ]
    },
    {
     "name": "stdout",
     "output_type": "stream",
     "text": [
      "     0     1.406460e-02              NaN\n",
      "     1     1.982166e-05     1.441678e+03\n"
     ]
    },
    {
     "name": "stdout",
     "output_type": "stream",
     "text": [
      "     2     3.408746e-11     1.374717e-04\n",
      " > Computing solution at time 0.25000000000000006\n",
      "Iter     f(x) inf-norm    Step 2-norm \n",
      "------   --------------   --------------\n",
      "     0     1.455031e-02              NaN\n"
     ]
    },
    {
     "name": "stdout",
     "output_type": "stream",
     "text": [
      "     1     1.980089e-05     1.497692e+02\n",
      "     2     3.376599e-11     1.392496e-04\n"
     ]
    },
    {
     "name": "stdout",
     "output_type": "stream",
     "text": [
      " > Computing solution at time 0.26000000000000006\n",
      "Iter     f(x) inf-norm    Step 2-norm \n",
      "------   --------------   --------------\n"
     ]
    },
    {
     "name": "stdout",
     "output_type": "stream",
     "text": [
      "     0     1.414436e-02              NaN\n",
      "     1     1.972821e-05     1.437189e+03\n"
     ]
    },
    {
     "name": "stdout",
     "output_type": "stream",
     "text": [
      "     2     3.330725e-11     1.385948e-04\n",
      " > Computing solution at time 0.2700000000000001\n",
      "Iter     f(x) inf-norm    Step 2-norm \n",
      "------   --------------   --------------\n",
      "     0     1.462751e-02              NaN\n"
     ]
    },
    {
     "name": "stdout",
     "output_type": "stream",
     "text": [
      "     1     1.969800e-05     1.505037e+02\n",
      "     2     3.282602e-11     1.401378e-04\n"
     ]
    },
    {
     "name": "stdout",
     "output_type": "stream",
     "text": [
      " > Computing solution at time 0.2800000000000001\n",
      "Iter     f(x) inf-norm    Step 2-norm \n",
      "------   --------------   --------------\n"
     ]
    },
    {
     "name": "stdout",
     "output_type": "stream",
     "text": [
      "     0     1.421933e-02              NaN\n",
      "     1     1.962094e-05     1.432908e+03\n"
     ]
    },
    {
     "name": "stdout",
     "output_type": "stream",
     "text": [
      "     2     3.223927e-11     1.395018e-04\n",
      " > Computing solution at time 0.2900000000000001\n",
      "Iter     f(x) inf-norm    Step 2-norm \n",
      "------   --------------   --------------\n",
      "     0     1.469989e-02              NaN\n"
     ]
    },
    {
     "name": "stdout",
     "output_type": "stream",
     "text": [
      "     1     1.958195e-05     1.513267e+02\n",
      "     2     3.162759e-11     1.408100e-04\n"
     ]
    },
    {
     "name": "stdout",
     "output_type": "stream",
     "text": [
      " > Computing solution at time 0.3000000000000001\n",
      "Iter     f(x) inf-norm    Step 2-norm \n",
      "------   --------------   --------------\n"
     ]
    },
    {
     "name": "stdout",
     "output_type": "stream",
     "text": [
      "     0     1.428942e-02              NaN\n",
      "     1     1.950050e-05     1.428777e+03\n"
     ]
    },
    {
     "name": "stdout",
     "output_type": "stream",
     "text": [
      "     2     3.093803e-11     1.401510e-04\n",
      " > Computing solution at time 0.3100000000000001\n",
      "Iter     f(x) inf-norm    Step 2-norm \n",
      "------   --------------   --------------\n",
      "     0     1.476733e-02              NaN\n"
     ]
    },
    {
     "name": "stdout",
     "output_type": "stream",
     "text": [
      "     1     1.945330e-05     1.522318e+02\n",
      "     2     3.022310e-11     1.412254e-04\n"
     ]
    },
    {
     "name": "stdout",
     "output_type": "stream",
     "text": [
      " > Computing solution at time 0.3200000000000001\n",
      "Iter     f(x) inf-norm    Step 2-norm \n",
      "------   --------------   --------------\n"
     ]
    },
    {
     "name": "stdout",
     "output_type": "stream",
     "text": [
      "     0     1.435451e-02              NaN\n",
      "     1     1.936753e-05     1.424748e+03\n"
     ]
    },
    {
     "name": "stdout",
     "output_type": "stream",
     "text": [
      "     2     2.963885e-11     1.405119e-04\n",
      " > Computing solution at time 0.3300000000000001\n",
      "Iter     f(x) inf-norm    Step 2-norm \n",
      "------   --------------   --------------\n",
      "     0     1.482974e-02              NaN\n"
     ]
    },
    {
     "name": "stdout",
     "output_type": "stream",
     "text": [
      "     1     1.931263e-05     1.532146e+02\n",
      "     2     2.946066e-11     1.413553e-04\n"
     ]
    },
    {
     "name": "stdout",
     "output_type": "stream",
     "text": [
      " > Computing solution at time 0.34000000000000014\n",
      "Iter     f(x) inf-norm    Step 2-norm \n",
      "------   --------------   --------------\n"
     ]
    },
    {
     "name": "stdout",
     "output_type": "stream",
     "text": [
      "     0     1.441451e-02              NaN\n",
      "     1     1.922258e-05     1.420778e+03\n"
     ]
    },
    {
     "name": "stdout",
     "output_type": "stream",
     "text": [
      "     2     2.923906e-11     1.405645e-04\n",
      " > Computing solution at time 0.35000000000000014\n",
      "Iter     f(x) inf-norm    Step 2-norm \n",
      "------   --------------   --------------\n",
      "     0     1.488701e-02              NaN\n"
     ]
    },
    {
     "name": "stdout",
     "output_type": "stream",
     "text": [
      "     1     1.916046e-05     1.542722e+02\n",
      "     2     2.893641e-11     1.411818e-04\n"
     ]
    },
    {
     "name": "stdout",
     "output_type": "stream",
     "text": [
      " > Computing solution at time 0.36000000000000015\n",
      "Iter     f(x) inf-norm    Step 2-norm \n",
      "------   --------------   --------------\n"
     ]
    },
    {
     "name": "stdout",
     "output_type": "stream",
     "text": [
      "     0     1.446931e-02              NaN\n",
      "     1     1.906623e-05     1.416831e+03\n"
     ]
    },
    {
     "name": "stdout",
     "output_type": "stream",
     "text": [
      "     2     2.860612e-11     1.402981e-04\n",
      " > Computing solution at time 0.37000000000000016\n",
      "Iter     f(x) inf-norm    Step 2-norm \n",
      "------   --------------   --------------\n",
      "     0     1.493904e-02              NaN\n"
     ]
    },
    {
     "name": "stdout",
     "output_type": "stream",
     "text": [
      "     1     1.899731e-05     1.554027e+02\n",
      "     2     2.819844e-11     1.406961e-04\n"
     ]
    },
    {
     "name": "stdout",
     "output_type": "stream",
     "text": [
      " > Computing solution at time 0.38000000000000017\n",
      "Iter     f(x) inf-norm    Step 2-norm \n",
      "------   --------------   --------------\n"
     ]
    },
    {
     "name": "stdout",
     "output_type": "stream",
     "text": [
      "     0     1.451882e-02              NaN\n",
      "     1     1.889899e-05     1.412873e+03\n"
     ]
    },
    {
     "name": "stdout",
     "output_type": "stream",
     "text": [
      "     2     2.777822e-11     1.397097e-04\n",
      " > Computing solution at time 0.3900000000000002\n",
      "Iter     f(x) inf-norm    Step 2-norm \n",
      "------   --------------   --------------\n",
      "     0     1.498574e-02              NaN\n"
     ]
    },
    {
     "name": "stdout",
     "output_type": "stream",
     "text": [
      "     1     1.882364e-05     1.566050e+02\n",
      "     2     2.728373e-11     1.398971e-04\n"
     ]
    },
    {
     "name": "stdout",
     "output_type": "stream",
     "text": [
      " > Computing solution at time 0.4000000000000002\n",
      "Iter     f(x) inf-norm    Step 2-norm \n",
      "------   --------------   --------------\n"
     ]
    },
    {
     "name": "stdout",
     "output_type": "stream",
     "text": [
      "     0     1.456296e-02              NaN\n",
      "     1     1.872133e-05     1.408876e+03\n"
     ]
    },
    {
     "name": "stdout",
     "output_type": "stream",
     "text": [
      "     2     2.678813e-11     1.388033e-04\n",
      " > Computing solution at time 0.4100000000000002\n",
      "Iter     f(x) inf-norm    Step 2-norm \n",
      "------   --------------   --------------\n",
      "     0     1.502703e-02              NaN\n"
     ]
    },
    {
     "name": "stdout",
     "output_type": "stream",
     "text": [
      "     1     1.863990e-05     1.578785e+02\n",
      "     2     2.622624e-11     1.387900e-04\n"
     ]
    },
    {
     "name": "stdout",
     "output_type": "stream",
     "text": [
      " > Computing solution at time 0.4200000000000002\n",
      "Iter     f(x) inf-norm    Step 2-norm \n",
      "------   --------------   --------------\n"
     ]
    },
    {
     "name": "stdout",
     "output_type": "stream",
     "text": [
      "     0     1.460162e-02              NaN\n",
      "     1     1.853372e-05     1.404814e+03\n"
     ]
    },
    {
     "name": "stdout",
     "output_type": "stream",
     "text": [
      "     2     2.567102e-11     1.375878e-04\n",
      " > Computing solution at time 0.4300000000000002\n",
      "Iter     f(x) inf-norm    Step 2-norm \n",
      "------   --------------   --------------\n",
      "     0     1.506280e-02              NaN\n"
     ]
    },
    {
     "name": "stdout",
     "output_type": "stream",
     "text": [
      "     1     1.844654e-05     1.592229e+02\n",
      "     2     2.505807e-11     1.373851e-04\n"
     ]
    },
    {
     "name": "stdout",
     "output_type": "stream",
     "text": [
      " > Computing solution at time 0.4400000000000002\n",
      "Iter     f(x) inf-norm    Step 2-norm \n",
      "------   --------------   --------------\n"
     ]
    },
    {
     "name": "stdout",
     "output_type": "stream",
     "text": [
      "     0     1.463472e-02              NaN\n",
      "     1     1.833659e-05     1.400665e+03\n"
     ]
    },
    {
     "name": "stdout",
     "output_type": "stream",
     "text": [
      "     2     2.445844e-11     1.360765e-04\n",
      " > Computing solution at time 0.45000000000000023\n",
      "Iter     f(x) inf-norm    Step 2-norm \n",
      "------   --------------   --------------\n",
      "     0     1.509297e-02              NaN\n"
     ]
    },
    {
     "name": "stdout",
     "output_type": "stream",
     "text": [
      "     1     1.824394e-05     1.606384e+02\n",
      "     2     2.380862e-11     1.356965e-04\n"
     ]
    },
    {
     "name": "stdout",
     "output_type": "stream",
     "text": [
      " > Computing solution at time 0.46000000000000024\n",
      "Iter     f(x) inf-norm    Step 2-norm \n",
      "------   --------------   --------------\n"
     ]
    },
    {
     "name": "stdout",
     "output_type": "stream",
     "text": [
      "     0     1.466218e-02              NaN\n",
      "     1     1.813034e-05     1.396407e+03\n"
     ]
    },
    {
     "name": "stdout",
     "output_type": "stream",
     "text": [
      "     2     2.317735e-11     1.342858e-04\n",
      " > Computing solution at time 0.47000000000000025\n",
      "Iter     f(x) inf-norm    Step 2-norm \n",
      "------   --------------   --------------\n",
      "     0     1.511747e-02              NaN\n"
     ]
    },
    {
     "name": "stdout",
     "output_type": "stream",
     "text": [
      "     1     1.803251e-05     1.621253e+02\n",
      "     2     2.250489e-11     1.337410e-04\n"
     ]
    },
    {
     "name": "stdout",
     "output_type": "stream",
     "text": [
      " > Computing solution at time 0.48000000000000026\n",
      "Iter     f(x) inf-norm    Step 2-norm \n",
      "------   --------------   --------------\n"
     ]
    },
    {
     "name": "stdout",
     "output_type": "stream",
     "text": [
      "     0     1.468392e-02              NaN\n",
      "     1     1.791536e-05     1.392023e+03\n"
     ]
    },
    {
     "name": "stdout",
     "output_type": "stream",
     "text": [
      "     2     2.185430e-11     1.322343e-04\n",
      " > Computing solution at time 0.49000000000000027\n",
      "Iter     f(x) inf-norm    Step 2-norm \n",
      "------   --------------   --------------\n",
      "     0     1.513622e-02              NaN\n"
     ]
    },
    {
     "name": "stdout",
     "output_type": "stream",
     "text": [
      "     1     1.781260e-05     1.636840e+02\n",
      "     2     2.116984e-11     1.315376e-04\n"
     ]
    },
    {
     "name": "stdout",
     "output_type": "stream",
     "text": [
      " > Computing solution at time 0.5000000000000002\n",
      "Iter     f(x) inf-norm    Step 2-norm \n",
      "------   --------------   --------------\n"
     ]
    },
    {
     "name": "stdout",
     "output_type": "stream",
     "text": [
      "     0     1.469986e-02              NaN\n",
      "     1     1.769202e-05     1.387496e+03\n"
     ]
    },
    {
     "name": "stdout",
     "output_type": "stream",
     "text": [
      "     2     2.050859e-11     1.299420e-04\n",
      " > Computing solution at time 0.5100000000000002\n",
      "Iter     f(x) inf-norm    Step 2-norm \n",
      "------   --------------   --------------\n",
      "     0     1.514913e-02              NaN\n"
     ]
    },
    {
     "name": "stdout",
     "output_type": "stream",
     "text": [
      "     1     1.758457e-05     1.653152e+02\n",
      "     2     1.982237e-11     1.291063e-04\n"
     ]
    },
    {
     "name": "stdout",
     "output_type": "stream",
     "text": [
      " > Computing solution at time 0.5200000000000002\n",
      "Iter     f(x) inf-norm    Step 2-norm \n",
      "------   --------------   --------------\n"
     ]
    },
    {
     "name": "stdout",
     "output_type": "stream",
     "text": [
      "     0     1.470993e-02              NaN\n",
      "     1     1.746068e-05     1.382810e+03\n"
     ]
    },
    {
     "name": "stdout",
     "output_type": "stream",
     "text": [
      "     2     1.916212e-11     1.274299e-04\n",
      " > Computing solution at time 0.5300000000000002\n",
      "Iter     f(x) inf-norm    Step 2-norm \n",
      "------   --------------   --------------\n",
      "     0     1.515614e-02              NaN\n"
     ]
    },
    {
     "name": "stdout",
     "output_type": "stream",
     "text": [
      "     1     1.734876e-05     1.670195e+02\n",
      "     2     1.848210e-11     1.264680e-04\n"
     ]
    },
    {
     "name": "stdout",
     "output_type": "stream",
     "text": [
      " > Computing solution at time 0.5400000000000003\n",
      "Iter     f(x) inf-norm    Step 2-norm \n",
      "------   --------------   --------------\n"
     ]
    },
    {
     "name": "stdout",
     "output_type": "stream",
     "text": [
      "     0     1.471406e-02              NaN\n",
      "     1     1.722168e-05     1.377954e+03\n"
     ]
    },
    {
     "name": "stdout",
     "output_type": "stream",
     "text": [
      "     2     1.782874e-11     1.247192e-04\n",
      " > Computing solution at time 0.5500000000000003\n",
      "Iter     f(x) inf-norm    Step 2-norm \n",
      "------   --------------   --------------\n",
      "     0     1.515718e-02              NaN\n"
     ]
    },
    {
     "name": "stdout",
     "output_type": "stream",
     "text": [
      "     1     1.710552e-05     1.687979e+02\n",
      "     2     1.716194e-11     1.236436e-04\n"
     ]
    },
    {
     "name": "stdout",
     "output_type": "stream",
     "text": [
      " > Computing solution at time 0.5600000000000003\n",
      "Iter     f(x) inf-norm    Step 2-norm \n",
      "------   --------------   --------------\n"
     ]
    },
    {
     "name": "stdout",
     "output_type": "stream",
     "text": [
      "     0     1.471218e-02              NaN\n",
      "     1     1.697536e-05     1.372915e+03\n"
     ]
    },
    {
     "name": "stdout",
     "output_type": "stream",
     "text": [
      "     2     1.652212e-11     1.218311e-04\n",
      " > Computing solution at time 0.5700000000000003\n",
      "Iter     f(x) inf-norm    Step 2-norm \n",
      "------   --------------   --------------\n",
      "     0     1.515218e-02              NaN\n"
     ]
    },
    {
     "name": "stdout",
     "output_type": "stream",
     "text": [
      "     1     1.685516e-05     1.706509e+02\n",
      "     2     1.587452e-11     1.206538e-04\n"
     ]
    },
    {
     "name": "stdout",
     "output_type": "stream",
     "text": [
      " > Computing solution at time 0.5800000000000003\n",
      "Iter     f(x) inf-norm    Step 2-norm \n",
      "------   --------------   --------------\n"
     ]
    },
    {
     "name": "stdout",
     "output_type": "stream",
     "text": [
      "     0     1.470424e-02              NaN\n",
      "     1     1.672205e-05     1.367682e+03\n"
     ]
    },
    {
     "name": "stdout",
     "output_type": "stream",
     "text": [
      "     2     1.525435e-11     1.187864e-04\n",
      " > Computing solution at time 0.5900000000000003\n",
      "Iter     f(x) inf-norm    Step 2-norm \n",
      "------   --------------   --------------\n",
      "     0     1.514109e-02              NaN\n"
     ]
    },
    {
     "name": "stdout",
     "output_type": "stream",
     "text": [
      "     1     1.659801e-05     1.725797e+02\n",
      "     2     1.470557e-11     1.175191e-04\n"
     ]
    },
    {
     "name": "stdout",
     "output_type": "stream",
     "text": [
      " > Computing solution at time 0.6000000000000003\n",
      "Iter     f(x) inf-norm    Step 2-norm \n",
      "------   --------------   --------------\n"
     ]
    },
    {
     "name": "stdout",
     "output_type": "stream",
     "text": [
      "     0     1.469017e-02              NaN\n",
      "     1     1.646206e-05     1.362248e+03\n"
     ]
    },
    {
     "name": "stdout",
     "output_type": "stream",
     "text": [
      "     2     1.419842e-11     1.156053e-04\n",
      " > Computing solution at time 0.6100000000000003\n",
      "Iter     f(x) inf-norm    Step 2-norm \n",
      "------   --------------   --------------\n",
      "     0     1.512385e-02              NaN\n"
     ]
    },
    {
     "name": "stdout",
     "output_type": "stream",
     "text": [
      "     1     1.633438e-05     1.745851e+02\n",
      "     2     1.373412e-11     1.142592e-04\n"
     ]
    },
    {
     "name": "stdout",
     "output_type": "stream",
     "text": [
      " > Computing solution at time 0.6200000000000003\n",
      "Iter     f(x) inf-norm    Step 2-norm \n",
      "------   --------------   --------------\n"
     ]
    },
    {
     "name": "stdout",
     "output_type": "stream",
     "text": [
      "     0     1.466992e-02              NaN\n",
      "     1     1.619572e-05     1.356603e+03\n"
     ]
    },
    {
     "name": "stdout",
     "output_type": "stream",
     "text": [
      "     2     1.332179e-11     1.123073e-04\n",
      " > Computing solution at time 0.6300000000000003\n",
      "Iter     f(x) inf-norm    Step 2-norm \n",
      "------   --------------   --------------\n",
      "     0     1.510041e-02              NaN\n"
     ]
    },
    {
     "name": "stdout",
     "output_type": "stream",
     "text": [
      "     1     1.606459e-05     1.766682e+02\n",
      "     2     1.287592e-11     1.108929e-04\n"
     ]
    },
    {
     "name": "stdout",
     "output_type": "stream",
     "text": [
      " > Computing solution at time 0.6400000000000003\n",
      "Iter     f(x) inf-norm    Step 2-norm \n",
      "------   --------------   --------------\n"
     ]
    },
    {
     "name": "stdout",
     "output_type": "stream",
     "text": [
      "     0     1.464344e-02              NaN\n",
      "     1     1.592334e-05     1.350741e+03\n"
     ]
    },
    {
     "name": "stdout",
     "output_type": "stream",
     "text": [
      "     2     1.246825e-11     1.089111e-04\n",
      " > Computing solution at time 0.6500000000000004\n",
      "Iter     f(x) inf-norm    Step 2-norm \n",
      "------   --------------   --------------\n",
      "     0     1.507072e-02              NaN\n"
     ]
    },
    {
     "name": "stdout",
     "output_type": "stream",
     "text": [
      "     1     1.578894e-05     1.788299e+02\n",
      "     2     1.202993e-11     1.074383e-04\n"
     ]
    },
    {
     "name": "stdout",
     "output_type": "stream",
     "text": [
      " > Computing solution at time 0.6600000000000004\n",
      "Iter     f(x) inf-norm    Step 2-norm \n",
      "------   --------------   --------------\n"
     ]
    },
    {
     "name": "stdout",
     "output_type": "stream",
     "text": [
      "     0     1.461069e-02              NaN\n",
      "     1     1.564523e-05     1.344656e+03\n"
     ]
    },
    {
     "name": "stdout",
     "output_type": "stream",
     "text": [
      "     2     1.163158e-11     1.054342e-04\n",
      " > Computing solution at time 0.6700000000000004\n",
      "Iter     f(x) inf-norm    Step 2-norm \n",
      "------   --------------   --------------\n",
      "     0     1.503473e-02              NaN\n"
     ]
    },
    {
     "name": "stdout",
     "output_type": "stream",
     "text": [
      "     1     1.550775e-05     1.810714e+02\n",
      "     2     1.120459e-11     1.039125e-04\n"
     ]
    },
    {
     "name": "stdout",
     "output_type": "stream",
     "text": [
      " > Computing solution at time 0.6800000000000004\n",
      "Iter     f(x) inf-norm    Step 2-norm \n",
      "------   --------------   --------------\n"
     ]
    },
    {
     "name": "stdout",
     "output_type": "stream",
     "text": [
      "     0     1.457162e-02              NaN\n",
      "     1     1.536170e-05     1.338343e+03\n"
     ]
    },
    {
     "name": "stdout",
     "output_type": "stream",
     "text": [
      "     2     1.081846e-11     1.018934e-04\n",
      " > Computing solution at time 0.6900000000000004\n",
      "Iter     f(x) inf-norm    Step 2-norm \n",
      "------   --------------   --------------\n",
      "     0     1.499240e-02              NaN\n"
     ]
    },
    {
     "name": "stdout",
     "output_type": "stream",
     "text": [
      "     1     1.522133e-05     1.833939e+02\n",
      "     2     1.040323e-11     1.003317e-04\n"
     ]
    },
    {
     "name": "stdout",
     "output_type": "stream",
     "text": [
      " > Computing solution at time 0.7000000000000004\n",
      "Iter     f(x) inf-norm    Step 2-norm \n",
      "------   --------------   --------------\n"
     ]
    },
    {
     "name": "stdout",
     "output_type": "stream",
     "text": [
      "     0     1.452619e-02              NaN\n",
      "     1     1.507307e-05     1.331799e+03\n"
     ]
    },
    {
     "name": "stdout",
     "output_type": "stream",
     "text": [
      "     2     1.003087e-11     9.830450e-05\n",
      " > Computing solution at time 0.7100000000000004\n",
      "Iter     f(x) inf-norm    Step 2-norm \n",
      "------   --------------   --------------\n",
      "     0     1.494371e-02              NaN\n"
     ]
    },
    {
     "name": "stdout",
     "output_type": "stream",
     "text": [
      "     1     1.492998e-05     1.857986e+02\n",
      "     2     9.631851e-12     9.671106e-05\n"
     ]
    },
    {
     "name": "stdout",
     "output_type": "stream",
     "text": [
      " > Computing solution at time 0.7200000000000004\n",
      "Iter     f(x) inf-norm    Step 2-norm \n",
      "------   --------------   --------------\n"
     ]
    },
    {
     "name": "stdout",
     "output_type": "stream",
     "text": [
      "     0     1.447437e-02              NaN\n",
      "     1     1.477965e-05     1.325019e+03\n"
     ]
    },
    {
     "name": "stdout",
     "output_type": "stream",
     "text": [
      "     2     9.276357e-12     9.468225e-05\n",
      " > Computing solution at time 0.7300000000000004\n",
      "Iter     f(x) inf-norm    Step 2-norm \n",
      "------   --------------   --------------\n",
      "     0     1.488862e-02              NaN\n"
     ]
    },
    {
     "name": "stdout",
     "output_type": "stream",
     "text": [
      "     1     1.463402e-05     1.882868e+02\n",
      "     2     8.893331e-12     9.306484e-05\n"
     ]
    },
    {
     "name": "stdout",
     "output_type": "stream",
     "text": [
      " > Computing solution at time 0.7400000000000004\n",
      "Iter     f(x) inf-norm    Step 2-norm \n",
      "------   --------------   --------------\n"
     ]
    },
    {
     "name": "stdout",
     "output_type": "stream",
     "text": [
      "     0     1.441614e-02              NaN\n",
      "     1     1.448176e-05     1.318001e+03\n"
     ]
    },
    {
     "name": "stdout",
     "output_type": "stream",
     "text": [
      "     2     8.553602e-12     9.104050e-05\n",
      " > Computing solution at time 0.7500000000000004\n",
      "Iter     f(x) inf-norm    Step 2-norm \n",
      "------   --------------   --------------\n",
      "     0     1.482709e-02              NaN\n"
     ]
    },
    {
     "name": "stdout",
     "output_type": "stream",
     "text": [
      "     1     1.433375e-05     1.908597e+02\n",
      "     2     8.190781e-12     8.940637e-05\n"
     ]
    },
    {
     "name": "stdout",
     "output_type": "stream",
     "text": [
      " > Computing solution at time 0.7600000000000005\n"
     ]
    },
    {
     "name": "stdout",
     "output_type": "stream",
     "text": [
      "Iter     f(x) inf-norm    Step 2-norm \n",
      "------   --------------   --------------\n",
      "     0     1.435146e-02              NaN\n",
      "     1     1.417970e-05     1.310744e+03\n"
     ]
    },
    {
     "name": "stdout",
     "output_type": "stream",
     "text": [
      "     2     7.867040e-12     8.739218e-05\n",
      " > Computing solution at time 0.7700000000000005\n",
      "Iter     f(x) inf-norm    Step 2-norm \n",
      "------   --------------   --------------\n",
      "     0     1.475911e-02              NaN\n"
     ]
    },
    {
     "name": "stdout",
     "output_type": "stream",
     "text": [
      "     1     1.402950e-05     1.935189e+02\n",
      "     2     7.521983e-12     8.574809e-05\n"
     ]
    },
    {
     "name": "stdout",
     "output_type": "stream",
     "text": [
      " > Computing solution at time 0.7800000000000005\n",
      "Iter     f(x) inf-norm    Step 2-norm \n",
      "------   --------------   --------------\n"
     ]
    },
    {
     "name": "stdout",
     "output_type": "stream",
     "text": [
      "     0     1.428032e-02              NaN\n",
      "     1     1.387379e-05     1.303247e+03\n"
     ]
    },
    {
     "name": "stdout",
     "output_type": "stream",
     "text": [
      "     2     7.219558e-12     8.374933e-05\n",
      " > Computing solution at time 0.7900000000000005\n",
      "Iter     f(x) inf-norm    Step 2-norm \n",
      "------   --------------   --------------\n",
      "     0     1.468467e-02              NaN\n"
     ]
    },
    {
     "name": "stdout",
     "output_type": "stream",
     "text": [
      "     1     1.372158e-05     1.962658e+02\n",
      "     2     6.894485e-12     8.210156e-05\n"
     ]
    },
    {
     "name": "stdout",
     "output_type": "stream",
     "text": [
      " > Computing solution at time 0.8000000000000005\n",
      "Iter     f(x) inf-norm    Step 2-norm \n",
      "------   --------------   --------------\n"
     ]
    },
    {
     "name": "stdout",
     "output_type": "stream",
     "text": [
      "     0     1.420270e-02              NaN\n",
      "     1     1.356435e-05     1.295509e+03\n"
     ]
    },
    {
     "name": "stdout",
     "output_type": "stream",
     "text": [
      "     2     6.606715e-12     8.012312e-05\n",
      " > Computing solution at time 0.8100000000000005\n",
      "Iter     f(x) inf-norm    Step 2-norm \n",
      "------   --------------   --------------\n",
      "     0     1.460374e-02              NaN\n"
     ]
    },
    {
     "name": "stdout",
     "output_type": "stream",
     "text": [
      "     1     1.341030e-05     1.991019e+02\n",
      "     2     6.302070e-12     7.847752e-05\n"
     ]
    },
    {
     "name": "stdout",
     "output_type": "stream",
     "text": [
      " > Computing solution at time 0.8200000000000005\n",
      "Iter     f(x) inf-norm    Step 2-norm \n",
      "------   --------------   --------------\n"
     ]
    },
    {
     "name": "stdout",
     "output_type": "stream",
     "text": [
      "     0     1.411859e-02              NaN\n",
      "     1     1.325170e-05     1.287530e+03\n"
     ]
    },
    {
     "name": "stdout",
     "output_type": "stream",
     "text": [
      "     2     6.033840e-12     7.652394e-05\n",
      " > Computing solution at time 0.8300000000000005\n",
      "Iter     f(x) inf-norm    Step 2-norm \n",
      "------   --------------   --------------\n",
      "     0     1.451631e-02              NaN\n"
     ]
    },
    {
     "name": "stdout",
     "output_type": "stream",
     "text": [
      "     1     1.309598e-05     2.020290e+02\n",
      "     2     5.750067e-12     7.488590e-05\n"
     ]
    },
    {
     "name": "stdout",
     "output_type": "stream",
     "text": [
      " > Computing solution at time 0.8400000000000005\n",
      "Iter     f(x) inf-norm    Step 2-norm \n",
      "------   --------------   --------------\n"
     ]
    },
    {
     "name": "stdout",
     "output_type": "stream",
     "text": [
      "     0     1.402798e-02              NaN\n",
      "     1     1.293616e-05     1.279312e+03\n"
     ]
    },
    {
     "name": "stdout",
     "output_type": "stream",
     "text": [
      "     2     5.500489e-12     7.296136e-05\n",
      " > Computing solution at time 0.8500000000000005\n",
      "Iter     f(x) inf-norm    Step 2-norm \n",
      "------   --------------   --------------\n",
      "     0     1.442239e-02              NaN\n"
     ]
    },
    {
     "name": "stdout",
     "output_type": "stream",
     "text": [
      "     1     1.277894e-05     2.050487e+02\n",
      "     2     5.233591e-12     7.133591e-05\n"
     ]
    },
    {
     "name": "stdout",
     "output_type": "stream",
     "text": [
      " > Computing solution at time 0.8600000000000005\n",
      "Iter     f(x) inf-norm    Step 2-norm \n",
      "------   --------------   --------------\n"
     ]
    },
    {
     "name": "stdout",
     "output_type": "stream",
     "text": [
      "     0     1.393087e-02              NaN\n",
      "     1     1.261804e-05     1.270855e+03\n"
     ]
    },
    {
     "name": "stdout",
     "output_type": "stream",
     "text": [
      "     2     5.009992e-12     6.944423e-05\n",
      " > Computing solution at time 0.8700000000000006\n",
      "Iter     f(x) inf-norm    Step 2-norm \n",
      "------   --------------   --------------\n",
      "     0     1.432197e-02              NaN\n"
     ]
    },
    {
     "name": "stdout",
     "output_type": "stream",
     "text": [
      "     1     1.245950e-05     2.081627e+02\n",
      "     2     4.807932e-12     6.783597e-05\n"
     ]
    },
    {
     "name": "stdout",
     "output_type": "stream",
     "text": [
      " > Computing solution at time 0.8800000000000006\n",
      "Iter     f(x) inf-norm    Step 2-norm \n",
      "------   --------------   --------------\n"
     ]
    },
    {
     "name": "stdout",
     "output_type": "stream",
     "text": [
      "     0     1.382727e-02              NaN\n",
      "     1     1.229768e-05     1.262162e+03\n"
     ]
    },
    {
     "name": "stdout",
     "output_type": "stream",
     "text": [
      "     2     4.621858e-12     6.598067e-05\n",
      " > Computing solution at time 0.8900000000000006\n",
      "Iter     f(x) inf-norm    Step 2-norm \n",
      "------   --------------   --------------\n",
      "     0     1.421505e-02              NaN\n"
     ]
    },
    {
     "name": "stdout",
     "output_type": "stream",
     "text": [
      "     1     1.213799e-05     2.113730e+02\n",
      "     2     4.429346e-12     6.439385e-05\n"
     ]
    },
    {
     "name": "stdout",
     "output_type": "stream",
     "text": [
      " > Computing solution at time 0.9000000000000006\n",
      "Iter     f(x) inf-norm    Step 2-norm \n",
      "------   --------------   --------------\n"
     ]
    },
    {
     "name": "stdout",
     "output_type": "stream",
     "text": [
      "     0     1.371717e-02              NaN\n",
      "     1     1.197538e-05     1.253234e+03\n"
     ]
    },
    {
     "name": "stdout",
     "output_type": "stream",
     "text": [
      "     2     4.253042e-12     6.257812e-05\n",
      " > Computing solution at time 0.9100000000000006\n",
      "Iter     f(x) inf-norm    Step 2-norm \n",
      "------   --------------   --------------\n",
      "     0     1.410165e-02              NaN\n"
     ]
    },
    {
     "name": "stdout",
     "output_type": "stream",
     "text": [
      "     1     1.181472e-05     2.146815e+02\n",
      "     2     4.071854e-12     6.101662e-05\n"
     ]
    },
    {
     "name": "stdout",
     "output_type": "stream",
     "text": [
      " > Computing solution at time 0.9200000000000006\n",
      "Iter     f(x) inf-norm    Step 2-norm \n",
      "------   --------------   --------------\n"
     ]
    },
    {
     "name": "stdout",
     "output_type": "stream",
     "text": [
      "     0     1.360058e-02              NaN\n",
      "     1     1.165149e-05     1.244076e+03\n"
     ]
    },
    {
     "name": "stdout",
     "output_type": "stream",
     "text": [
      "     2     3.903988e-12     5.924335e-05\n",
      " > Computing solution at time 0.9300000000000006\n",
      "Iter     f(x) inf-norm    Step 2-norm \n",
      "------   --------------   --------------\n",
      "     0     1.398177e-02              NaN\n"
     ]
    },
    {
     "name": "stdout",
     "output_type": "stream",
     "text": [
      "     1     1.149002e-05     2.180901e+02\n",
      "     2     3.734346e-12     5.771073e-05\n"
     ]
    },
    {
     "name": "stdout",
     "output_type": "stream",
     "text": [
      " > Computing solution at time 0.9400000000000006\n",
      "Iter     f(x) inf-norm    Step 2-norm \n",
      "------   --------------   --------------\n"
     ]
    },
    {
     "name": "stdout",
     "output_type": "stream",
     "text": [
      "     0     1.347754e-02              NaN\n",
      "     1     1.132632e-05     1.234689e+03\n"
     ]
    },
    {
     "name": "stdout",
     "output_type": "stream",
     "text": [
      "     2     3.578915e-12     5.598251e-05\n",
      " > Computing solution at time 0.9500000000000006\n",
      "Iter     f(x) inf-norm    Step 2-norm \n",
      "------   --------------   --------------\n",
      "     0     1.385545e-02              NaN\n"
     ]
    },
    {
     "name": "stdout",
     "output_type": "stream",
     "text": [
      "     1     1.116422e-05     2.216010e+02\n",
      "     2     3.418599e-12     5.448199e-05\n"
     ]
    },
    {
     "name": "stdout",
     "output_type": "stream",
     "text": [
      " > Computing solution at time 0.9600000000000006\n",
      "Iter     f(x) inf-norm    Step 2-norm \n",
      "------   --------------   --------------\n"
     ]
    },
    {
     "name": "stdout",
     "output_type": "stream",
     "text": [
      "     0     1.334804e-02              NaN\n",
      "     1     1.100020e-05     1.225078e+03\n"
     ]
    },
    {
     "name": "stdout",
     "output_type": "stream",
     "text": [
      "     2     3.270717e-12     5.280115e-05\n",
      " > Computing solution at time 0.9700000000000006\n",
      "Iter     f(x) inf-norm    Step 2-norm \n",
      "------   --------------   --------------\n",
      "     0     1.372268e-02              NaN\n"
     ]
    },
    {
     "name": "stdout",
     "output_type": "stream",
     "text": [
      "     1     1.083764e-05     2.252162e+02\n",
      "     2     3.120615e-12     5.133565e-05\n"
     ]
    },
    {
     "name": "stdout",
     "output_type": "stream",
     "text": [
      " > Computing solution at time 0.9800000000000006\n",
      "Iter     f(x) inf-norm    Step 2-norm \n",
      "------   --------------   --------------\n"
     ]
    },
    {
     "name": "stdout",
     "output_type": "stream",
     "text": [
      "     0     1.321213e-02              NaN\n",
      "     1     1.067346e-05     1.215247e+03\n"
     ]
    },
    {
     "name": "stdout",
     "output_type": "stream",
     "text": [
      "     2     2.983391e-12     4.970422e-05\n",
      " > Computing solution at time 0.9900000000000007\n",
      "Iter     f(x) inf-norm    Step 2-norm \n",
      "------   --------------   --------------\n",
      "     0     1.358352e-02              NaN\n"
     ]
    },
    {
     "name": "stdout",
     "output_type": "stream",
     "text": [
      "     1     1.051061e-05     2.289380e+02\n",
      "     2     2.871037e-12     4.827635e-05\n"
     ]
    },
    {
     "name": "stdout",
     "output_type": "stream",
     "text": [
      " > Computing solution at time 1.0000000000000007\n",
      "Iter     f(x) inf-norm    Step 2-norm \n",
      "------   --------------   --------------\n"
     ]
    },
    {
     "name": "stdout",
     "output_type": "stream",
     "text": [
      "     0     1.306983e-02              NaN\n",
      "     1     1.034642e-05     1.205201e+03\n"
     ]
    },
    {
     "name": "stdout",
     "output_type": "stream",
     "text": [
      "     2     2.747580e-12     4.669612e-05\n",
      " > Computing solution at time 1.0100000000000007\n",
      "Iter     f(x) inf-norm    Step 2-norm \n",
      "------   --------------   --------------\n",
      "     0     1.343798e-02              NaN\n"
     ]
    },
    {
     "name": "stdout",
     "output_type": "stream",
     "text": [
      "     1     1.018345e-05     2.327687e+02\n",
      "     2     2.643663e-12     4.530820e-05\n"
     ]
    },
    {
     "name": "stdout",
     "output_type": "stream",
     "text": [
      " > Computing solution at time 1.0200000000000007\n",
      "Iter     f(x) inf-norm    Step 2-norm \n",
      "------   --------------   --------------\n"
     ]
    },
    {
     "name": "stdout",
     "output_type": "stream",
     "text": [
      "     0     1.292117e-02              NaN\n",
      "     1     1.001941e-05     1.194944e+03\n"
     ]
    },
    {
     "name": "stdout",
     "output_type": "stream",
     "text": [
      "     2     2.528200e-12     4.378070e-05\n",
      " > Computing solution at time 1.0300000000000007\n",
      "Iter     f(x) inf-norm    Step 2-norm \n",
      "------   --------------   --------------\n",
      "     0     1.328610e-02              NaN\n"
     ]
    },
    {
     "name": "stdout",
     "output_type": "stream",
     "text": [
      "     1     9.856495e-06     2.367106e+02\n",
      "     2     2.426948e-12     4.243479e-05\n"
     ]
    },
    {
     "name": "stdout",
     "output_type": "stream",
     "text": [
      " > Computing solution at time 1.0400000000000007\n",
      "Iter     f(x) inf-norm    Step 2-norm \n",
      "------   --------------   --------------\n"
     ]
    },
    {
     "name": "stdout",
     "output_type": "stream",
     "text": [
      "     0     1.276619e-02              NaN\n",
      "     1     9.692757e-06     1.184482e+03\n"
     ]
    },
    {
     "name": "stdout",
     "output_type": "stream",
     "text": [
      "     2     2.315481e-12     4.096131e-05\n",
      " > Computing solution at time 1.0500000000000007\n",
      "Iter     f(x) inf-norm    Step 2-norm \n",
      "------   --------------   --------------\n",
      "     0     1.312793e-02              NaN\n"
     ]
    },
    {
     "name": "stdout",
     "output_type": "stream",
     "text": [
      "     1     9.530063e-06     2.407660e+02\n",
      "     2     2.223555e-12     3.965917e-05\n"
     ]
    },
    {
     "name": "stdout",
     "output_type": "stream",
     "text": [
      " > Computing solution at time 1.0600000000000007\n",
      "Iter     f(x) inf-norm    Step 2-norm \n",
      "------   --------------   --------------\n"
     ]
    },
    {
     "name": "stdout",
     "output_type": "stream",
     "text": [
      "     0     1.260494e-02              NaN\n",
      "     1     9.366784e-06     1.173819e+03\n"
     ]
    },
    {
     "name": "stdout",
     "output_type": "stream",
     "text": [
      "     2     2.120526e-12     3.824076e-05\n",
      " > Computing solution at time 1.0700000000000007\n",
      "Iter     f(x) inf-norm    Step 2-norm \n"
     ]
    },
    {
     "name": "stdout",
     "output_type": "stream",
     "text": [
      "------   --------------   --------------\n",
      "     0     1.296351e-02              NaN\n"
     ]
    },
    {
     "name": "stdout",
     "output_type": "stream",
     "text": [
      "     1     9.204482e-06     2.449374e+02\n",
      "     2     2.030820e-12     3.698393e-05\n"
     ]
    },
    {
     "name": "stdout",
     "output_type": "stream",
     "text": [
      " > Computing solution at time 1.0800000000000007\n",
      "Iter     f(x) inf-norm    Step 2-norm \n",
      "------   --------------   --------------\n"
     ]
    },
    {
     "name": "stdout",
     "output_type": "stream",
     "text": [
      "     0     1.243746e-02              NaN\n",
      "     1     9.041818e-06     1.162963e+03\n"
     ]
    },
    {
     "name": "stdout",
     "output_type": "stream",
     "text": [
      "     2     1.935785e-12     3.562141e-05\n",
      " > Computing solution at time 1.0900000000000007\n",
      "Iter     f(x) inf-norm    Step 2-norm \n",
      "------   --------------   --------------\n",
      "     0     1.279289e-02              NaN\n"
     ]
    },
    {
     "name": "stdout",
     "output_type": "stream",
     "text": [
      "     1     8.880074e-06     2.492273e+02\n",
      "     2     1.851852e-12     3.441115e-05\n"
     ]
    },
    {
     "name": "stdout",
     "output_type": "stream",
     "text": [
      " > Computing solution at time 1.1000000000000008\n",
      "Iter     f(x) inf-norm    Step 2-norm \n",
      "------   --------------   --------------\n"
     ]
    },
    {
     "name": "stdout",
     "output_type": "stream",
     "text": [
      "     0     1.226381e-02              NaN\n",
      "     1     8.718182e-06     1.151919e+03\n"
     ]
    },
    {
     "name": "stdout",
     "output_type": "stream",
     "text": [
      "     2     1.759037e-12     3.310512e-05\n",
      " > Computing solution at time 1.1100000000000008\n",
      "Iter     f(x) inf-norm    Step 2-norm \n",
      "------   --------------   --------------\n",
      "     0     1.261612e-02              NaN\n"
     ]
    },
    {
     "name": "stdout",
     "output_type": "stream",
     "text": [
      "     1     8.557163e-06     2.536381e+02\n",
      "     2     1.681322e-12     3.194247e-05\n"
     ]
    },
    {
     "name": "stdout",
     "output_type": "stream",
     "text": [
      " > Computing solution at time 1.1200000000000008\n",
      "Iter     f(x) inf-norm    Step 2-norm \n",
      "------   --------------   --------------\n"
     ]
    },
    {
     "name": "stdout",
     "output_type": "stream",
     "text": [
      "     0     1.208404e-02              NaN\n",
      "     1     8.396196e-06     1.140694e+03\n"
     ]
    },
    {
     "name": "stdout",
     "output_type": "stream",
     "text": [
      "     2     1.600942e-12     3.069333e-05\n",
      " > Computing solution at time 1.1300000000000008\n",
      "Iter     f(x) inf-norm    Step 2-norm \n",
      "------   --------------   --------------\n",
      "     0     1.243327e-02              NaN\n"
     ]
    },
    {
     "name": "stdout",
     "output_type": "stream",
     "text": [
      "     1     8.236068e-06     2.581725e+02\n",
      "     2     1.524114e-12     2.957909e-05\n"
     ]
    },
    {
     "name": "stdout",
     "output_type": "stream",
     "text": [
      " > Computing solution at time 1.1400000000000008\n",
      "Iter     f(x) inf-norm    Step 2-norm \n",
      "------   --------------   --------------\n"
     ]
    },
    {
     "name": "stdout",
     "output_type": "stream",
     "text": [
      "     0     1.189822e-02              NaN\n",
      "     1     8.076182e-06     1.129294e+03\n"
     ]
    },
    {
     "name": "stdout",
     "output_type": "stream",
     "text": [
      "     2     1.447731e-12     2.838702e-05\n",
      " > Computing solution at time 1.1500000000000008\n",
      "Iter     f(x) inf-norm    Step 2-norm \n",
      "------   --------------   --------------\n",
      "     0     1.224440e-02              NaN\n"
     ]
    },
    {
     "name": "stdout",
     "output_type": "stream",
     "text": [
      "     1     7.917108e-06     2.628329e+02\n",
      "     2     1.377565e-12     2.732177e-05\n"
     ]
    },
    {
     "name": "stdout",
     "output_type": "stream",
     "text": [
      " > Computing solution at time 1.1600000000000008\n",
      "Iter     f(x) inf-norm    Step 2-norm \n",
      "------   --------------   --------------\n"
     ]
    },
    {
     "name": "stdout",
     "output_type": "stream",
     "text": [
      "     0     1.170640e-02              NaN\n",
      "     1     7.758458e-06     1.117727e+03\n"
     ]
    },
    {
     "name": "stdout",
     "output_type": "stream",
     "text": [
      "     2     1.304734e-12     2.618677e-05\n",
      " > Computing solution at time 1.1700000000000008\n",
      "Iter     f(x) inf-norm    Step 2-norm \n",
      "------   --------------   --------------\n",
      "     0     1.204957e-02              NaN\n"
     ]
    },
    {
     "name": "stdout",
     "output_type": "stream",
     "text": [
      "     1     7.600601e-06     2.676220e+02\n",
      "     2     1.242562e-12     2.517087e-05\n"
     ]
    },
    {
     "name": "stdout",
     "output_type": "stream",
     "text": [
      " > Computing solution at time 1.1800000000000008\n",
      "Iter     f(x) inf-norm    Step 2-norm \n",
      "------   --------------   --------------\n"
     ]
    },
    {
     "name": "stdout",
     "output_type": "stream",
     "text": [
      "     0     1.150867e-02              NaN\n",
      "     1     7.443339e-06     1.105998e+03\n"
     ]
    },
    {
     "name": "stdout",
     "output_type": "stream",
     "text": [
      "     2     1.175948e-12     2.409274e-05\n",
      " > Computing solution at time 1.1900000000000008\n",
      "Iter     f(x) inf-norm    Step 2-norm \n",
      "------   --------------   --------------\n",
      "     0     1.184886e-02              NaN\n"
     ]
    },
    {
     "name": "stdout",
     "output_type": "stream",
     "text": [
      "     1     7.286860e-06     2.725423e+02\n",
      "     2     1.115552e-12     2.312635e-05\n"
     ]
    },
    {
     "name": "stdout",
     "output_type": "stream",
     "text": [
      " > Computing solution at time 1.2000000000000008\n",
      "Iter     f(x) inf-norm    Step 2-norm \n",
      "------   --------------   --------------\n"
     ]
    },
    {
     "name": "stdout",
     "output_type": "stream",
     "text": [
      "     0     1.130509e-02              NaN\n",
      "     1     7.131137e-06     1.094117e+03\n"
     ]
    },
    {
     "name": "stdout",
     "output_type": "stream",
     "text": [
      "     2     1.056932e-12     2.210472e-05\n",
      " > Computing solution at time 1.2100000000000009\n",
      "Iter     f(x) inf-norm    Step 2-norm \n",
      "------   --------------   --------------\n",
      "     0     1.164235e-02              NaN\n"
     ]
    },
    {
     "name": "stdout",
     "output_type": "stream",
     "text": [
      "     1     6.976196e-06     2.775964e+02\n",
      "     2     1.000977e-12     2.118781e-05\n"
     ]
    },
    {
     "name": "stdout",
     "output_type": "stream",
     "text": [
      " > Computing solution at time 1.2200000000000009\n",
      "Iter     f(x) inf-norm    Step 2-norm \n",
      "------   --------------   --------------\n"
     ]
    },
    {
     "name": "stdout",
     "output_type": "stream",
     "text": [
      "     0     1.109575e-02              NaN\n",
      "     1     6.822164e-06     1.082090e+03\n"
     ]
    },
    {
     "name": "stdout",
     "output_type": "stream",
     "text": [
      "     2     9.467982e-13     2.022212e-05\n",
      " > Computing solution at time 1.2300000000000009\n",
      "Iter     f(x) inf-norm    Step 2-norm \n",
      "------   --------------   --------------\n",
      "     0     1.143011e-02              NaN\n"
     ]
    },
    {
     "name": "stdout",
     "output_type": "stream",
     "text": [
      "     1     6.668918e-06     2.827870e+02\n",
      "     2     8.952838e-13     1.935447e-05\n"
     ]
    },
    {
     "name": "stdout",
     "output_type": "stream",
     "text": [
      " > Computing solution at time 1.2400000000000009\n",
      "Iter     f(x) inf-norm    Step 2-norm \n",
      "------   --------------   --------------\n"
     ]
    },
    {
     "name": "stdout",
     "output_type": "stream",
     "text": [
      "     0     1.088072e-02              NaN\n",
      "     1     6.516725e-06     1.069926e+03\n"
     ]
    },
    {
     "name": "stdout",
     "output_type": "stream",
     "text": [
      "     2     8.455459e-13     1.844401e-05\n",
      " > Computing solution at time 1.2500000000000009\n",
      "Iter     f(x) inf-norm    Step 2-norm \n",
      "------   --------------   --------------\n",
      "     0     1.121224e-02              NaN\n"
     ]
    },
    {
     "name": "stdout",
     "output_type": "stream",
     "text": [
      "     1     6.365330e-06     2.881166e+02\n",
      "     2     7.966960e-13     1.762523e-05\n"
     ]
    },
    {
     "name": "stdout",
     "output_type": "stream",
     "text": [
      " > Computing solution at time 1.260000000000001\n",
      "Iter     f(x) inf-norm    Step 2-norm \n",
      "------   --------------   --------------\n"
     ]
    },
    {
     "name": "stdout",
     "output_type": "stream",
     "text": [
      "     0     1.066011e-02              NaN\n",
      "     1     6.215125e-06     1.057631e+03\n"
     ]
    },
    {
     "name": "stdout",
     "output_type": "stream",
     "text": [
      "     2     7.513989e-13     1.676912e-05\n",
      " > Computing solution at time 1.270000000000001\n",
      "Iter     f(x) inf-norm    Step 2-norm \n",
      "------   --------------   --------------\n",
      "     0     1.098882e-02              NaN\n"
     ]
    },
    {
     "name": "stdout",
     "output_type": "stream",
     "text": [
      "     1     6.065733e-06     2.935877e+02\n",
      "     2     7.096546e-13     1.599864e-05\n"
     ]
    },
    {
     "name": "stdout",
     "output_type": "stream",
     "text": [
      " > Computing solution at time 1.280000000000001\n",
      "Iter     f(x) inf-norm    Step 2-norm \n",
      "------   --------------   --------------\n"
     ]
    },
    {
     "name": "stdout",
     "output_type": "stream",
     "text": [
      "     0     1.043399e-02              NaN\n",
      "     1     5.917661e-06     1.045215e+03\n"
     ]
    },
    {
     "name": "stdout",
     "output_type": "stream",
     "text": [
      "     2     6.670220e-13     1.519588e-05\n",
      " > Computing solution at time 1.290000000000001\n",
      "Iter     f(x) inf-norm    Step 2-norm \n",
      "------   --------------   --------------\n",
      "     0     1.075994e-02              NaN\n"
     ]
    },
    {
     "name": "stdout",
     "output_type": "stream",
     "text": [
      "     1     5.770425e-06     2.992029e+02\n",
      "     2     6.288303e-13     1.447296e-05\n"
     ]
    },
    {
     "name": "stdout",
     "output_type": "stream",
     "text": [
      " > Computing solution at time 1.300000000000001\n",
      "Iter     f(x) inf-norm    Step 2-norm \n",
      "------   --------------   --------------\n"
     ]
    },
    {
     "name": "stdout",
     "output_type": "stream",
     "text": [
      "     0     1.020246e-02              NaN\n",
      "     1     5.624630e-06     1.032685e+03\n"
     ]
    },
    {
     "name": "stdout",
     "output_type": "stream",
     "text": [
      "     2     5.915268e-13     1.372240e-05\n",
      " > Computing solution at time 1.310000000000001\n",
      "Iter     f(x) inf-norm    Step 2-norm \n",
      "------   --------------   --------------\n",
      "     0     1.052571e-02              NaN\n"
     ]
    },
    {
     "name": "stdout",
     "output_type": "stream",
     "text": [
      "     1     5.479698e-06     3.049646e+02\n",
      "     2     5.551115e-13     1.304618e-05\n"
     ]
    },
    {
     "name": "stdout",
     "output_type": "stream",
     "text": [
      " > Computing solution at time 1.320000000000001\n",
      "Iter     f(x) inf-norm    Step 2-norm \n",
      "------   --------------   --------------\n"
     ]
    },
    {
     "name": "stdout",
     "output_type": "stream",
     "text": [
      "     0     9.965629e-03              NaN\n",
      "     1     5.336321e-06     1.020049e+03\n"
     ]
    },
    {
     "name": "stdout",
     "output_type": "stream",
     "text": [
      "     2     5.204726e-13     1.234652e-05\n",
      " > Computing solution at time 1.330000000000001\n",
      "Iter     f(x) inf-norm    Step 2-norm \n",
      "------   --------------   --------------\n",
      "     0     1.028623e-02              NaN\n"
     ]
    },
    {
     "name": "stdout",
     "output_type": "stream",
     "text": [
      "     1     5.193840e-06     3.108753e+02\n",
      "     2     4.884981e-13     1.171598e-05\n"
     ]
    },
    {
     "name": "stdout",
     "output_type": "stream",
     "text": [
      " > Computing solution at time 1.340000000000001\n",
      "Iter     f(x) inf-norm    Step 2-norm \n",
      "------   --------------   --------------\n"
     ]
    },
    {
     "name": "stdout",
     "output_type": "stream",
     "text": [
      "     0     9.723595e-03              NaN\n",
      "     1     5.053022e-06     1.007317e+03\n"
     ]
    },
    {
     "name": "stdout",
     "output_type": "stream",
     "text": [
      "     2     4.574119e-13     1.106583e-05\n",
      " > Computing solution at time 1.350000000000001\n",
      "Iter     f(x) inf-norm    Step 2-norm \n",
      "------   --------------   --------------\n",
      "     0     1.004159e-02              NaN\n"
     ]
    },
    {
     "name": "stdout",
     "output_type": "stream",
     "text": [
      "     1     4.913134e-06     3.169373e+02\n",
      "     2     4.272138e-13     1.047983e-05\n"
     ]
    },
    {
     "name": "stdout",
     "output_type": "stream",
     "text": [
      " > Computing solution at time 1.360000000000001\n",
      "Iter     f(x) inf-norm    Step 2-norm \n",
      "------   --------------   --------------\n"
     ]
    },
    {
     "name": "stdout",
     "output_type": "stream",
     "text": [
      "     0     9.476468e-03              NaN\n",
      "     1     4.775012e-06     9.944952e+02\n"
     ]
    },
    {
     "name": "stdout",
     "output_type": "stream",
     "text": [
      "     2     3.979039e-13     9.877680e-06\n",
      " > Computing solution at time 1.370000000000001\n",
      "Iter     f(x) inf-norm    Step 2-norm \n",
      "------   --------------   --------------\n",
      "     0     9.791924e-03              NaN\n"
     ]
    },
    {
     "name": "stdout",
     "output_type": "stream",
     "text": [
      "     1     4.637860e-06     3.231530e+02\n",
      "     2     3.756995e-13     9.334960e-06\n"
     ]
    },
    {
     "name": "stdout",
     "output_type": "stream",
     "text": [
      " > Computing solution at time 1.380000000000001\n",
      "Iter     f(x) inf-norm    Step 2-norm \n",
      "------   --------------   --------------\n"
     ]
    },
    {
     "name": "stdout",
     "output_type": "stream",
     "text": [
      "     0     9.224359e-03              NaN\n",
      "     1     4.502568e-06     9.815938e+02\n"
     ]
    },
    {
     "name": "stdout",
     "output_type": "stream",
     "text": [
      "     2     3.481659e-13     8.779190e-06\n",
      " > Computing solution at time 1.390000000000001\n",
      "Iter     f(x) inf-norm    Step 2-norm \n",
      "------   --------------   --------------\n",
      "     0     9.537331e-03              NaN\n"
     ]
    },
    {
     "name": "stdout",
     "output_type": "stream",
     "text": [
      "     1     4.368289e-06     3.295245e+02\n",
      "     2     3.232969e-13     8.278375e-06\n"
     ]
    },
    {
     "name": "stdout",
     "output_type": "stream",
     "text": [
      " > Computing solution at time 1.400000000000001\n",
      "Iter     f(x) inf-norm    Step 2-norm \n",
      "------   --------------   --------------\n"
     ]
    },
    {
     "name": "stdout",
     "output_type": "stream",
     "text": [
      "     0     8.967384e-03              NaN\n",
      "     1     4.235960e-06     9.686208e+02\n"
     ]
    },
    {
     "name": "stdout",
     "output_type": "stream",
     "text": [
      "     2     3.028688e-13     7.767289e-06\n",
      " > Computing solution at time 1.410000000000001\n",
      "Iter     f(x) inf-norm    Step 2-norm \n",
      "------   --------------   --------------\n",
      "     0     9.277932e-03              NaN\n"
     ]
    },
    {
     "name": "stdout",
     "output_type": "stream",
     "text": [
      "     1     4.104690e-06     3.360541e+02\n",
      "     2     2.833289e-13     7.306908e-06\n"
     ]
    },
    {
     "name": "stdout",
     "output_type": "stream",
     "text": [
      " > Computing solution at time 1.420000000000001\n",
      "Iter     f(x) inf-norm    Step 2-norm \n",
      "------   --------------   --------------\n"
     ]
    },
    {
     "name": "stdout",
     "output_type": "stream",
     "text": [
      "     0     8.705662e-03              NaN\n",
      "     1     3.975453e-06     9.555848e+02\n"
     ]
    },
    {
     "name": "stdout",
     "output_type": "stream",
     "text": [
      "     2     2.620126e-13     6.838725e-06\n",
      " > Computing solution at time 1.430000000000001\n",
      "Iter     f(x) inf-norm    Step 2-norm \n",
      "------   --------------   --------------\n",
      "     0     9.013847e-03              NaN\n"
     ]
    },
    {
     "name": "stdout",
     "output_type": "stream",
     "text": [
      "     1     3.847322e-06     3.427437e+02\n",
      "     2     2.415845e-13     6.417220e-06\n"
     ]
    },
    {
     "name": "stdout",
     "output_type": "stream",
     "text": [
      " > Computing solution at time 1.440000000000001\n",
      "Iter     f(x) inf-norm    Step 2-norm \n",
      "------   --------------   --------------\n"
     ]
    },
    {
     "name": "stdout",
     "output_type": "stream",
     "text": [
      "     0     8.439317e-03              NaN\n",
      "     1     3.721304e-06     9.424944e+02\n"
     ]
    },
    {
     "name": "stdout",
     "output_type": "stream",
     "text": [
      "     2     2.255973e-13     5.990088e-06\n",
      " > Computing solution at time 1.450000000000001\n",
      "Iter     f(x) inf-norm    Step 2-norm \n",
      "------   --------------   --------------\n",
      "     0     8.745203e-03              NaN\n"
     ]
    },
    {
     "name": "stdout",
     "output_type": "stream",
     "text": [
      "     1     3.596442e-06     3.495953e+02\n",
      "     2     2.078338e-13     5.605823e-06\n"
     ]
    },
    {
     "name": "stdout",
     "output_type": "stream",
     "text": [
      " > Computing solution at time 1.460000000000001\n",
      "Iter     f(x) inf-norm    Step 2-norm \n",
      "------   --------------   --------------\n"
     ]
    },
    {
     "name": "stdout",
     "output_type": "stream",
     "text": [
      "     0     8.168474e-03              NaN\n",
      "     1     3.473766e-06     9.293582e+02\n"
     ]
    },
    {
     "name": "stdout",
     "output_type": "stream",
     "text": [
      "     2     1.918465e-13     5.217831e-06\n",
      " > Computing solution at time 1.470000000000001\n",
      "Iter     f(x) inf-norm    Step 2-norm \n"
     ]
    },
    {
     "name": "stdout",
     "output_type": "stream",
     "text": [
      "------   --------------   --------------\n",
      "     0     8.472126e-03              NaN\n"
     ]
    },
    {
     "name": "stdout",
     "output_type": "stream",
     "text": [
      "     1     3.352298e-06     3.566107e+02\n",
      "     2     1.794120e-13     4.869103e-06\n"
     ]
    },
    {
     "name": "stdout",
     "output_type": "stream",
     "text": [
      " > Computing solution at time 1.480000000000001\n",
      "Iter     f(x) inf-norm    Step 2-norm \n",
      "------   --------------   --------------\n"
     ]
    },
    {
     "name": "stdout",
     "output_type": "stream",
     "text": [
      "     0     7.893264e-03              NaN\n",
      "     1     3.233084e-06     9.161849e+02\n"
     ]
    },
    {
     "name": "stdout",
     "output_type": "stream",
     "text": [
      "     2     1.652012e-13     4.518293e-06\n",
      " > Computing solution at time 1.490000000000001\n",
      "Iter     f(x) inf-norm    Step 2-norm \n",
      "------   --------------   --------------\n",
      "     0     8.194749e-03              NaN\n"
     ]
    },
    {
     "name": "stdout",
     "output_type": "stream",
     "text": [
      "     1     3.115132e-06     3.637917e+02\n",
      "     2     1.527667e-13     4.203342e-06\n"
     ]
    },
    {
     "name": "stdout",
     "output_type": "stream",
     "text": [
      " > Computing solution at time 1.500000000000001\n",
      "Iter     f(x) inf-norm    Step 2-norm \n",
      "------   --------------   --------------\n"
     ]
    },
    {
     "name": "stdout",
     "output_type": "stream",
     "text": [
      "     0     7.613820e-03              NaN\n",
      "     1     2.999497e-06     9.029829e+02\n"
     ]
    },
    {
     "name": "stdout",
     "output_type": "stream",
     "text": [
      "     2     1.403322e-13     3.887715e-06\n",
      " > Computing solution at time 1.5100000000000011\n",
      "Iter     f(x) inf-norm    Step 2-norm \n",
      "------   --------------   --------------\n",
      "     0     7.913207e-03              NaN\n"
     ]
    },
    {
     "name": "stdout",
     "output_type": "stream",
     "text": [
      "     1     2.885180e-06     3.711397e+02\n",
      "     2     1.278977e-13     3.604738e-06\n"
     ]
    },
    {
     "name": "stdout",
     "output_type": "stream",
     "text": [
      " > Computing solution at time 1.5200000000000011\n"
     ]
    },
    {
     "name": "stdout",
     "output_type": "stream",
     "text": [
      "Iter     f(x) inf-norm    Step 2-norm \n",
      "------   --------------   --------------\n",
      "     0     7.330279e-03              NaN\n",
      "     1     2.773237e-06     8.897608e+02\n"
     ]
    },
    {
     "name": "stdout",
     "output_type": "stream",
     "text": [
      "     2     1.172396e-13     3.322268e-06\n",
      " > Computing solution at time 1.5300000000000011\n",
      "Iter     f(x) inf-norm    Step 2-norm \n",
      "------   --------------   --------------\n",
      "     0     7.627638e-03              NaN\n"
     ]
    },
    {
     "name": "stdout",
     "output_type": "stream",
     "text": [
      "     1     2.662668e-06     3.786563e+02\n",
      "     2     1.065814e-13     3.069425e-06\n"
     ]
    },
    {
     "name": "stdout",
     "output_type": "stream",
     "text": [
      " > Computing solution at time 1.5400000000000011\n",
      "Iter     f(x) inf-norm    Step 2-norm \n",
      "------   --------------   --------------\n"
     ]
    },
    {
     "name": "stdout",
     "output_type": "stream",
     "text": [
      "     0     7.042781e-03              NaN\n",
      "     1     2.554527e-06     8.765271e+02\n"
     ]
    },
    {
     "name": "stdout",
     "output_type": "stream",
     "text": [
      "     2     9.769963e-14     2.818067e-06\n",
      " > Computing solution at time 1.5500000000000012\n",
      "Iter     f(x) inf-norm    Step 2-norm \n",
      "------   --------------   --------------\n",
      "     0     7.338182e-03              NaN\n"
     ]
    },
    {
     "name": "stdout",
     "output_type": "stream",
     "text": [
      "     1     2.447819e-06     3.863427e+02\n",
      "     2     9.148238e-14     2.593497e-06\n"
     ]
    },
    {
     "name": "stdout",
     "output_type": "stream",
     "text": [
      " > Computing solution at time 1.5600000000000012\n",
      "Iter     f(x) inf-norm    Step 2-norm \n",
      "------   --------------   --------------\n"
     ]
    },
    {
     "name": "stdout",
     "output_type": "stream",
     "text": [
      "     0     6.751467e-03              NaN\n",
      "     1     2.343586e-06     8.632902e+02\n"
     ]
    },
    {
     "name": "stdout",
     "output_type": "stream",
     "text": [
      "     2     8.171241e-14     2.371200e-06\n",
      " > Computing solution at time 1.5700000000000012\n",
      "Iter     f(x) inf-norm    Step 2-norm \n",
      "------   --------------   --------------\n",
      "     0     7.044985e-03              NaN\n"
     ]
    },
    {
     "name": "stdout",
     "output_type": "stream",
     "text": [
      "     1     2.240844e-06     3.942000e+02\n",
      "     2     7.549517e-14     2.173026e-06\n"
     ]
    },
    {
     "name": "stdout",
     "output_type": "stream",
     "text": [
      " > Computing solution at time 1.5800000000000012\n",
      "Iter     f(x) inf-norm    Step 2-norm \n",
      "------   --------------   --------------\n"
     ]
    },
    {
     "name": "stdout",
     "output_type": "stream",
     "text": [
      "     0     6.456484e-03              NaN\n",
      "     1     2.140622e-06     8.500584e+02\n"
     ]
    },
    {
     "name": "stdout",
     "output_type": "stream",
     "text": [
      "     2     6.572520e-14     1.977741e-06\n",
      " > Computing solution at time 1.5900000000000012\n",
      "Iter     f(x) inf-norm    Step 2-norm \n",
      "------   --------------   --------------\n",
      "     0     6.748193e-03              NaN\n"
     ]
    },
    {
     "name": "stdout",
     "output_type": "stream",
     "text": [
      "     1     2.041949e-06     4.022292e+02\n",
      "     2     6.039613e-14     1.804085e-06\n"
     ]
    },
    {
     "name": "stdout",
     "output_type": "stream",
     "text": [
      " > Computing solution at time 1.6000000000000012\n",
      "Iter     f(x) inf-norm    Step 2-norm \n",
      "------   --------------   --------------\n"
     ]
    },
    {
     "name": "stdout",
     "output_type": "stream",
     "text": [
      "     0     6.157981e-03              NaN\n",
      "     1     1.945836e-06     8.368399e+02\n"
     ]
    },
    {
     "name": "stdout",
     "output_type": "stream",
     "text": [
      "     2     5.417888e-14     1.633776e-06\n",
      " > Computing solution at time 1.6100000000000012\n",
      "Iter     f(x) inf-norm    Step 2-norm \n",
      "------   --------------   --------------\n",
      "     0     6.447956e-03              NaN\n"
     ]
    },
    {
     "name": "stdout",
     "output_type": "stream",
     "text": [
      "     1     1.851331e-06     4.104310e+02\n",
      "     2     4.707346e-14     1.482767e-06\n"
     ]
    },
    {
     "name": "stdout",
     "output_type": "stream",
     "text": [
      " > Computing solution at time 1.6200000000000012\n",
      "Iter     f(x) inf-norm    Step 2-norm \n",
      "------   --------------   --------------\n"
     ]
    },
    {
     "name": "stdout",
     "output_type": "stream",
     "text": [
      "     0     5.856108e-03              NaN\n",
      "     1     1.759422e-06     8.236428e+02\n"
     ]
    },
    {
     "name": "stdout",
     "output_type": "stream",
     "text": [
      "     2     4.352074e-14     1.335421e-06\n",
      " > Computing solution at time 1.6300000000000012\n",
      "Iter     f(x) inf-norm    Step 2-norm \n"
     ]
    },
    {
     "name": "stdout",
     "output_type": "stream",
     "text": [
      "------   --------------   --------------\n",
      "     0     6.144427e-03              NaN\n"
     ]
    },
    {
     "name": "stdout",
     "output_type": "stream",
     "text": [
      "     1     1.669179e-06     4.188061e+02\n",
      "     2     3.907985e-14     1.205206e-06\n"
     ]
    },
    {
     "name": "stdout",
     "output_type": "stream",
     "text": [
      " > Computing solution at time 1.6400000000000012\n",
      "Iter     f(x) inf-norm    Step 2-norm \n",
      "------   --------------   --------------\n"
     ]
    },
    {
     "name": "stdout",
     "output_type": "stream",
     "text": [
      "     0     5.551020e-03              NaN\n",
      "     1     1.581564e-06     8.104752e+02\n"
     ]
    },
    {
     "name": "stdout",
     "output_type": "stream",
     "text": [
      "     2     3.108624e-14     1.078844e-06\n",
      " > Computing solution at time 1.6500000000000012\n",
      "Iter     f(x) inf-norm    Step 2-norm \n",
      "------   --------------   --------------\n",
      "     0     5.837760e-03              NaN\n"
     ]
    },
    {
     "name": "stdout",
     "output_type": "stream",
     "text": [
      "     1     1.495675e-06     4.273548e+02\n",
      "     2     3.108624e-14     9.675964e-07\n"
     ]
    },
    {
     "name": "stdout",
     "output_type": "stream",
     "text": [
      " > Computing solution at time 1.6600000000000013\n"
     ]
    },
    {
     "name": "stdout",
     "output_type": "stream",
     "text": [
      "Iter     f(x) inf-norm    Step 2-norm \n",
      "------   --------------   --------------\n",
      "     0     5.242872e-03              NaN\n",
      "     1     1.412440e-06     7.973448e+02\n"
     ]
    },
    {
     "name": "stdout",
     "output_type": "stream",
     "text": [
      "     2     2.753353e-14     8.602804e-07\n",
      " > Computing solution at time 1.6700000000000013\n",
      "Iter     f(x) inf-norm    Step 2-norm \n"
     ]
    },
    {
     "name": "stdout",
     "output_type": "stream",
     "text": [
      "------   --------------   --------------\n",
      "     0     5.528114e-03              NaN\n"
     ]
    },
    {
     "name": "stdout",
     "output_type": "stream",
     "text": [
      "     1     1.330989e-06     4.360774e+02\n",
      "     2     2.398082e-14     7.662135e-07\n"
     ]
    },
    {
     "name": "stdout",
     "output_type": "stream",
     "text": [
      " > Computing solution at time 1.6800000000000013\n",
      "Iter     f(x) inf-norm    Step 2-norm \n",
      "------   --------------   --------------\n"
     ]
    },
    {
     "name": "stdout",
     "output_type": "stream",
     "text": [
      "     0     4.931823e-03              NaN\n",
      "     1     1.252216e-06     7.842595e+02\n"
     ]
    },
    {
     "name": "stdout",
     "output_type": "stream",
     "text": [
      "     2     2.309264e-14     6.760574e-07\n",
      " > Computing solution at time 1.6900000000000013\n",
      "Iter     f(x) inf-norm    Step 2-norm \n",
      "------   --------------   --------------\n",
      "     0     5.215648e-03              NaN\n"
     ]
    },
    {
     "name": "stdout",
     "output_type": "stream",
     "text": [
      "     1     1.175285e-06     4.449739e+02\n",
      "     2     1.865175e-14     5.974297e-07\n"
     ]
    },
    {
     "name": "stdout",
     "output_type": "stream",
     "text": [
      " > Computing solution at time 1.7000000000000013\n",
      "Iter     f(x) inf-norm    Step 2-norm \n",
      "------   --------------   --------------\n"
     ]
    },
    {
     "name": "stdout",
     "output_type": "stream",
     "text": [
      "     0     4.618035e-03              NaN\n",
      "     1     1.101052e-06     7.712267e+02\n"
     ]
    },
    {
     "name": "stdout",
     "output_type": "stream",
     "text": [
      "     2     1.509903e-14     5.226079e-07\n",
      " > Computing solution at time 1.7100000000000013\n",
      "Iter     f(x) inf-norm    Step 2-norm \n",
      "------   --------------   --------------\n",
      "     0     4.900524e-03              NaN\n"
     ]
    },
    {
     "name": "stdout",
     "output_type": "stream",
     "text": [
      "     1     1.028719e-06     4.540440e+02\n",
      "     2     1.332268e-14     4.577342e-07\n"
     ]
    },
    {
     "name": "stdout",
     "output_type": "stream",
     "text": [
      " > Computing solution at time 1.7200000000000013\n",
      "Iter     f(x) inf-norm    Step 2-norm \n",
      "------   --------------   --------------\n"
     ]
    },
    {
     "name": "stdout",
     "output_type": "stream",
     "text": [
      "     0     4.301670e-03              NaN\n",
      "     1     9.590986e-07     7.582539e+02\n"
     ]
    },
    {
     "name": "stdout",
     "output_type": "stream",
     "text": [
      "     2     1.509903e-14     3.964905e-07\n",
      " > Computing solution at time 1.7300000000000013\n",
      "Iter     f(x) inf-norm    Step 2-norm \n",
      "------   --------------   --------------\n",
      "     0     4.582906e-03              NaN\n"
     ]
    },
    {
     "name": "stdout",
     "output_type": "stream",
     "text": [
      "     1     8.914339e-07     4.632873e+02\n",
      "     2     1.154632e-14     3.437502e-07\n"
     ]
    },
    {
     "name": "stdout",
     "output_type": "stream",
     "text": [
      " > Computing solution at time 1.7400000000000013\n"
     ]
    },
    {
     "name": "stdout",
     "output_type": "stream",
     "text": [
      "Iter     f(x) inf-norm    Step 2-norm \n",
      "------   --------------   --------------\n",
      "     0     3.982894e-03              NaN\n",
      "     1     8.264954e-07     7.453483e+02\n"
     ]
    },
    {
     "name": "stdout",
     "output_type": "stream",
     "text": [
      "     2     1.065814e-14     2.944057e-07\n",
      " > Computing solution at time 1.7500000000000013\n",
      "Iter     f(x) inf-norm    Step 2-norm \n",
      "------   --------------   --------------\n",
      "     0     4.262960e-03              NaN\n"
     ]
    },
    {
     "name": "stdout",
     "output_type": "stream",
     "text": [
      "     1     7.635675e-07     4.727032e+02\n",
      "     2     7.993606e-15     2.522511e-07\n"
     ]
    },
    {
     "name": "stdout",
     "output_type": "stream",
     "text": [
      " > Computing solution at time 1.7600000000000013\n",
      "Iter     f(x) inf-norm    Step 2-norm \n",
      "------   --------------   --------------\n"
     ]
    },
    {
     "name": "stdout",
     "output_type": "stream",
     "text": [
      "     0     3.661872e-03              NaN\n",
      "     1     7.033745e-07     7.325170e+02\n"
     ]
    },
    {
     "name": "stdout",
     "output_type": "stream",
     "text": [
      "     2     7.993606e-15     2.132123e-07\n",
      " > Computing solution at time 1.7700000000000014\n",
      "Iter     f(x) inf-norm    Step 2-norm \n"
     ]
    },
    {
     "name": "stdout",
     "output_type": "stream",
     "text": [
      "------   --------------   --------------\n",
      "     0     3.940854e-03              NaN\n"
     ]
    },
    {
     "name": "stdout",
     "output_type": "stream",
     "text": [
      "     1     6.452463e-07     4.822908e+02\n",
      "     2     7.105427e-15     1.801765e-07\n"
     ]
    },
    {
     "name": "stdout",
     "output_type": "stream",
     "text": [
      " > Computing solution at time 1.7800000000000014\n",
      "Iter     f(x) inf-norm    Step 2-norm \n",
      "------   --------------   --------------\n"
     ]
    },
    {
     "name": "stdout",
     "output_type": "stream",
     "text": [
      "     0     3.338775e-03              NaN\n",
      "     1     5.898582e-07     7.197668e+02\n"
     ]
    },
    {
     "name": "stdout",
     "output_type": "stream",
     "text": [
      "     2     7.105427e-15     1.499426e-07\n",
      " > Computing solution at time 1.7900000000000014\n",
      "Iter     f(x) inf-norm    Step 2-norm \n",
      "------   --------------   --------------\n",
      "     0     3.616757e-03              NaN\n"
     ]
    },
    {
     "name": "stdout",
     "output_type": "stream",
     "text": [
      "     1     5.365878e-07     4.920489e+02\n",
      "     2     7.105427e-15     1.246468e-07\n"
     ]
    },
    {
     "name": "stdout",
     "output_type": "stream",
     "text": [
      " > Computing solution at time 1.8000000000000014\n",
      "Iter     f(x) inf-norm    Step 2-norm \n",
      "------   --------------   --------------\n"
     ]
    },
    {
     "name": "stdout",
     "output_type": "stream",
     "text": [
      "     0     3.013772e-03              NaN\n",
      "     1     4.860592e-07     7.071043e+02\n"
     ]
    },
    {
     "name": "stdout",
     "output_type": "stream",
     "text": [
      "     2     5.329071e-15     1.018168e-07\n",
      " > Computing solution at time 1.8100000000000014\n",
      "Iter     f(x) inf-norm    Step 2-norm \n",
      "------   --------------   --------------\n",
      "     0     3.290840e-03              NaN\n"
     ]
    },
    {
     "name": "stdout",
     "output_type": "stream",
     "text": [
      "     1     4.376998e-07     5.019762e+02\n",
      "     2     5.773160e-15     8.297769e-08\n"
     ]
    },
    {
     "name": "stdout",
     "output_type": "stream",
     "text": [
      " > Computing solution at time 1.8200000000000014\n",
      "Iter     f(x) inf-norm    Step 2-norm \n",
      "------   --------------   --------------\n"
     ]
    },
    {
     "name": "stdout",
     "output_type": "stream",
     "text": [
      "     0     2.687034e-03              NaN\n",
      "     1     3.920806e-07     6.945360e+02\n"
     ]
    },
    {
     "name": "stdout",
     "output_type": "stream",
     "text": [
      "     2     5.329071e-15     6.625662e-08\n",
      " > Computing solution at time 1.8300000000000014\n",
      "Iter     f(x) inf-norm    Step 2-norm \n"
     ]
    },
    {
     "name": "stdout",
     "output_type": "stream",
     "text": [
      "------   --------------   --------------\n",
      "     0     2.963276e-03              NaN\n"
     ]
    },
    {
     "name": "stdout",
     "output_type": "stream",
     "text": [
      "     1     3.486805e-07     5.120711e+02\n",
      "     2     7.105427e-15     5.269240e-08\n"
     ]
    },
    {
     "name": "stdout",
     "output_type": "stream",
     "text": [
      " > Computing solution at time 1.8400000000000014\n"
     ]
    },
    {
     "name": "stdout",
     "output_type": "stream",
     "text": [
      "Iter     f(x) inf-norm    Step 2-norm \n",
      "------   --------------   --------------\n",
      "     0     2.358736e-03              NaN\n",
      "     1     3.080157e-07     6.820681e+02\n"
     ]
    },
    {
     "name": "stdout",
     "output_type": "stream",
     "text": [
      "     2     5.329071e-15     4.089740e-08\n",
      " > Computing solution at time 1.8500000000000014\n",
      "Iter     f(x) inf-norm    Step 2-norm \n",
      "------   --------------   --------------\n",
      "     0     2.634239e-03              NaN\n"
     ]
    },
    {
     "name": "stdout",
     "output_type": "stream",
     "text": [
      "     1     2.696183e-07     5.223318e+02\n",
      "     2     7.105427e-15     3.153403e-08\n"
     ]
    },
    {
     "name": "stdout",
     "output_type": "stream",
     "text": [
      " > Computing solution at time 1.8600000000000014\n"
     ]
    },
    {
     "name": "stdout",
     "output_type": "stream",
     "text": [
      "Iter     f(x) inf-norm    Step 2-norm \n",
      "------   --------------   --------------\n",
      "     0     2.151023e-03              NaN\n",
      "     1     2.339480e-07     6.697067e+02\n"
     ]
    },
    {
     "name": "stdout",
     "output_type": "stream",
     "text": [
      "     2     7.105427e-15     2.359977e-08\n",
      " > Computing solution at time 1.8700000000000014\n",
      "Iter     f(x) inf-norm    Step 2-norm \n",
      "------   --------------   --------------\n",
      "     0     2.430400e-03              NaN\n"
     ]
    },
    {
     "name": "stdout",
     "output_type": "stream",
     "text": [
      "     1     2.005918e-07     5.327560e+02\n",
      "     2     5.329071e-15     1.747621e-08\n"
     ]
    },
    {
     "name": "stdout",
     "output_type": "stream",
     "text": [
      " > Computing solution at time 1.8800000000000014\n"
     ]
    },
    {
     "name": "stdout",
     "output_type": "stream",
     "text": [
      "Iter     f(x) inf-norm    Step 2-norm \n",
      "------   --------------   --------------\n",
      "     0     2.171691e-03              NaN\n",
      "     1     1.699513e-07     6.574574e+02\n"
     ]
    },
    {
     "name": "stdout",
     "output_type": "stream",
     "text": [
      "     2     7.105427e-15     1.245969e-08\n",
      " > Computing solution at time 1.8900000000000015\n",
      "Iter     f(x) inf-norm    Step 2-norm \n"
     ]
    },
    {
     "name": "stdout",
     "output_type": "stream",
     "text": [
      "------   --------------   --------------\n",
      "     0     2.409480e-03              NaN\n"
     ]
    },
    {
     "name": "stdout",
     "output_type": "stream",
     "text": [
      "     1     1.416696e-07     5.433416e+02\n",
      "     2     4.440892e-15     8.732763e-09\n"
     ]
    },
    {
     "name": "stdout",
     "output_type": "stream",
     "text": [
      " > Computing solution at time 1.9000000000000015\n",
      "Iter     f(x) inf-norm    Step 2-norm \n",
      "------   --------------   --------------\n"
     ]
    },
    {
     "name": "stdout",
     "output_type": "stream",
     "text": [
      "     0     2.192395e-03              NaN\n",
      "     1     1.160891e-07     6.453258e+02\n"
     ]
    },
    {
     "name": "stdout",
     "output_type": "stream",
     "text": [
      "     2     5.329071e-15     5.817617e-09\n",
      " > Computing solution at time 1.9100000000000015\n",
      "Iter     f(x) inf-norm    Step 2-norm \n",
      "------   --------------   --------------\n",
      "     0     2.388534e-03              NaN\n"
     ]
    },
    {
     "name": "stdout",
     "output_type": "stream",
     "text": [
      "     1     9.291026e-08     5.540858e+02\n",
      "     2     4.440892e-15     3.766252e-09\n"
     ]
    },
    {
     "name": "stdout",
     "output_type": "stream",
     "text": [
      " > Computing solution at time 1.9200000000000015\n",
      "Iter     f(x) inf-norm    Step 2-norm \n",
      "------   --------------   --------------\n"
     ]
    },
    {
     "name": "stdout",
     "output_type": "stream",
     "text": [
      "     0     2.213128e-03              NaN\n",
      "     1     7.241512e-08     6.333173e+02\n"
     ]
    },
    {
     "name": "stdout",
     "output_type": "stream",
     "text": [
      "     2     7.105427e-15     2.266393e-09\n",
      " > Computing solution at time 1.9300000000000015\n",
      "Iter     f(x) inf-norm    Step 2-norm \n"
     ]
    },
    {
     "name": "stdout",
     "output_type": "stream",
     "text": [
      "------   --------------   --------------\n",
      "     0     2.367565e-03              NaN\n"
     ]
    },
    {
     "name": "stdout",
     "output_type": "stream",
     "text": [
      "     1     5.436241e-08     5.649859e+02\n",
      "     2     7.105427e-15     1.295247e-09\n"
     ]
    },
    {
     "name": "stdout",
     "output_type": "stream",
     "text": [
      " > Computing solution at time 1.9400000000000015\n"
     ]
    },
    {
     "name": "stdout",
     "output_type": "stream",
     "text": [
      "Iter     f(x) inf-norm    Step 2-norm \n",
      "------   --------------   --------------\n",
      "     0     2.233885e-03              NaN\n",
      "     1     3.897283e-08     6.214368e+02\n"
     ]
    },
    {
     "name": "stdout",
     "output_type": "stream",
     "text": [
      "     2     4.440892e-15     6.579314e-10\n",
      " > Computing solution at time 1.9500000000000015\n",
      "Iter     f(x) inf-norm    Step 2-norm \n",
      "------   --------------   --------------\n",
      "     0     2.346580e-03              NaN\n"
     ]
    },
    {
     "name": "stdout",
     "output_type": "stream",
     "text": [
      "     1     2.606442e-08     5.760385e+02\n",
      "     2     5.329071e-15     3.004152e-10\n"
     ]
    },
    {
     "name": "stdout",
     "output_type": "stream",
     "text": [
      " > Computing solution at time 1.9600000000000015\n",
      "Iter     f(x) inf-norm    Step 2-norm \n",
      "------   --------------   --------------\n"
     ]
    },
    {
     "name": "stdout",
     "output_type": "stream",
     "text": [
      "     0     2.254662e-03              NaN\n",
      "     1     1.579564e-08     6.096892e+02\n"
     ]
    },
    {
     "name": "stdout",
     "output_type": "stream",
     "text": [
      "     2     5.329071e-15     1.086761e-10\n",
      " > Computing solution at time 1.9700000000000015\n",
      "Iter     f(x) inf-norm    Step 2-norm \n",
      "------   --------------   --------------\n",
      "     0     2.325583e-03              NaN\n"
     ]
    },
    {
     "name": "stdout",
     "output_type": "stream",
     "text": [
      "     1     8.044577e-09     5.872405e+02\n",
      " > Computing solution at time 1.9800000000000015\n",
      "Iter     f(x) inf-norm    Step 2-norm \n"
     ]
    },
    {
     "name": "stdout",
     "output_type": "stream",
     "text": [
      "------   --------------   --------------\n",
      "     0     2.275451e-03              NaN\n"
     ]
    },
    {
     "name": "stdout",
     "output_type": "stream",
     "text": [
      "     1     2.906848e-09     5.980792e+02\n",
      " > Computing solution at time 1.9900000000000015\n",
      "Iter     f(x) inf-norm    Step 2-norm \n",
      "------   --------------   --------------\n",
      "     0     2.304580e-03              NaN\n"
     ]
    },
    {
     "name": "stdout",
     "output_type": "stream",
     "text": [
      "     1     4.194602e-10     5.985881e+02\n",
      " > Computing solution at time 2.0000000000000013\n"
     ]
    },
    {
     "data": {
      "text/plain": [
       "201-element Vector{String}:\n",
       " \"/home/gkluber/Desktop/GridapWorkshop2023Material/data/ins_transient.pvd\"\n",
       " \"/home/gkluber/Desktop/GridapWor\" ⋯ 23 bytes ⋯ \"ins_transient/solution_0.01.vtu\"\n",
       " \"/home/gkluber/Desktop/GridapWor\" ⋯ 23 bytes ⋯ \"ins_transient/solution_0.02.vtu\"\n",
       " \"/home/gkluber/Desktop/GridapWor\" ⋯ 23 bytes ⋯ \"ins_transient/solution_0.03.vtu\"\n",
       " \"/home/gkluber/Desktop/GridapWor\" ⋯ 23 bytes ⋯ \"ins_transient/solution_0.04.vtu\"\n",
       " \"/home/gkluber/Desktop/GridapWor\" ⋯ 23 bytes ⋯ \"ins_transient/solution_0.05.vtu\"\n",
       " \"/home/gkluber/Desktop/GridapWor\" ⋯ 39 bytes ⋯ \"lution_0.060000000000000005.vtu\"\n",
       " \"/home/gkluber/Desktop/GridapWor\" ⋯ 23 bytes ⋯ \"ins_transient/solution_0.07.vtu\"\n",
       " \"/home/gkluber/Desktop/GridapWor\" ⋯ 23 bytes ⋯ \"ins_transient/solution_0.08.vtu\"\n",
       " \"/home/gkluber/Desktop/GridapWor\" ⋯ 23 bytes ⋯ \"ins_transient/solution_0.09.vtu\"\n",
       " ⋮\n",
       " \"/home/gkluber/Desktop/GridapWor\" ⋯ 37 bytes ⋯ \"solution_1.9200000000000015.vtu\"\n",
       " \"/home/gkluber/Desktop/GridapWor\" ⋯ 37 bytes ⋯ \"solution_1.9300000000000015.vtu\"\n",
       " \"/home/gkluber/Desktop/GridapWor\" ⋯ 37 bytes ⋯ \"solution_1.9400000000000015.vtu\"\n",
       " \"/home/gkluber/Desktop/GridapWor\" ⋯ 37 bytes ⋯ \"solution_1.9500000000000015.vtu\"\n",
       " \"/home/gkluber/Desktop/GridapWor\" ⋯ 37 bytes ⋯ \"solution_1.9600000000000015.vtu\"\n",
       " \"/home/gkluber/Desktop/GridapWor\" ⋯ 37 bytes ⋯ \"solution_1.9700000000000015.vtu\"\n",
       " \"/home/gkluber/Desktop/GridapWor\" ⋯ 37 bytes ⋯ \"solution_1.9800000000000015.vtu\"\n",
       " \"/home/gkluber/Desktop/GridapWor\" ⋯ 37 bytes ⋯ \"solution_1.9900000000000015.vtu\"\n",
       " \"/home/gkluber/Desktop/GridapWor\" ⋯ 37 bytes ⋯ \"solution_2.0000000000000013.vtu\""
      ]
     },
     "metadata": {},
     "output_type": "display_data"
    }
   ],
   "source": [
    "u₀ = interpolate_everywhere([VectorValue(0.0,0.0),0.0],X(0.0))\n",
    "t₀ = 0.0\n",
    "T  = Tth\n",
    "xₕₜ = solve(ode_solver,op,u₀,t₀,T)\n",
    "\n",
    "dir = datadir(\"ins_transient\")\n",
    "!isdir(dir) && mkdir(dir)\n",
    "createpvd(dir) do pvd\n",
    "  for (xₕ,t) in xₕₜ\n",
    "    println(\" > Computing solution at time $t\")\n",
    "    uₕ,pₕ = xₕ\n",
    "    file = dir*\"/solution_$t\"*\".vtu\"\n",
    "    pvd[t] = createvtk(Ω,file,cellfields=[\"u\"=>uₕ,\"p\"=>pₕ])\n",
    "  end\n",
    "end"
   ]
  }
 ],
 "metadata": {
  "kernelspec": {
   "display_name": "Julia 1.9.4",
   "language": "julia",
   "name": "julia-1.9"
  },
  "language_info": {
   "file_extension": ".jl",
   "mimetype": "application/julia",
   "name": "julia",
   "version": "1.9.4"
  }
 },
 "nbformat": 4,
 "nbformat_minor": 3
}
