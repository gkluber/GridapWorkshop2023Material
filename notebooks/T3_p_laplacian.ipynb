{
 "cells": [
  {
   "cell_type": "markdown",
   "metadata": {},
   "source": [
    "## Problem statement\n",
    "\n",
    "The goal of this tutorial is to solve a nonlinear PDE in Gridap. For the sake of simplicity, we consider the $p$-Laplacian equation as the model problem. Specifically, the PDE  we want to solve is: find the scalar-field $u$ such that\n",
    "\n",
    "$$\n",
    "\\left\\lbrace\n",
    "\\begin{aligned}\n",
    "-\\nabla \\cdot \\left( |\\nabla u|^{p-2} \\ \\nabla u \\right) = f\\ &\\text{ in }\\ \\Omega,\\\\\n",
    "u = 0 \\ &\\text{ on } \\ \\Gamma_0,\\\\\n",
    "u = g \\ &\\text{ on } \\ \\Gamma_g,\\\\\n",
    " n \\cdot \\left( |\\nabla u|^{p-2}\\ \\nabla u \\right)= 0 \\ &\\text{ on } \\ \\Gamma_{\\rm N},\n",
    "\\end{aligned}\n",
    "\\right.\n",
    "$$\n",
    "with $p>2$.\n",
    "The computational domain $\\Omega$ is the one depicted in next figure. We want to solve the Poisson equation on the 3D domain depicted in next figure with Dirichlet and Neumann boundary conditions. We impose homogeneous Dirichlet and homogeneous Neumann boundary conditions on $\\Gamma_0$ and $\\Gamma_{\\rm N}$  respectively, and inhomogeneous Dirichlet conditions on $\\Gamma_g$. The Dirichlet boundaries $\\Gamma_0$ and $\\Gamma_g$ are defined as the closure of the green and blue surfaces in next figure respectively, whereas the Neumann boundary is $\\Gamma_{\\rm N}\\doteq\\partial\\Omega \\setminus (\\Gamma_0\\cup\\Gamma_g)$. In this example, we consider the values $p=3$, $f=1$, and $g=2$.\n",
    "\n",
    "![](../figures/p_laplacian/model.png)\n",
    "\n",
    "## Numerical scheme\n",
    "\n",
    "We discretize the problem with conforming Lagrangian FE spaces. For this formulation, the nonlinear weak form reads: find $u\\in U_g$ such that $[r(u)](v) = 0$ for all $v\\in V_0$. As in previous tutorials, the space $U_g$ is the set of functions in $H^1(\\Omega)$ that fulfill the Dirichlet boundary conditions, whereas $V_0$ is composed by functions in $H^1(\\Omega)$ that vanish at the Dirichlet boundary. The weak residual $r(u)$ evaluated at a function  $u\\in U_g$ is the linear form defined as\n",
    "\n",
    "$$\n",
    "[r(u)](v) \\doteq \\int_\\Omega \\nabla v \\cdot \\left( |\\nabla u|^{p-2}\\ \\nabla u \\right) \\ {\\rm d}\\Omega - \\int_\\Omega v\\ f \\ {\\rm d}\\Omega.\n",
    "$$\n",
    "\n",
    "In order to solve this nonlinear weak equation, we consider a Newton-Raphson method, which is associated with a linearization of the problem in an arbitrary direction $\\delta u\\in V_0$, namely $[r(u+\\delta u)](v)\\approx [r(u)](v) + [j(u)](\\delta u,v)$. In previous formula,  $j(u)$ is the Jacobian evaluated at $u\\in U_g$, which is the bilinear form\n",
    "\n",
    "$$\n",
    "[j(u)](\\delta u,v) = \\int_\\Omega \\nabla v \\cdot \\left( |\\nabla u|^{p-2}\\ \\nabla \\delta u \\right) \\ {\\rm d}\\Omega + (p-2) \\int_\\Omega \\nabla v \\cdot \\left(  |\\nabla u|^{p-4} (\\nabla u \\cdot \\nabla \\delta u) \\nabla u  \\right) \\ {\\rm d}\\Omega.\n",
    "$$\n",
    "\n",
    "Note that the solution of this nonlinear PDE with a Newton-Raphson method, will require to discretize both the residual $r$ and the Jacobian $j$. In Gridap, this is done by following an approach similar to the one already shown in previous tutorials for discretizing the bilinear and linear forms associated with a linear FE problem. The specific details are discussed now.\n",
    "\n",
    "## Discrete model\n",
    "\n",
    "As in previous tutorials, the first step to solve the PDE is to load a discretization of the computational domain. In this case, we load the model from the same file as in the first tutorial"
   ]
  },
  {
   "cell_type": "code",
   "execution_count": 2,
   "metadata": {},
   "outputs": [
    {
     "data": {
      "text/plain": [
       "UnstructuredDiscreteModel()"
      ]
     },
     "metadata": {},
     "output_type": "display_data"
    }
   ],
   "source": [
    "using Gridap\n",
    "using DrWatson\n",
    "model = DiscreteModelFromFile(projectdir(\"meshes/poisson.json\"))"
   ]
  },
  {
   "cell_type": "markdown",
   "metadata": {},
   "source": [
    "As stated before, we want to impose Dirichlet boundary conditions on $\\Gamma_0$ and $\\Gamma_g$,  but none of these boundaries is identified in the model. E.g., you can easily see by writing the model in vtk format"
   ]
  },
  {
   "cell_type": "code",
   "execution_count": 3,
   "metadata": {},
   "outputs": [
    {
     "data": {
      "text/plain": [
       "4-element Vector{Vector{String}}:\n",
       " [\"model_0.vtu\"]\n",
       " [\"model_1.vtu\"]\n",
       " [\"model_2.vtu\"]\n",
       " [\"model_3.vtu\"]"
      ]
     },
     "metadata": {},
     "output_type": "display_data"
    }
   ],
   "source": [
    "writevtk(model,\"model\")"
   ]
  },
  {
   "cell_type": "markdown",
   "metadata": {},
   "source": [
    "and by opening the file `\"model_0\"` in ParaView that the boundary identified as `\"sides\"` only includes the vertices in the interior of $\\Gamma_0$, but here we want to impose Dirichlet boundary conditions in the closure of $\\Gamma_0$, i.e., also on the vertices on the contour of $\\Gamma_0$. Fortunately, the objects on the contour of $\\Gamma_0$ are identified  with the tag `\"sides_c\"` (see next figure). Thus, the Dirichlet boundary $\\Gamma_0$ can be built as the union of the objects identified as `\"sides\"` and `\"sides_c\"`.\n",
    "\n",
    "![](../figures/p_laplacian/sides_c.png)\n",
    "\n",
    "Gridap provides a convenient way to create new object identifiers (referred to as \"tags\") from existing ones. First, we need to extract from the model, the object that holds the information about the boundary identifiers (referred to as `FaceLabeling`):"
   ]
  },
  {
   "cell_type": "code",
   "execution_count": 4,
   "metadata": {},
   "outputs": [
    {
     "data": {
      "text/plain": [
       "Gridap.Geometry.FaceLabeling:\n",
       " 0-faces: 7475\n",
       " 1-faces: 41858\n",
       " 2-faces: 63541\n",
       " 3-faces: 29160\n",
       " tags: 11\n",
       " entities: 252"
      ]
     },
     "metadata": {},
     "output_type": "display_data"
    }
   ],
   "source": [
    "labels = get_face_labeling(model)"
   ]
  },
  {
   "cell_type": "markdown",
   "metadata": {},
   "source": [
    "Then, we can add new identifiers (aka \"tags\") to it. In the next line, we create a new tag called `\"diri0\"` as the union of the objects identified as `\"sides\"` and `\"sides_c\"`, which is precisely what we need to represent the closure of the Dirichlet boundary $\\Gamma_0$."
   ]
  },
  {
   "cell_type": "code",
   "execution_count": 5,
   "metadata": {},
   "outputs": [
    {
     "data": {
      "text/plain": [
       "12-element Vector{String}:\n",
       " \"sides_c\"\n",
       " \"triangle_c\"\n",
       " \"square_c\"\n",
       " \"circle_c\"\n",
       " \"triangle\"\n",
       " \"square\"\n",
       " \"circle\"\n",
       " \"sides\"\n",
       " \"top\"\n",
       " \"bottom\"\n",
       " \"volume\"\n",
       " \"diri0\""
      ]
     },
     "metadata": {},
     "output_type": "display_data"
    }
   ],
   "source": [
    "add_tag_from_tags!(labels,\"diri0\",[\"sides\", \"sides_c\"])"
   ]
  },
  {
   "cell_type": "markdown",
   "metadata": {},
   "source": [
    "We follow the same approach to build a new identifier for the closure of the Dirichlet boundary $\\Gamma_g$. In this case, the boundary is expressed as the union of the objects identified with the tags `\"circle\"`, `\"circle_c\"`, `\"triangle\"`, `\"triangle_c\"`, `\"square\"`, `\"square_c\"`. Thus, we create a new tag for  $\\Gamma_g$, called `\"dirig\"` simply as follows:"
   ]
  },
  {
   "cell_type": "code",
   "execution_count": 6,
   "metadata": {},
   "outputs": [
    {
     "data": {
      "text/plain": [
       "13-element Vector{String}:\n",
       " \"sides_c\"\n",
       " \"triangle_c\"\n",
       " \"square_c\"\n",
       " \"circle_c\"\n",
       " \"triangle\"\n",
       " \"square\"\n",
       " \"circle\"\n",
       " \"sides\"\n",
       " \"top\"\n",
       " \"bottom\"\n",
       " \"volume\"\n",
       " \"diri0\"\n",
       " \"dirig\""
      ]
     },
     "metadata": {},
     "output_type": "display_data"
    }
   ],
   "source": [
    "add_tag_from_tags!(labels,\"dirig\",\n",
    "  [\"circle\",\"circle_c\", \"triangle\", \"triangle_c\", \"square\", \"square_c\"])"
   ]
  },
  {
   "cell_type": "markdown",
   "metadata": {},
   "source": [
    "## FE Space\n",
    "\n",
    "Now, we can build the FE space by using the newly defined boundary tags."
   ]
  },
  {
   "cell_type": "code",
   "execution_count": 7,
   "metadata": {},
   "outputs": [
    {
     "data": {
      "text/plain": [
       "UnconstrainedFESpace()"
      ]
     },
     "metadata": {},
     "output_type": "display_data"
    }
   ],
   "source": [
    "reffe = ReferenceFE(lagrangian,Float64,1)\n",
    "V0 = TestFESpace(model,reffe,conformity=:H1,labels=labels,dirichlet_tags=[\"diri0\", \"dirig\"])"
   ]
  },
  {
   "cell_type": "markdown",
   "metadata": {},
   "source": [
    "The construction of this space is essentially the same as in the first tutorial (we build a continuous scalar-valued Lagrangian interpolation of first order). However, we also pass here the `labels` object (that contains the newly created boundary tags). From this FE space, we define the trial FE spaces"
   ]
  },
  {
   "cell_type": "code",
   "execution_count": 8,
   "metadata": {},
   "outputs": [
    {
     "data": {
      "text/plain": [
       "TrialFESpace()"
      ]
     },
     "metadata": {},
     "output_type": "display_data"
    }
   ],
   "source": [
    "g = 1\n",
    "Ug = TrialFESpace(V0,[0,g])"
   ]
  },
  {
   "cell_type": "markdown",
   "metadata": {},
   "source": [
    "## Nonlinear FE problem\n",
    "\n",
    "At this point, we are ready to build the nonlinear FE problem. To this end, we need to define the weak residual and also its corresponding Jacobian. This is done following a similar procedure to the one considered in previous tutorials to define the bilinear and linear forms associated with linear FE problems. We first need to define the usual objects for numerical integration:"
   ]
  },
  {
   "cell_type": "code",
   "execution_count": 9,
   "metadata": {},
   "outputs": [
    {
     "data": {
      "text/plain": [
       "GenericMeasure()"
      ]
     },
     "metadata": {},
     "output_type": "display_data"
    }
   ],
   "source": [
    "degree=2\n",
    "Ω = Triangulation(model)\n",
    "dΩ = Measure(Ω,degree)"
   ]
  },
  {
   "cell_type": "markdown",
   "metadata": {},
   "source": [
    "On the one hand, the weak residual is built as follows"
   ]
  },
  {
   "cell_type": "code",
   "execution_count": 10,
   "metadata": {},
   "outputs": [
    {
     "data": {
      "text/plain": [
       "res (generic function with 1 method)"
      ]
     },
     "metadata": {},
     "output_type": "display_data"
    }
   ],
   "source": [
    "const p = 3\n",
    "flux(∇u) = norm(∇u)^(p-2) * ∇u\n",
    "f(x) = 1\n",
    "res(u,v) = ∫( ∇(v)⊙(flux∘∇(u)) - v*f )*dΩ"
   ]
  },
  {
   "cell_type": "markdown",
   "metadata": {},
   "source": [
    "Function `res` is the one representing the integrand of the weak residual $[r(u)](v)$. The first argument of function `res` stands for the function $u\\in U_g$, where the residual is evaluated, and the second argument stands for a generic test function $v\\in V_0$.\n",
    "\n",
    "On the other hand,  we (optionally) implement a function `jac` representing the Jacobian."
   ]
  },
  {
   "cell_type": "code",
   "execution_count": 11,
   "metadata": {},
   "outputs": [
    {
     "data": {
      "text/plain": [
       "jac (generic function with 1 method)"
      ]
     },
     "metadata": {},
     "output_type": "display_data"
    }
   ],
   "source": [
    "dflux(∇du,∇u) = (p-2)*norm(∇u)^(p-4)*(∇u⊙∇du)*∇u+norm(∇u)^(p-2)*∇du\n",
    "jac(u,du,v) = ∫( ∇(v)⊙(dflux∘(∇(du),∇(u))) )*dΩ"
   ]
  },
  {
   "cell_type": "markdown",
   "metadata": {},
   "source": [
    "The first argument of function `jac` stands for function $u\\in U_g$, where the Jacobian is evaluated. The second argument is a test function $v\\in V_0$, and the third argument represents an arbitrary direction $\\delta u \\in V_0$.\n",
    "\n",
    "We finally construct the nonlinear FE problem"
   ]
  },
  {
   "cell_type": "code",
   "execution_count": 12,
   "metadata": {},
   "outputs": [
    {
     "data": {
      "text/plain": [
       "FEOperatorFromWeakForm()"
      ]
     },
     "metadata": {},
     "output_type": "display_data"
    }
   ],
   "source": [
    "op = FEOperator(res,jac,Ug,V0)"
   ]
  },
  {
   "cell_type": "markdown",
   "metadata": {},
   "source": [
    "Here, we have constructed an instance of `FEOperator`, which is the type that represents a general nonlinear FE problem in Gridap. The constructor takes the functions representing the weak residual and Jacobian, and the test and trial spaces. If only the function for the residual is provided, the Jacobian is computed internally with automatic differentiation:"
   ]
  },
  {
   "cell_type": "code",
   "execution_count": 13,
   "metadata": {},
   "outputs": [
    {
     "data": {
      "text/plain": [
       "FEOperatorFromWeakForm()"
      ]
     },
     "metadata": {},
     "output_type": "display_data"
    }
   ],
   "source": [
    "op_AD = FEOperator(res,Ug,V0)"
   ]
  },
  {
   "cell_type": "markdown",
   "metadata": {},
   "source": [
    "## Nonlinear solver phase\n",
    "\n",
    "We have already built the nonlinear FE problem. Now, the remaining step is to solve it. In Gridap, nonlinear (and also linear) FE problems can be solved with instances of the type `FESolver`.\n",
    "\n",
    "We construct an instance of `FESolver` as follows:"
   ]
  },
  {
   "cell_type": "code",
   "execution_count": 14,
   "metadata": {},
   "outputs": [
    {
     "data": {
      "text/plain": [
       "NonlinearFESolver()"
      ]
     },
     "metadata": {},
     "output_type": "display_data"
    }
   ],
   "source": [
    "using LineSearches: BackTracking\n",
    "nls = NLSolver(\n",
    "  show_trace=true, method=:newton, linesearch=BackTracking())\n",
    "solver = FESolver(nls)"
   ]
  },
  {
   "cell_type": "markdown",
   "metadata": {},
   "source": [
    "Note that the `NLSolver` function used above internally calls the `nlsolve` function of the [NLsolve](https://github.com/JuliaNLSolvers/NLsolve.jl) package with the provided key-word arguments. Thus, one can use any of the nonlinear methods available via the function `nlsolve` to solve the nonlinear FE problem. Here, we have selected a Newton-Raphson method with a back-tracking line-search from the [LineSearches](https://github.com/JuliaNLSolvers/LineSearches.jl) package.\n",
    "\n",
    "We are finally in place to solve the nonlinear FE problem. The initial guess is a `FEFunction`, which we build from a vector of random (free) nodal values:"
   ]
  },
  {
   "cell_type": "code",
   "execution_count": 15,
   "metadata": {},
   "outputs": [
    {
     "name": "stdout",
     "output_type": "stream",
     "text": [
      "Iter     f(x) inf-norm    Step 2-norm \n",
      "------   --------------   --------------\n"
     ]
    },
    {
     "name": "stdout",
     "output_type": "stream",
     "text": [
      "     0     1.264474e+01              NaN\n",
      "     1     3.181047e+00     2.451609e+02\n"
     ]
    },
    {
     "name": "stdout",
     "output_type": "stream",
     "text": [
      "     2     8.126497e-01     6.505979e+01\n",
      "     3     2.172633e-01     1.832190e+01\n"
     ]
    },
    {
     "name": "stdout",
     "output_type": "stream",
     "text": [
      "     4     5.936721e-02     4.269481e+00\n",
      "     5     1.448536e-02     7.820736e-01\n"
     ]
    },
    {
     "name": "stdout",
     "output_type": "stream",
     "text": [
      "     6     2.110558e-03     7.263062e-02\n",
      "     7     3.612394e-04     6.331416e-03\n"
     ]
    },
    {
     "name": "stdout",
     "output_type": "stream",
     "text": [
      "     8     8.247168e-05     6.556842e-04\n",
      "     9     1.109265e-05     4.883434e-05\n"
     ]
    },
    {
     "name": "stdout",
     "output_type": "stream",
     "text": [
      "    10     4.902654e-07     1.217697e-06\n",
      "    11     5.725638e-09     2.894254e-09\n"
     ]
    },
    {
     "data": {
      "text/plain": [
       "(SingleFieldFEFunction(), NLSolversCache())"
      ]
     },
     "metadata": {},
     "output_type": "display_data"
    }
   ],
   "source": [
    "import Random\n",
    "Random.seed!(1234)\n",
    "x = rand(Float64,num_free_dofs(Ug))\n",
    "uh0 = FEFunction(Ug,x)\n",
    "uh, = solve!(uh0,solver,op)"
   ]
  },
  {
   "cell_type": "markdown",
   "metadata": {},
   "source": [
    "We finish this tutorial by writing the computed solution for visualization (see next figure)."
   ]
  },
  {
   "cell_type": "code",
   "execution_count": 16,
   "metadata": {},
   "outputs": [
    {
     "data": {
      "text/plain": [
       "([\"/home/gkluber/Desktop/GridapWorkshop2023Material/data/p_laplacian.vtu\"],)"
      ]
     },
     "metadata": {},
     "output_type": "display_data"
    }
   ],
   "source": [
    "writevtk(Ω,datadir(\"p_laplacian\"),cellfields=[\"uh\"=>uh])"
   ]
  },
  {
   "cell_type": "markdown",
   "metadata": {},
   "source": [
    "![](../figures/p_laplacian/sol-plap.png)"
   ]
  }
 ],
 "metadata": {
  "kernelspec": {
   "display_name": "Julia 1.9.4",
   "language": "julia",
   "name": "julia-1.9"
  },
  "language_info": {
   "file_extension": ".jl",
   "mimetype": "application/julia",
   "name": "julia",
   "version": "1.9.4"
  }
 },
 "nbformat": 4,
 "nbformat_minor": 3
}
