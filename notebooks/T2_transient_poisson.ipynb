{
 "cells": [
  {
   "cell_type": "markdown",
   "metadata": {},
   "source": [
    "## Introduction"
   ]
  },
  {
   "cell_type": "markdown",
   "metadata": {},
   "source": [
    "In this tutorial we will learn how to use Gridap for approximating transient PDEs by using time marching schemes (method of lines). We consider the *heat equation*, a.k.a. the transient Poisson equation."
   ]
  },
  {
   "cell_type": "markdown",
   "metadata": {},
   "source": [
    "## Problem statement"
   ]
  },
  {
   "cell_type": "markdown",
   "metadata": {},
   "source": [
    "We solve the heat equation in a 2-dimensional domain $\\Omega$, the unit square, with Homogeneous Dirichlet boundaries on the whole boundary $\\partial \\Omega$. We consider a time-dependent conductivity $\\kappa(t)=1.0 + 0.95\\sin(2\\pi t)$, a time-dependent volumetric forcing term $f(t) = \\sin(\\pi t)$ and a constant Homogeneous boundary condition $g = 0.0$. The initial solution is $u(x,0) = u_0 = 0$. With these definitions, the strong form of the problem reads:"
   ]
  },
  {
   "cell_type": "markdown",
   "metadata": {},
   "source": [
    "$$\n",
    "\\left\\lbrace\n",
    "\\begin{aligned}\n",
    "\\frac{\\partial u(t)}{\\partial t} -\\kappa(t)\\Delta u(t) = f(t)  \\ &\\text{ in } \\ \\Omega,\\\\\n",
    "u(t) = 0 \\ &\\text{ on }\\ \\Gamma_{\\rm D},\\\\\n",
    "u(0) = 0 \\ &\\text{ in }\\ \\Omega\\\\\n",
    "\\end{aligned}\n",
    "\\right.\n",
    "$$"
   ]
  },
  {
   "cell_type": "markdown",
   "metadata": {},
   "source": [
    "The weak form of the problem reads: find $u(t)\\in U_g(t)$ such that"
   ]
  },
  {
   "cell_type": "markdown",
   "metadata": {},
   "source": [
    "$$\n",
    "m(t,u,v) + a(t,u,v) = b(t,v)\\quad \\forall v\\in \\ V\n",
    "$$"
   ]
  },
  {
   "cell_type": "markdown",
   "metadata": {},
   "source": [
    "Note that $U_t(t)$ is a transient FE space, in the sense that Dirichlet boundary value of functions in $U_t$ _can_ change in time (even though this is not the case in this tutorial). The definition of $m(u,v)$, $a(u,v)$ and $b(v)$ is as follows:"
   ]
  },
  {
   "cell_type": "markdown",
   "metadata": {},
   "source": [
    "$$\n",
    "\\begin{aligned}\n",
    "m(t,u,v) = \\int_\\Omega v\\frac{\\partial u}{\\partial t} d\\Omega, \\\\\n",
    "a(t,u,v) = \\int_\\Omega \\kappa(t) \\nabla v\\cdot \\nabla u d\\Omega, \\\\\n",
    "b(t,v) = \\int_\\Omega v\\ f(t) d\\Omega\n",
    "\\end{aligned}\n",
    "$$"
   ]
  },
  {
   "cell_type": "markdown",
   "metadata": {},
   "source": [
    "## Discrete model and Triangulation"
   ]
  },
  {
   "cell_type": "markdown",
   "metadata": {},
   "source": [
    "As for Poisson, we start by loading the libaries and defining our `DiscreteModel` the `Triangulation`."
   ]
  },
  {
   "cell_type": "code",
   "execution_count": 1,
   "metadata": {},
   "outputs": [
    {
     "data": {
      "text/plain": [
       "GenericMeasure()"
      ]
     },
     "metadata": {},
     "output_type": "display_data"
    }
   ],
   "source": [
    "using Gridap\n",
    "using DrWatson\n",
    "\n",
    "model = CartesianDiscreteModel((0,1,0,1),(20,20))\n",
    "Ω  = Triangulation(model)\n",
    "dΩ = Measure(Ω,2)"
   ]
  },
  {
   "cell_type": "markdown",
   "metadata": {},
   "source": [
    "## FE spaces\n",
    "\n",
    "The space of test functions is constant in time and is defined like for the steady problem:"
   ]
  },
  {
   "cell_type": "code",
   "execution_count": 2,
   "metadata": {},
   "outputs": [
    {
     "data": {
      "text/plain": [
       "UnconstrainedFESpace()"
      ]
     },
     "metadata": {},
     "output_type": "display_data"
    }
   ],
   "source": [
    "reffe = ReferenceFE(lagrangian,Float64,1)\n",
    "V = TestFESpace(model,reffe,dirichlet_tags=\"boundary\")"
   ]
  },
  {
   "cell_type": "markdown",
   "metadata": {},
   "source": [
    "The trial space is now a `TransientTrialFESpace`, which is constructed from a `TestFESpace` and a function (or vector of functions) for the Dirichlet boundary condition/s. In that case, the boundary condition function is a time-independent constant, but it could also be a time-dependent field depending on the coordinates $x$ and time $t$."
   ]
  },
  {
   "cell_type": "code",
   "execution_count": 3,
   "metadata": {},
   "outputs": [
    {
     "data": {
      "text/plain": [
       "TransientTrialFESpace{Gridap.FESpaces.UnconstrainedFESpace{Vector{Float64}, Gridap.FESpaces.NodeToDofGlue{Int32}}, TrialFESpace{Gridap.FESpaces.UnconstrainedFESpace{Vector{Float64}, Gridap.FESpaces.NodeToDofGlue{Int32}}}}(UnconstrainedFESpace(), g, TrialFESpace())"
      ]
     },
     "metadata": {},
     "output_type": "display_data"
    }
   ],
   "source": [
    "g(x,t::Real) = 0.0\n",
    "g(t::Real) = x -> g(x,t)\n",
    "U = TransientTrialFESpace(V,g)"
   ]
  },
  {
   "cell_type": "markdown",
   "metadata": {},
   "source": [
    "## Weak form\n",
    "\n",
    "The weak form of the problem follows the same structure as other `Gridap` tutorials, where we define the bilinear and linear forms to define the `FEOperator`. In this case we need to deal with time-dependent quantities and with the presence of time derivatives. The former is handled by passing the time, $t$, as an additional argument to the form, i.e. $a(t,u,v)$. The latter is defined using the time derivative operator `∂t`."
   ]
  },
  {
   "cell_type": "markdown",
   "metadata": {},
   "source": [
    "The most general way of constructing a transient FE operator is by using the `TransientFEOperator` function, which receives a residual, a jacobian with respect to the unknown and a jacobian with respect to the time derivative."
   ]
  },
  {
   "cell_type": "code",
   "execution_count": 4,
   "metadata": {},
   "outputs": [
    {
     "data": {
      "text/plain": [
       "TransientFEOperatorFromWeakForm()"
      ]
     },
     "metadata": {},
     "output_type": "display_data"
    }
   ],
   "source": [
    "κ(t) = 1.0 + 0.95*sin(2π*t)\n",
    "f(t) = sin(π*t)\n",
    "res(t,u,v) = ∫( ∂t(u)*v + κ(t)*(∇(u)⋅∇(v)) - f(t)*v )dΩ\n",
    "jac(t,u,du,v) = ∫( κ(t)*(∇(du)⋅∇(v)) )dΩ\n",
    "jac_t(t,u,duₜ,v) = ∫( duₜ*v )dΩ\n",
    "op = TransientFEOperator(res,jac,jac_t,U,V)"
   ]
  },
  {
   "cell_type": "markdown",
   "metadata": {},
   "source": [
    "We can also take advantage of automatic differentiation techniques to compute both Jacobians and use the `TransientFEOperator` function sending just the residual."
   ]
  },
  {
   "cell_type": "code",
   "execution_count": 5,
   "metadata": {},
   "outputs": [
    {
     "data": {
      "text/plain": [
       "TransientFEOperatorFromWeakForm()"
      ]
     },
     "metadata": {},
     "output_type": "display_data"
    }
   ],
   "source": [
    "op_AD = TransientFEOperator(res,U,V)"
   ]
  },
  {
   "cell_type": "markdown",
   "metadata": {},
   "source": [
    "Alternatively, we can exploit the fact that the problem is linear and use the transient Affine FE operator signature `TransientAffineFEOperator`. In that case, we send a form for the mass contribution, $m$, a form for the stiffness contribution, $a$, and the forcing term, $b$."
   ]
  },
  {
   "cell_type": "code",
   "execution_count": 6,
   "metadata": {},
   "outputs": [
    {
     "data": {
      "text/plain": [
       "TransientFEOperatorFromWeakForm()"
      ]
     },
     "metadata": {},
     "output_type": "display_data"
    }
   ],
   "source": [
    "m(t,u,v) = ∫( ∂t(u)*v )dΩ\n",
    "a(t,u,v) = ∫( κ(t)*(∇(u)⋅∇(v)) )dΩ\n",
    "b(t,v) = ∫( f(t)*v )dΩ\n",
    "op_Af = TransientAffineFEOperator(m,a,b,U,V)"
   ]
  },
  {
   "cell_type": "markdown",
   "metadata": {},
   "source": [
    "### Alternative FE operator definitions\n",
    "\n",
    "For time-dependent problems with **constant coefficients**, which is not the case of this tutorial, one could use the optimized operator `TransientConstantMatrixFEOperator`, which assumes that the matrix contributions ($m$ and $a$) are time-independent. That is:"
   ]
  },
  {
   "cell_type": "code",
   "execution_count": 7,
   "metadata": {},
   "outputs": [
    {
     "data": {
      "text/plain": [
       "TransientFEOperatorFromWeakForm()"
      ]
     },
     "metadata": {},
     "output_type": "display_data"
    }
   ],
   "source": [
    "m₀(u,v) = ∫( u*v )dΩ\n",
    "a₀(u,v) = ∫( κ(0.0)*(∇(u)⋅∇(v)) )dΩ\n",
    "op_CM = TransientConstantMatrixFEOperator(m₀,a₀,b,U,V)"
   ]
  },
  {
   "cell_type": "markdown",
   "metadata": {},
   "source": [
    "Going further, if we had a problem with constant forcing term, i.e. constant force and constant boundary conditions, we could have used the `TransientConstantFEOperator`. In that case the linear form is also time-independent."
   ]
  },
  {
   "cell_type": "code",
   "execution_count": 8,
   "metadata": {},
   "outputs": [
    {
     "data": {
      "text/plain": [
       "TransientFEOperatorFromWeakForm()"
      ]
     },
     "metadata": {},
     "output_type": "display_data"
    }
   ],
   "source": [
    "b₀(v) = ∫( f(0.0)*v )dΩ\n",
    "op_C = TransientConstantFEOperator(m₀,a₀,b₀,U,V)"
   ]
  },
  {
   "cell_type": "markdown",
   "metadata": {},
   "source": [
    "## Transient solver"
   ]
  },
  {
   "cell_type": "markdown",
   "metadata": {},
   "source": [
    "Once we have the FE operator defined, we proceed with the definition of the transient solver. First, we define a linear solver to be used at each time step. Here we use the `LUSolver`, but other choices are possible."
   ]
  },
  {
   "cell_type": "code",
   "execution_count": 9,
   "metadata": {},
   "outputs": [
    {
     "data": {
      "text/plain": [
       "LUSolver()"
      ]
     },
     "metadata": {},
     "output_type": "display_data"
    }
   ],
   "source": [
    "linear_solver = LUSolver()"
   ]
  },
  {
   "cell_type": "markdown",
   "metadata": {},
   "source": [
    "Then, we define the ODE solver. That is, the scheme that will be used for the time integration. In this tutorial we use the `ThetaMethod` with $\\theta = 0.5$, resulting in a 2nd order scheme. The `ThetaMethod` function receives the linear solver, the time step size $\\Delta t$ (constant) and the value of $\\theta$."
   ]
  },
  {
   "cell_type": "code",
   "execution_count": 10,
   "metadata": {},
   "outputs": [
    {
     "data": {
      "text/plain": [
       "ThetaMethod()"
      ]
     },
     "metadata": {},
     "output_type": "display_data"
    }
   ],
   "source": [
    "Δt = 0.05\n",
    "θ = 0.5\n",
    "ode_solver = ThetaMethod(linear_solver,Δt,θ)"
   ]
  },
  {
   "cell_type": "markdown",
   "metadata": {},
   "source": [
    "Finally, we define the solution using the `solve` function, giving the ODE solver, the FE operator, an initial solution, an initial time and a final time. To construct the initial condition we interpolate the initial value (in that case a constant value of 0.0) into the FE space $U(t)$ at $t=0.0$."
   ]
  },
  {
   "cell_type": "code",
   "execution_count": 11,
   "metadata": {},
   "outputs": [
    {
     "data": {
      "text/plain": [
       "Gridap.ODEs.TransientFETools.TransientFESolution(GenericODESolution(), TransientTrialFESpace{Gridap.FESpaces.UnconstrainedFESpace{Vector{Float64}, Gridap.FESpaces.NodeToDofGlue{Int32}}, TrialFESpace{Gridap.FESpaces.UnconstrainedFESpace{Vector{Float64}, Gridap.FESpaces.NodeToDofGlue{Int32}}}}(UnconstrainedFESpace(), g, TrialFESpace()))"
      ]
     },
     "metadata": {},
     "output_type": "display_data"
    }
   ],
   "source": [
    "u₀ = interpolate_everywhere(0.0,U(0.0))\n",
    "t₀ = 0.0\n",
    "T = 10.0\n",
    "uₕₜ = solve(ode_solver,op,u₀,t₀,T)"
   ]
  },
  {
   "cell_type": "markdown",
   "metadata": {},
   "source": [
    "## Postprocessing"
   ]
  },
  {
   "cell_type": "markdown",
   "metadata": {},
   "source": [
    "We should highlight that `uₕₜ` is just an _iterable_ function and the results at each time steps are only computed when iterating over it, i.e., lazily. We can post-process the results and generate the corresponding `vtk` files using the `createpvd` and `createvtk` functions. The former will create a `.pvd` file with the collection of `.vtu` files saved at each time step by `createvtk`. The computation of the problem solutions will be triggered in the following loop:"
   ]
  },
  {
   "cell_type": "code",
   "execution_count": 12,
   "metadata": {},
   "outputs": [
    {
     "data": {
      "text/plain": [
       "201-element Vector{String}:\n",
       " \"/home/gkluber/Desktop/GridapWor\" ⋯ 22 bytes ⋯ \"/poisson_transient_solution.pvd\"\n",
       " \"/home/gkluber/Desktop/GridapWor\" ⋯ 36 bytes ⋯ \"ient_solution/solution_0.05.vtu\"\n",
       " \"/home/gkluber/Desktop/GridapWor\" ⋯ 35 bytes ⋯ \"sient_solution/solution_0.1.vtu\"\n",
       " \"/home/gkluber/Desktop/GridapWor\" ⋯ 51 bytes ⋯ \"olution_0.15000000000000002.vtu\"\n",
       " \"/home/gkluber/Desktop/GridapWor\" ⋯ 35 bytes ⋯ \"sient_solution/solution_0.2.vtu\"\n",
       " \"/home/gkluber/Desktop/GridapWor\" ⋯ 36 bytes ⋯ \"ient_solution/solution_0.25.vtu\"\n",
       " \"/home/gkluber/Desktop/GridapWor\" ⋯ 35 bytes ⋯ \"sient_solution/solution_0.3.vtu\"\n",
       " \"/home/gkluber/Desktop/GridapWor\" ⋯ 36 bytes ⋯ \"ient_solution/solution_0.35.vtu\"\n",
       " \"/home/gkluber/Desktop/GridapWor\" ⋯ 51 bytes ⋯ \"olution_0.39999999999999997.vtu\"\n",
       " \"/home/gkluber/Desktop/GridapWor\" ⋯ 51 bytes ⋯ \"olution_0.44999999999999996.vtu\"\n",
       " ⋮\n",
       " \"/home/gkluber/Desktop/GridapWor\" ⋯ 49 bytes ⋯ \"/solution_9.600000000000001.vtu\"\n",
       " \"/home/gkluber/Desktop/GridapWor\" ⋯ 49 bytes ⋯ \"/solution_9.650000000000002.vtu\"\n",
       " \"/home/gkluber/Desktop/GridapWor\" ⋯ 49 bytes ⋯ \"/solution_9.700000000000003.vtu\"\n",
       " \"/home/gkluber/Desktop/GridapWor\" ⋯ 49 bytes ⋯ \"/solution_9.750000000000004.vtu\"\n",
       " \"/home/gkluber/Desktop/GridapWor\" ⋯ 49 bytes ⋯ \"/solution_9.800000000000004.vtu\"\n",
       " \"/home/gkluber/Desktop/GridapWor\" ⋯ 49 bytes ⋯ \"/solution_9.850000000000005.vtu\"\n",
       " \"/home/gkluber/Desktop/GridapWor\" ⋯ 49 bytes ⋯ \"/solution_9.900000000000006.vtu\"\n",
       " \"/home/gkluber/Desktop/GridapWor\" ⋯ 49 bytes ⋯ \"/solution_9.950000000000006.vtu\"\n",
       " \"/home/gkluber/Desktop/GridapWor\" ⋯ 50 bytes ⋯ \"solution_10.000000000000007.vtu\""
      ]
     },
     "metadata": {},
     "output_type": "display_data"
    }
   ],
   "source": [
    "dir = datadir(\"poisson_transient_solution\")\n",
    "!isdir(dir) && mkdir(dir)\n",
    "createpvd(dir) do pvd\n",
    "  for (uₕ,t) in uₕₜ\n",
    "    file = dir*\"/solution_$t\"*\".vtu\"\n",
    "    pvd[t] = createvtk(Ω,file,cellfields=[\"u\"=>uₕ])\n",
    "  end\n",
    "end"
   ]
  },
  {
   "cell_type": "markdown",
   "metadata": {},
   "source": [
    "![](../figures/poisson_transient/poisson_transient.gif)"
   ]
  }
 ],
 "metadata": {
  "kernelspec": {
   "display_name": "Julia 1.9.4",
   "language": "julia",
   "name": "julia-1.9"
  },
  "language_info": {
   "file_extension": ".jl",
   "mimetype": "application/julia",
   "name": "julia",
   "version": "1.9.4"
  }
 },
 "nbformat": 4,
 "nbformat_minor": 3
}
