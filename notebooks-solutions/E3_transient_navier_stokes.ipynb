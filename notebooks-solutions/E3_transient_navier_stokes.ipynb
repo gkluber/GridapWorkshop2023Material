{
 "cells": [
  {
   "cell_type": "markdown",
   "metadata": {},
   "source": [
    "## Problem statement\n",
    "\n",
    "The goal is to solve a time-dependent nonlinear multi-field PDE. As a model problem, we consider a well known benchmark in computational fluid dynamics, the laminar flow around a cyclinder for the transient incompressible Navier-Stokes equations. We will solve this problem by building on the previous exercise.\n",
    "\n",
    "Like in the previous exercise, the computational domain $\\Omega$ is a 2-dimensional channel. The fluid enters the channel from the left boundary (inlet) and exits through the right boundary (outlet). The channel has a cylindrical obstacle near the inlet. The domain can be seen in the following figure:\n",
    "\n",
    "![](../figures/ins/perforated_plate.png)\n",
    "\n",
    "\n",
    "We define $\\partial \\Omega = \\Gamma_{w} \\cup \\Gamma_{c} \\cup \\Gamma_{in} \\cup \\Gamma_{out}$ with $\\Gamma_{w}$ the top and bottom channel walls, $\\Gamma_{c}$ the cylinder walls, $\\Gamma_{in}$ the inlet and $\\Gamma_{out}$ the outlet.\n",
    "\n",
    "Formally, the PDE we want to solve is: find the velocity vector $u$ and the pressure $p$ such that\n",
    "\n",
    "$$\n",
    "\\left\\lbrace\n",
    "\\begin{aligned}\n",
    "\\frac{\\partial u}{\\partial t} - \\Delta u + \\mathit{Re}\\ (u\\cdot \\nabla)\\ u + \\nabla p = 0 &\\text{ in }\\Omega,\\\\\n",
    "\\nabla\\cdot u = 0 &\\text{ in } \\Omega,\\\\\n",
    "u = u_{in} &\\text{ on } \\Gamma_{in},\\\\\n",
    "u = 0 &\\text{ on } \\Gamma_{w} \\cup \\Gamma_{c},\\\\\n",
    "n_\\Gamma \\cdot \\sigma = 0 &\\text{ on } \\Gamma_{out},\\\\\n",
    "\\end{aligned}\n",
    "\\right.\n",
    "$$\n",
    "\n",
    "where $d=2$ , and $\\mathit{Re}$ is the Reynolds number.\n",
    "\n",
    "The inflow condition is now time-dependent and given by\n",
    "\n",
    "$$\n",
    "u_{in}(0,y,t) = \\left( 4 U_{m} \\frac{y(H-y)}{H^2} \\xi(t), 0 \\right)\n",
    "$$\n",
    "\n",
    "with $U_{m}=1.5 \\ m/s$ the maximum velocity, $H = 0.41 \\ m$ the height of the channel and $\\xi$ a function\n",
    "\n",
    "$$\n",
    "\\xi(t) = \\left\\lbrace\n",
    "\\begin{aligned}\n",
    "  \\sin\\left(\\frac{\\pi t}{2 T_{th}}\\right) &\\text{ if } t \\leq T_{th} \\\\\n",
    "  1.0 &\\text{ if } t > T_{th} \\\\\n",
    "\\end{aligned}\n",
    "\\right.\n",
    "$$\n",
    "\n",
    "with $T_{th}$ the time it takes for the flow to reach a steady state.\n",
    "\n",
    "## Numerical Scheme\n",
    "\n",
    "In order to approximate this problem we choose the same formulation as before, namely a formulation based on inf-sup stable $P_{k}/P_{k-1}$ triangular elements with continuous velocities and pressures. The interpolation spaces are defined as follows. The velocity interpolation space is\n",
    "\n",
    "$$\n",
    "V \\doteq \\{ v \\in [H^1(\\Omega)]^d:\\ v|_T\\in [P_k(T)]^d \\text{ for all } T\\in\\mathcal{T} \\},\n",
    "$$\n",
    "\n",
    "where $T$ denotes an arbitrary cell of the FE mesh $\\mathcal{T}$, and $P_k(T)$ is the usual Lagrangian FE space of order $k$ defined on a mesh of triangles or tetrahedra.\n",
    "On the other hand, the space for the pressure is given by\n",
    "\n",
    "$$\n",
    "Q \\doteq \\{ q \\in C^0(\\Omega):\\ q|_T\\in P_{k-1}(T) \\text{ for all } T\\in\\mathcal{T}\\}.\n",
    "$$\n",
    "\n",
    "The weak form associated to these interpolation spaces reads: find $(u,p)\\in U_g \\times Q$ such that $[r(u,p)](v,q)=0$ for all $(v,q)\\in V_0 \\times Q$\n",
    "where $U_g$ and $V_0$ are the set of functions in $V$ fulfilling the Dirichlet boundary conditions and the homogeneous Dirichlet boundary conditions respetively. The weak residual $r$ evaluated at a given pair $(u,p)$ is the linear form defined as\n",
    "\n",
    "$$\n",
    "[r(t,(u,p))](v,q) \\doteq m(t,(u,p),(v,q)) + a(t,(u,p),(v,q)) + [c(u)](v),\n",
    "$$\n",
    "with\n",
    "$$\n",
    "\\begin{aligned}\n",
    "m(t,(u,p),(v,q)) &\\doteq \\int_{\\Omega} \\frac{\\partial u}{\\partial t} \\cdot v \\ {\\rm d}\\Omega,\\\\\n",
    "a(t,(u,p),(v,q)) &\\doteq \\int_{\\Omega} \\nabla v \\cdot \\nabla u \\ {\\rm d}\\Omega - \\int_{\\Omega} (\\nabla\\cdot v) \\ p \\ {\\rm d}\\Omega + \\int_{\\Omega} q \\ (\\nabla \\cdot u) \\ {\\rm d}\\Omega,\\\\\n",
    "[c(u)](v) &\\doteq \\int_{\\Omega} v \t\\cdot \\left( (u\\cdot\\nabla)\\ u \\right)\\ {\\rm d}\\Omega.\\\\\n",
    "\\end{aligned}\n",
    "$$\n",
    "\n",
    "In this exercise, we will rely on automatic differentiation to compute the necessary jacobians in time and space."
   ]
  },
  {
   "cell_type": "markdown",
   "metadata": {},
   "source": [
    "## Geometry\n",
    "\n",
    "### Exercise 1\n",
    "\n",
    "_By using the code in the previous exercise, load the mesh from the file `perforated_plate_tiny.msh`. If your computer is good enough, or if you are working on Gadi, you might want to try the refined model in file `perforated_plate.msh`._"
   ]
  },
  {
   "cell_type": "code",
   "execution_count": 1,
   "metadata": {},
   "outputs": [
    {
     "name": "stdout",
     "output_type": "stream",
     "text": [
      "Info    : Reading '/home/gkluber/Desktop/GridapWorkshop2023Material/meshes/perforated_plate_tiny.msh'...\n",
      "Info    : 429 nodes\n",
      "Info    : 862 elements\n",
      "Info    : Done reading '/home/gkluber/Desktop/GridapWorkshop2023Material/meshes/perforated_plate_tiny.msh'\n"
     ]
    },
    {
     "data": {
      "text/plain": [
       "UnstructuredDiscreteModel()"
      ]
     },
     "metadata": {},
     "output_type": "display_data"
    }
   ],
   "source": [
    "using Gridap, GridapGmsh\n",
    "using DrWatson\n",
    "\n",
    "msh_file = projectdir(\"meshes/perforated_plate_tiny.msh\")\n",
    "model = GmshDiscreteModel(msh_file)"
   ]
  },
  {
   "cell_type": "markdown",
   "metadata": {},
   "source": [
    "## FE spaces\n",
    "\n",
    "### Exercise 2\n",
    "\n",
    "_Define the test FE spaces for teh velocity and pressure, using the same discretisations as in the previous exercise._"
   ]
  },
  {
   "cell_type": "code",
   "execution_count": 2,
   "metadata": {},
   "outputs": [
    {
     "data": {
      "text/plain": [
       "UnconstrainedFESpace()"
      ]
     },
     "metadata": {},
     "output_type": "display_data"
    }
   ],
   "source": [
    "D = 2\n",
    "k = 2\n",
    "\n",
    "reffeᵤ = ReferenceFE(lagrangian,VectorValue{D,Float64},k)\n",
    "reffeₚ = ReferenceFE(lagrangian,Float64,k-1)\n",
    "V = TestFESpace(model,reffeᵤ,conformity=:H1,dirichlet_tags=[\"inlet\",\"walls\",\"cylinder\"])\n",
    "Q = TestFESpace(model,reffeₚ,conformity=:C0)"
   ]
  },
  {
   "cell_type": "markdown",
   "metadata": {},
   "source": [
    "### Exercise 3\n",
    "_Define the boundary conditions for velocity. You should define three functions `u_in`, `u_w` and `u_c` representing the prescribed dirichlet values at $\\Gamma_{in}$, $\\Gamma_w$ and $\\Gamma_c$ respectively._"
   ]
  },
  {
   "cell_type": "code",
   "execution_count": 3,
   "metadata": {},
   "outputs": [
    {
     "data": {
      "text/plain": [
       "u_c (generic function with 2 methods)"
      ]
     },
     "metadata": {},
     "output_type": "display_data"
    }
   ],
   "source": [
    "const Tth = 2\n",
    "const Uₘ = 1.5\n",
    "const H  = 0.41\n",
    "ξ(t) = (t <= Tth) ? sin(π*t/(2*Tth)) : 1.0\n",
    "u_in(x,t::Real) = VectorValue( 4 * Uₘ * x[2] * (H-x[2]) / (H^2) * ξ(t), 0.0 )\n",
    "u_w(x,t::Real)  = VectorValue(0.0,0.0)\n",
    "u_c(x,t::Real)  = VectorValue(0.0,0.0)\n",
    "u_in(t::Real)   = x -> u_in(x,t)\n",
    "u_w(t::Real)    = x -> u_w(x,t)\n",
    "u_c(t::Real)    = x -> u_c(x,t)"
   ]
  },
  {
   "cell_type": "markdown",
   "metadata": {},
   "source": [
    "### Exercise 4\n",
    "_Define the trial and test spaces for the velocity and pressure fields, as well as the corresponding multi-field spaces._"
   ]
  },
  {
   "cell_type": "code",
   "execution_count": 4,
   "metadata": {},
   "outputs": [
    {
     "data": {
      "text/plain": [
       "TransientMultiFieldTrialFESpace(Any[TransientTrialFESpace{Gridap.FESpaces.UnconstrainedFESpace{Vector{Float64}, Nothing}, TrialFESpace{Gridap.FESpaces.UnconstrainedFESpace{Vector{Float64}, Nothing}}}(UnconstrainedFESpace(), Function[u_in, u_w, u_c], TrialFESpace()), UnconstrainedFESpace()])"
      ]
     },
     "metadata": {},
     "output_type": "display_data"
    }
   ],
   "source": [
    "U = TransientTrialFESpace(V,[u_in,u_w,u_c])\n",
    "P = TrialFESpace(Q)\n",
    "Y = MultiFieldFESpace([V, Q])\n",
    "X = TransientMultiFieldFESpace([U, P])"
   ]
  },
  {
   "cell_type": "markdown",
   "metadata": {},
   "source": [
    "## Nonlinear weak form and FE operator\n",
    "\n",
    "As usual, we start by defining the triangulations and measures we will need to define the weak form. In this case, we need to define the measure associate with the bulk $d\\Omega$, as well as the measure associated with the outlet boundary $\\Gamma_{out}$."
   ]
  },
  {
   "cell_type": "code",
   "execution_count": 5,
   "metadata": {},
   "outputs": [
    {
     "data": {
      "text/plain": [
       "GenericMeasure()"
      ]
     },
     "metadata": {},
     "output_type": "display_data"
    }
   ],
   "source": [
    "degree = k\n",
    "Ω  = Triangulation(model)\n",
    "dΩ = Measure(Ω,degree)\n",
    "\n",
    "Γ_out = BoundaryTriangulation(model,tags=\"outlet\")\n",
    "n_Γout = get_normal_vector(Γ_out)\n",
    "dΓ_out = Measure(Γ_out,degree)"
   ]
  },
  {
   "cell_type": "markdown",
   "metadata": {},
   "source": [
    "We also define the Reynolds number and functions to represent the convective term."
   ]
  },
  {
   "cell_type": "code",
   "execution_count": 6,
   "metadata": {},
   "outputs": [
    {
     "data": {
      "text/plain": [
       "conv (generic function with 1 method)"
      ]
     },
     "metadata": {},
     "output_type": "display_data"
    }
   ],
   "source": [
    "const Re = 100.0\n",
    "conv(u,∇u) = Re*(∇u')⋅u"
   ]
  },
  {
   "cell_type": "markdown",
   "metadata": {},
   "source": [
    "### Exercise 5\n",
    "_Define the residual $r$ and the `TransientFEOperator` for our problem._"
   ]
  },
  {
   "cell_type": "code",
   "execution_count": 7,
   "metadata": {},
   "outputs": [
    {
     "data": {
      "text/plain": [
       "TransientFEOperatorFromWeakForm()"
      ]
     },
     "metadata": {},
     "output_type": "display_data"
    }
   ],
   "source": [
    "m(t,(u,p),(v,q)) = ∫( ∂t(u)⋅v )dΩ\n",
    "a(t,(u,p),(v,q)) = ∫( ∇(v)⊙∇(u) - (∇⋅v)*p + q*(∇⋅u) )dΩ\n",
    "c(u,v) = ∫( v⊙(conv∘(u,∇(u))) )dΩ\n",
    "\n",
    "res(t,(u,p),(v,q)) = m(t,(u,p),(v,q)) + a(t,(u,p),(v,q)) + c(u,v)\n",
    "op = TransientFEOperator(res,X,Y)"
   ]
  },
  {
   "cell_type": "markdown",
   "metadata": {},
   "source": [
    "## Solver and solution\n",
    "\n",
    "### Exercise 6\n",
    "\n",
    "_Create the ODE solver. In this exercise you should use the `ThetaMethod` with $\\theta = 0.5$ and a time step size $\\Delta t = 0.01$. Create a Newton-Raphson nonlinear solver to solve the nonlinear problem at each time step._"
   ]
  },
  {
   "cell_type": "code",
   "execution_count": 8,
   "metadata": {},
   "outputs": [
    {
     "data": {
      "text/plain": [
       "ThetaMethod()"
      ]
     },
     "metadata": {},
     "output_type": "display_data"
    }
   ],
   "source": [
    "using LineSearches: BackTracking\n",
    "nls = NLSolver(show_trace=true, method=:newton, linesearch=BackTracking())\n",
    "\n",
    "\n",
    "Δt = 0.01\n",
    "θ  = 0.5\n",
    "ode_solver = ThetaMethod(nls,Δt,θ)"
   ]
  },
  {
   "cell_type": "markdown",
   "metadata": {},
   "source": [
    "We can then solve the problem and print the solutions as follows:"
   ]
  },
  {
   "cell_type": "code",
   "execution_count": 9,
   "metadata": {},
   "outputs": [
    {
     "name": "stdout",
     "output_type": "stream",
     "text": [
      "Iter     f(x) inf-norm    Step 2-norm \n",
      "------   --------------   --------------\n"
     ]
    },
    {
     "name": "stdout",
     "output_type": "stream",
     "text": [
      "     0     1.277595e-02              NaN\n",
      "     1     1.961088e-05     2.315730e+03\n"
     ]
    },
    {
     "name": "stdout",
     "output_type": "stream",
     "text": [
      "     2     3.231115e-11     1.215034e-04\n",
      " > Computing solution at time 0.01"
     ]
    },
    {
     "name": "stdout",
     "output_type": "stream",
     "text": [
      "\n",
      "Iter     f(x) inf-norm    Step 2-norm \n"
     ]
    },
    {
     "name": "stdout",
     "output_type": "stream",
     "text": [
      "------   --------------   --------------\n",
      "     0     1.328995e-02              NaN\n"
     ]
    },
    {
     "name": "stdout",
     "output_type": "stream",
     "text": [
      "     1     1.980966e-05     3.775545e+02\n",
      "     2     4.418774e-11     1.238178e-04\n"
     ]
    },
    {
     "name": "stdout",
     "output_type": "stream",
     "text": [
      " > Computing solution at time 0.02\n",
      "Iter     f(x) inf-norm    Step 2-norm \n",
      "------   --------------   --------------\n"
     ]
    },
    {
     "name": "stdout",
     "output_type": "stream",
     "text": [
      "     0     1.290415e-02              NaN\n",
      "     1     1.973568e-05     2.111985e+03\n"
     ]
    },
    {
     "name": "stdout",
     "output_type": "stream",
     "text": [
      "     2     3.621575e-11     1.183364e-04\n",
      " > Computing solution at time 0.03\n",
      "Iter     f(x) inf-norm    Step 2-norm \n",
      "------   --------------   --------------\n",
      "     0     1.341576e-02              NaN\n"
     ]
    },
    {
     "name": "stdout",
     "output_type": "stream",
     "text": [
      "     1     1.990255e-05     3.366185e+02\n",
      "     2     4.312226e-11     1.241382e-04\n",
      " > Computing solution at time 0.04\n"
     ]
    },
    {
     "name": "stdout",
     "output_type": "stream",
     "text": [
      "Iter     f(x) inf-norm    Step 2-norm \n",
      "------   --------------   --------------\n",
      "     0     1.302893e-02              NaN\n",
      "     1     1.984106e-05     2.051675e+03\n"
     ]
    },
    {
     "name": "stdout",
     "output_type": "stream",
     "text": [
      "     2     3.796016e-11     1.190688e-04\n",
      " > Computing solution at time 0.05\n",
      "Iter     f(x) inf-norm    Step 2-norm \n"
     ]
    },
    {
     "name": "stdout",
     "output_type": "stream",
     "text": [
      "------   --------------   --------------\n",
      "     0     1.353824e-02              NaN\n",
      "     1     1.997852e-05     3.225384e+02\n",
      "     2     4.291978e-11     1.246201e-04\n"
     ]
    },
    {
     "name": "stdout",
     "output_type": "stream",
     "text": [
      " > Computing solution at time 0.060000000000000005\n",
      "Iter     f(x) inf-norm    Step 2-norm \n",
      "------   --------------   --------------\n"
     ]
    },
    {
     "name": "stdout",
     "output_type": "stream",
     "text": [
      "     0     1.315020e-02              NaN\n",
      "     1     1.992462e-05     2.023209e+03\n",
      "     2     3.942074e-11     1.205040e-04\n",
      " > Computing solution at time 0.07\n",
      "Iter     f(x) inf-norm    Step 2-norm \n"
     ]
    },
    {
     "name": "stdout",
     "output_type": "stream",
     "text": [
      "------   --------------   --------------\n",
      "     0     1.365725e-02              NaN\n",
      "     1     2.003732e-05     3.153952e+02\n",
      "     2     4.311312e-11     1.255283e-04\n"
     ]
    },
    {
     "name": "stdout",
     "output_type": "stream",
     "text": [
      " > Computing solution at time 0.08\n",
      "Iter     f(x) inf-norm    Step 2-norm \n",
      "------   --------------   --------------\n"
     ]
    },
    {
     "name": "stdout",
     "output_type": "stream",
     "text": [
      "     0     1.326786e-02              NaN\n",
      "     1     1.998727e-05     2.005219e+03\n",
      "     2     4.066614e-11     1.223041e-04\n",
      " > Computing solution at time 0.09\n",
      "Iter     f(x) inf-norm    Step 2-norm \n"
     ]
    },
    {
     "name": "stdout",
     "output_type": "stream",
     "text": [
      "------   --------------   --------------\n",
      "     0     1.377265e-02              NaN\n"
     ]
    },
    {
     "name": "stdout",
     "output_type": "stream",
     "text": [
      "     1     2.007847e-05     3.110146e+02\n",
      "     2     4.326561e-11     1.268430e-04\n",
      " > Computing solution at time 0.09999999999999999\n"
     ]
    },
    {
     "name": "stdout",
     "output_type": "stream",
     "text": [
      "Iter     f(x) inf-norm    Step 2-norm \n",
      "------   --------------   --------------\n",
      "     0     1.338179e-02              NaN\n",
      "     1     2.002979e-05     1.992282e+03\n"
     ]
    },
    {
     "name": "stdout",
     "output_type": "stream",
     "text": [
      "     2     4.117734e-11     1.243644e-04\n",
      " > Computing solution at time 0.10999999999999999\n",
      "Iter     f(x) inf-norm    Step 2-norm \n",
      "------   --------------   --------------\n",
      "     0     1.388430e-02              NaN\n"
     ]
    },
    {
     "name": "stdout",
     "output_type": "stream",
     "text": [
      "     1     2.010191e-05     3.081428e+02\n",
      "     2     4.287770e-11     1.284753e-04\n"
     ]
    },
    {
     "name": "stdout",
     "output_type": "stream",
     "text": [
      " > Computing solution at time 0.11999999999999998\n",
      "Iter     f(x) inf-norm    Step 2-norm \n",
      "------   --------------   --------------\n"
     ]
    },
    {
     "name": "stdout",
     "output_type": "stream",
     "text": [
      "     0     1.349186e-02              NaN\n",
      "     1     2.005287e-05     1.982367e+03\n"
     ]
    },
    {
     "name": "stdout",
     "output_type": "stream",
     "text": [
      "     2     4.097780e-11     1.265968e-04\n",
      " > Computing solution at time 0.12999999999999998\n",
      "Iter     f(x) inf-norm    Step 2-norm \n",
      "------   --------------   --------------\n",
      "     0     1.399207e-02              NaN\n"
     ]
    },
    {
     "name": "stdout",
     "output_type": "stream",
     "text": [
      "     1     2.010783e-05     3.062324e+02\n",
      "     2     4.192802e-11     1.303259e-04\n"
     ]
    },
    {
     "name": "stdout",
     "output_type": "stream",
     "text": [
      " > Computing solution at time 0.13999999999999999\n",
      "Iter     f(x) inf-norm    Step 2-norm \n",
      "------   --------------   --------------\n"
     ]
    },
    {
     "name": "stdout",
     "output_type": "stream",
     "text": [
      "     0     1.359795e-02              NaN\n",
      "     1     2.005717e-05     1.974432e+03\n"
     ]
    },
    {
     "name": "stdout",
     "output_type": "stream",
     "text": [
      "     2     4.010967e-11     1.289151e-04\n",
      " > Computing solution at time 0.15\n",
      "Iter     f(x) inf-norm    Step 2-norm \n"
     ]
    },
    {
     "name": "stdout",
     "output_type": "stream",
     "text": [
      "------   --------------   --------------\n",
      "     0     1.409584e-02              NaN\n"
     ]
    },
    {
     "name": "stdout",
     "output_type": "stream",
     "text": [
      "     1     2.009658e-05     3.049829e+02\n",
      "     2     4.043665e-11     1.322959e-04\n"
     ]
    },
    {
     "name": "stdout",
     "output_type": "stream",
     "text": [
      " > Computing solution at time 0.16\n",
      "Iter     f(x) inf-norm    Step 2-norm \n",
      "------   --------------   --------------\n"
     ]
    },
    {
     "name": "stdout",
     "output_type": "stream",
     "text": [
      "     0     1.369995e-02              NaN\n",
      "     1     2.004338e-05     1.967847e+03\n"
     ]
    },
    {
     "name": "stdout",
     "output_type": "stream",
     "text": [
      "     2     3.863726e-11     1.312356e-04\n",
      " > Computing solution at time 0.17\n",
      "Iter     f(x) inf-norm    Step 2-norm \n"
     ]
    },
    {
     "name": "stdout",
     "output_type": "stream",
     "text": [
      "------   --------------   --------------\n",
      "     0     1.419548e-02              NaN\n"
     ]
    },
    {
     "name": "stdout",
     "output_type": "stream",
     "text": [
      "     1     2.006862e-05     3.042119e+02\n",
      "     2     3.845524e-11     1.342907e-04\n"
     ]
    },
    {
     "name": "stdout",
     "output_type": "stream",
     "text": [
      " > Computing solution at time 0.18000000000000002\n"
     ]
    },
    {
     "name": "stdout",
     "output_type": "stream",
     "text": [
      "Iter     f(x) inf-norm    Step 2-norm \n",
      "------   --------------   --------------\n",
      "     0     1.379773e-02              NaN\n",
      "     1     2.001220e-05     1.962206e+03\n"
     ]
    },
    {
     "name": "stdout",
     "output_type": "stream",
     "text": [
      "     2     3.664652e-11     1.334803e-04\n",
      " > Computing solution at time 0.19000000000000003\n",
      "Iter     f(x) inf-norm    Step 2-norm \n",
      "------   --------------   --------------\n",
      "     0     1.429086e-02              NaN\n"
     ]
    },
    {
     "name": "stdout",
     "output_type": "stream",
     "text": [
      "     1     2.002449e-05     3.038037e+02\n",
      "     2     3.606165e-11     1.362244e-04\n"
     ]
    },
    {
     "name": "stdout",
     "output_type": "stream",
     "text": [
      " > Computing solution at time 0.20000000000000004\n"
     ]
    },
    {
     "name": "stdout",
     "output_type": "stream",
     "text": [
      "Iter     f(x) inf-norm    Step 2-norm \n",
      "------   --------------   --------------\n",
      "     0     1.389117e-02              NaN\n",
      "     1     1.996438e-05     1.957232e+03\n"
     ]
    },
    {
     "name": "stdout",
     "output_type": "stream",
     "text": [
      "     2     3.457312e-11     1.355786e-04\n",
      " > Computing solution at time 0.21000000000000005\n",
      "Iter     f(x) inf-norm    Step 2-norm \n"
     ]
    },
    {
     "name": "stdout",
     "output_type": "stream",
     "text": [
      "------   --------------   --------------\n",
      "     0     1.438188e-02              NaN\n"
     ]
    },
    {
     "name": "stdout",
     "output_type": "stream",
     "text": [
      "     1     1.996475e-05     3.036829e+02\n",
      "     2     3.465106e-11     1.380211e-04\n"
     ]
    },
    {
     "name": "stdout",
     "output_type": "stream",
     "text": [
      " > Computing solution at time 0.22000000000000006\n",
      "Iter     f(x) inf-norm    Step 2-norm \n",
      "------   --------------   --------------\n"
     ]
    },
    {
     "name": "stdout",
     "output_type": "stream",
     "text": [
      "     0     1.398016e-02              NaN\n",
      "     1     1.990062e-05     1.952730e+03\n"
     ]
    },
    {
     "name": "stdout",
     "output_type": "stream",
     "text": [
      "     2     3.452544e-11     1.374693e-04\n",
      " > Computing solution at time 0.23000000000000007\n",
      "Iter     f(x) inf-norm    Step 2-norm \n"
     ]
    },
    {
     "name": "stdout",
     "output_type": "stream",
     "text": [
      "------   --------------   --------------\n",
      "     0     1.446840e-02              NaN\n"
     ]
    },
    {
     "name": "stdout",
     "output_type": "stream",
     "text": [
      "     1     1.989001e-05     3.037991e+02\n",
      "     2     3.439210e-11     1.396169e-04\n"
     ]
    },
    {
     "name": "stdout",
     "output_type": "stream",
     "text": [
      " > Computing solution at time 0.24000000000000007\n"
     ]
    },
    {
     "name": "stdout",
     "output_type": "stream",
     "text": [
      "Iter     f(x) inf-norm    Step 2-norm \n",
      "------   --------------   --------------\n",
      "     0     1.406460e-02              NaN\n",
      "     1     1.982166e-05     1.948557e+03\n"
     ]
    },
    {
     "name": "stdout",
     "output_type": "stream",
     "text": [
      "     2     3.408729e-11     1.391016e-04\n",
      " > Computing solution at time 0.25000000000000006\n",
      "Iter     f(x) inf-norm    Step 2-norm \n"
     ]
    },
    {
     "name": "stdout",
     "output_type": "stream",
     "text": [
      "------   --------------   --------------\n",
      "     0     1.455031e-02              NaN\n"
     ]
    },
    {
     "name": "stdout",
     "output_type": "stream",
     "text": [
      "     1     1.980089e-05     3.041183e+02\n",
      "     2     3.376577e-11     1.409600e-04\n"
     ]
    },
    {
     "name": "stdout",
     "output_type": "stream",
     "text": [
      " > Computing solution at time 0.26000000000000006\n",
      "Iter     f(x) inf-norm    Step 2-norm \n",
      "------   --------------   --------------\n"
     ]
    },
    {
     "name": "stdout",
     "output_type": "stream",
     "text": [
      "     0     1.414436e-02              NaN\n",
      "     1     1.972821e-05     1.944606e+03\n"
     ]
    },
    {
     "name": "stdout",
     "output_type": "stream",
     "text": [
      "     2     3.330747e-11     1.404355e-04\n",
      " > Computing solution at time 0.2700000000000001\n",
      "Iter     f(x) inf-norm    Step 2-norm \n",
      "------   --------------   --------------\n",
      "     0     1.462751e-02              NaN\n"
     ]
    },
    {
     "name": "stdout",
     "output_type": "stream",
     "text": [
      "     1     1.969800e-05     3.046172e+02\n",
      "     2     3.282652e-11     1.420108e-04\n"
     ]
    },
    {
     "name": "stdout",
     "output_type": "stream",
     "text": [
      " > Computing solution at time 0.2800000000000001\n",
      "Iter     f(x) inf-norm    Step 2-norm \n",
      "------   --------------   --------------\n"
     ]
    },
    {
     "name": "stdout",
     "output_type": "stream",
     "text": [
      "     0     1.421933e-02              NaN\n",
      "     1     1.962094e-05     1.940791e+03\n"
     ]
    },
    {
     "name": "stdout",
     "output_type": "stream",
     "text": [
      "     2     3.223938e-11     1.414414e-04\n",
      " > Computing solution at time 0.2900000000000001\n",
      "Iter     f(x) inf-norm    Step 2-norm \n",
      "------   --------------   --------------\n",
      "     0     1.469989e-02              NaN\n"
     ]
    },
    {
     "name": "stdout",
     "output_type": "stream",
     "text": [
      "     1     1.958195e-05     3.052794e+02\n",
      "     2     3.162687e-11     1.427408e-04\n"
     ]
    },
    {
     "name": "stdout",
     "output_type": "stream",
     "text": [
      " > Computing solution at time 0.3000000000000001\n",
      "Iter     f(x) inf-norm    Step 2-norm \n",
      "------   --------------   --------------\n"
     ]
    },
    {
     "name": "stdout",
     "output_type": "stream",
     "text": [
      "     0     1.428942e-02              NaN\n",
      "     1     1.950050e-05     1.937047e+03\n"
     ]
    },
    {
     "name": "stdout",
     "output_type": "stream",
     "text": [
      "     2     3.093803e-11     1.420997e-04\n",
      " > Computing solution at time 0.3100000000000001\n",
      "Iter     f(x) inf-norm    Step 2-norm \n",
      "------   --------------   --------------\n",
      "     0     1.476733e-02              NaN\n"
     ]
    },
    {
     "name": "stdout",
     "output_type": "stream",
     "text": [
      "     1     1.945330e-05     3.060935e+02\n",
      "     2     3.022299e-11     1.431319e-04\n"
     ]
    },
    {
     "name": "stdout",
     "output_type": "stream",
     "text": [
      " > Computing solution at time 0.3200000000000001\n",
      "Iter     f(x) inf-norm    Step 2-norm \n",
      "------   --------------   --------------\n"
     ]
    },
    {
     "name": "stdout",
     "output_type": "stream",
     "text": [
      "     0     1.435451e-02              NaN\n",
      "     1     1.936753e-05     1.933315e+03\n"
     ]
    },
    {
     "name": "stdout",
     "output_type": "stream",
     "text": [
      "     2     2.963896e-11     1.424001e-04\n",
      " > Computing solution at time 0.3300000000000001\n",
      "Iter     f(x) inf-norm    Step 2-norm \n",
      "------   --------------   --------------\n",
      "     0     1.482974e-02              NaN\n"
     ]
    },
    {
     "name": "stdout",
     "output_type": "stream",
     "text": [
      "     1     1.931263e-05     3.070514e+02\n",
      "     2     2.946088e-11     1.431750e-04\n"
     ]
    },
    {
     "name": "stdout",
     "output_type": "stream",
     "text": [
      " > Computing solution at time 0.34000000000000014\n",
      "Iter     f(x) inf-norm    Step 2-norm \n",
      "------   --------------   --------------\n"
     ]
    },
    {
     "name": "stdout",
     "output_type": "stream",
     "text": [
      "     0     1.441451e-02              NaN\n",
      "     1     1.922258e-05     1.929551e+03\n"
     ]
    },
    {
     "name": "stdout",
     "output_type": "stream",
     "text": [
      "     2     2.923850e-11     1.423396e-04\n",
      " > Computing solution at time 0.35000000000000014\n",
      "Iter     f(x) inf-norm    Step 2-norm \n",
      "------   --------------   --------------\n",
      "     0     1.488701e-02              NaN\n"
     ]
    },
    {
     "name": "stdout",
     "output_type": "stream",
     "text": [
      "     1     1.916046e-05     3.081477e+02\n",
      "     2     2.893552e-11     1.428688e-04\n"
     ]
    },
    {
     "name": "stdout",
     "output_type": "stream",
     "text": [
      " > Computing solution at time 0.36000000000000015\n",
      "Iter     f(x) inf-norm    Step 2-norm \n",
      "------   --------------   --------------\n"
     ]
    },
    {
     "name": "stdout",
     "output_type": "stream",
     "text": [
      "     0     1.446931e-02              NaN\n",
      "     1     1.906623e-05     1.925713e+03\n"
     ]
    },
    {
     "name": "stdout",
     "output_type": "stream",
     "text": [
      "     2     2.860601e-11     1.419225e-04\n",
      " > Computing solution at time 0.37000000000000016\n",
      "Iter     f(x) inf-norm    Step 2-norm \n",
      "------   --------------   --------------\n",
      "     0     1.493904e-02              NaN\n"
     ]
    },
    {
     "name": "stdout",
     "output_type": "stream",
     "text": [
      "     1     1.899731e-05     3.093781e+02\n",
      "     2     2.819844e-11     1.422185e-04\n"
     ]
    },
    {
     "name": "stdout",
     "output_type": "stream",
     "text": [
      " > Computing solution at time 0.38000000000000017\n",
      "Iter     f(x) inf-norm    Step 2-norm \n",
      "------   --------------   --------------\n"
     ]
    },
    {
     "name": "stdout",
     "output_type": "stream",
     "text": [
      "     0     1.451882e-02              NaN\n",
      "     1     1.889899e-05     1.921768e+03\n"
     ]
    },
    {
     "name": "stdout",
     "output_type": "stream",
     "text": [
      "     2     2.777756e-11     1.411581e-04\n",
      " > Computing solution at time 0.3900000000000002\n",
      "Iter     f(x) inf-norm    Step 2-norm \n",
      "------   --------------   --------------\n",
      "     0     1.498574e-02              NaN\n"
     ]
    },
    {
     "name": "stdout",
     "output_type": "stream",
     "text": [
      "     1     1.882364e-05     3.107402e+02\n",
      "     2     2.728362e-11     1.412345e-04\n"
     ]
    },
    {
     "name": "stdout",
     "output_type": "stream",
     "text": [
      " > Computing solution at time 0.4000000000000002\n",
      "Iter     f(x) inf-norm    Step 2-norm \n",
      "------   --------------   --------------\n"
     ]
    },
    {
     "name": "stdout",
     "output_type": "stream",
     "text": [
      "     0     1.456296e-02              NaN\n",
      "     1     1.872133e-05     1.917685e+03\n"
     ]
    },
    {
     "name": "stdout",
     "output_type": "stream",
     "text": [
      "     2     2.678746e-11     1.400604e-04\n",
      " > Computing solution at time 0.4100000000000002\n",
      "Iter     f(x) inf-norm    Step 2-norm \n",
      "------   --------------   --------------\n",
      "     0     1.502703e-02              NaN\n"
     ]
    },
    {
     "name": "stdout",
     "output_type": "stream",
     "text": [
      "     1     1.863990e-05     3.122319e+02\n",
      "     2     2.622591e-11     1.399314e-04\n"
     ]
    },
    {
     "name": "stdout",
     "output_type": "stream",
     "text": [
      " > Computing solution at time 0.4200000000000002\n",
      "Iter     f(x) inf-norm    Step 2-norm \n",
      "------   --------------   --------------\n"
     ]
    },
    {
     "name": "stdout",
     "output_type": "stream",
     "text": [
      "     0     1.460162e-02              NaN\n",
      "     1     1.853372e-05     1.913440e+03\n"
     ]
    },
    {
     "name": "stdout",
     "output_type": "stream",
     "text": [
      "     2     2.567146e-11     1.386465e-04\n",
      " > Computing solution at time 0.4300000000000002\n",
      "Iter     f(x) inf-norm    Step 2-norm \n",
      "------   --------------   --------------\n",
      "     0     1.506280e-02              NaN\n"
     ]
    },
    {
     "name": "stdout",
     "output_type": "stream",
     "text": [
      "     1     1.844654e-05     3.138522e+02\n",
      "     2     2.505784e-11     1.383267e-04\n"
     ]
    },
    {
     "name": "stdout",
     "output_type": "stream",
     "text": [
      " > Computing solution at time 0.4400000000000002\n",
      "Iter     f(x) inf-norm    Step 2-norm \n",
      "------   --------------   --------------\n"
     ]
    },
    {
     "name": "stdout",
     "output_type": "stream",
     "text": [
      "     0     1.463472e-02              NaN\n",
      "     1     1.833659e-05     1.909009e+03\n"
     ]
    },
    {
     "name": "stdout",
     "output_type": "stream",
     "text": [
      "     2     2.445866e-11     1.369361e-04\n",
      " > Computing solution at time 0.45000000000000023\n",
      "Iter     f(x) inf-norm    Step 2-norm \n"
     ]
    },
    {
     "name": "stdout",
     "output_type": "stream",
     "text": [
      "------   --------------   --------------\n",
      "     0     1.509297e-02              NaN\n"
     ]
    },
    {
     "name": "stdout",
     "output_type": "stream",
     "text": [
      "     1     1.824394e-05     3.156004e+02\n",
      "     2     2.380884e-11     1.364404e-04\n"
     ]
    },
    {
     "name": "stdout",
     "output_type": "stream",
     "text": [
      " > Computing solution at time 0.46000000000000024\n",
      "Iter     f(x) inf-norm    Step 2-norm \n",
      "------   --------------   --------------\n"
     ]
    },
    {
     "name": "stdout",
     "output_type": "stream",
     "text": [
      "     0     1.466218e-02              NaN\n",
      "     1     1.813034e-05     1.904372e+03\n"
     ]
    },
    {
     "name": "stdout",
     "output_type": "stream",
     "text": [
      "     2     2.317768e-11     1.349506e-04\n",
      " > Computing solution at time 0.47000000000000025\n",
      "Iter     f(x) inf-norm    Step 2-norm \n",
      "------   --------------   --------------\n",
      "     0     1.511747e-02              NaN\n"
     ]
    },
    {
     "name": "stdout",
     "output_type": "stream",
     "text": [
      "     1     1.803251e-05     3.174760e+02\n",
      "     2     2.250466e-11     1.342935e-04\n"
     ]
    },
    {
     "name": "stdout",
     "output_type": "stream",
     "text": [
      " > Computing solution at time 0.48000000000000026\n",
      "Iter     f(x) inf-norm    Step 2-norm \n",
      "------   --------------   --------------\n"
     ]
    },
    {
     "name": "stdout",
     "output_type": "stream",
     "text": [
      "     0     1.468392e-02              NaN\n",
      "     1     1.791536e-05     1.899511e+03\n"
     ]
    },
    {
     "name": "stdout",
     "output_type": "stream",
     "text": [
      "     2     2.185341e-11     1.327122e-04\n",
      " > Computing solution at time 0.49000000000000027\n",
      "Iter     f(x) inf-norm    Step 2-norm \n",
      "------   --------------   --------------\n",
      "     0     1.513622e-02              NaN\n"
     ]
    },
    {
     "name": "stdout",
     "output_type": "stream",
     "text": [
      "     1     1.781260e-05     3.194790e+02\n",
      "     2     2.116973e-11     1.319082e-04\n"
     ]
    },
    {
     "name": "stdout",
     "output_type": "stream",
     "text": [
      " > Computing solution at time 0.5000000000000002\n",
      "Iter     f(x) inf-norm    Step 2-norm \n",
      "------   --------------   --------------\n"
     ]
    },
    {
     "name": "stdout",
     "output_type": "stream",
     "text": [
      "     0     1.469986e-02              NaN\n",
      "     1     1.769202e-05     1.894412e+03\n"
     ]
    },
    {
     "name": "stdout",
     "output_type": "stream",
     "text": [
      "     2     2.050893e-11     1.302436e-04\n",
      " > Computing solution at time 0.5100000000000002\n",
      "Iter     f(x) inf-norm    Step 2-norm \n"
     ]
    },
    {
     "name": "stdout",
     "output_type": "stream",
     "text": [
      "------   --------------   --------------\n",
      "     0     1.514913e-02              NaN\n"
     ]
    },
    {
     "name": "stdout",
     "output_type": "stream",
     "text": [
      "     1     1.758457e-05     3.216096e+02\n",
      "     2     1.982192e-11     1.293068e-04\n",
      " > Computing solution at time 0.5200000000000002\n"
     ]
    },
    {
     "name": "stdout",
     "output_type": "stream",
     "text": [
      "Iter     f(x) inf-norm    Step 2-norm \n",
      "------   --------------   --------------\n",
      "     0     1.470993e-02              NaN\n",
      "     1     1.746068e-05     1.889061e+03\n"
     ]
    },
    {
     "name": "stdout",
     "output_type": "stream",
     "text": [
      "     2     1.916245e-11     1.275677e-04\n",
      " > Computing solution at time 0.5300000000000002\n",
      "Iter     f(x) inf-norm    Step 2-norm \n",
      "------   --------------   --------------\n",
      "     0     1.515614e-02              NaN\n"
     ]
    },
    {
     "name": "stdout",
     "output_type": "stream",
     "text": [
      "     1     1.734876e-05     3.238678e+02\n",
      "     2     1.848199e-11     1.265115e-04\n"
     ]
    },
    {
     "name": "stdout",
     "output_type": "stream",
     "text": [
      " > Computing solution at time 0.5400000000000003\n",
      "Iter     f(x) inf-norm    Step 2-norm \n",
      "------   --------------   --------------\n"
     ]
    },
    {
     "name": "stdout",
     "output_type": "stream",
     "text": [
      "     0     1.471406e-02              NaN\n",
      "     1     1.722168e-05     1.883446e+03\n"
     ]
    },
    {
     "name": "stdout",
     "output_type": "stream",
     "text": [
      "     2     1.782896e-11     1.247067e-04\n",
      " > Computing solution at time 0.5500000000000003\n",
      "Iter     f(x) inf-norm    Step 2-norm \n"
     ]
    },
    {
     "name": "stdout",
     "output_type": "stream",
     "text": [
      "------   --------------   --------------\n",
      "     0     1.515718e-02              NaN\n"
     ]
    },
    {
     "name": "stdout",
     "output_type": "stream",
     "text": [
      "     1     1.710552e-05     3.262542e+02\n",
      "     2     1.716227e-11     1.235441e-04\n"
     ]
    },
    {
     "name": "stdout",
     "output_type": "stream",
     "text": [
      " > Computing solution at time 0.5600000000000003\n"
     ]
    },
    {
     "name": "stdout",
     "output_type": "stream",
     "text": [
      "Iter     f(x) inf-norm    Step 2-norm \n",
      "------   --------------   --------------\n"
     ]
    },
    {
     "name": "stdout",
     "output_type": "stream",
     "text": [
      "     0     1.471218e-02              NaN\n",
      "     1     1.697536e-05     1.877558e+03\n"
     ]
    },
    {
     "name": "stdout",
     "output_type": "stream",
     "text": [
      "     2     1.652234e-11     1.216824e-04\n",
      " > Computing solution at time 0.5700000000000003\n",
      "Iter     f(x) inf-norm    Step 2-norm \n"
     ]
    },
    {
     "name": "stdout",
     "output_type": "stream",
     "text": [
      "------   --------------   --------------\n",
      "     0     1.515218e-02              NaN\n"
     ]
    },
    {
     "name": "stdout",
     "output_type": "stream",
     "text": [
      "     1     1.685516e-05     3.287690e+02\n",
      "     2     1.587419e-11     1.204259e-04\n"
     ]
    },
    {
     "name": "stdout",
     "output_type": "stream",
     "text": [
      " > Computing solution at time 0.5800000000000003\n",
      "Iter     f(x) inf-norm    Step 2-norm \n",
      "------   --------------   --------------\n"
     ]
    },
    {
     "name": "stdout",
     "output_type": "stream",
     "text": [
      "     0     1.470424e-02              NaN\n",
      "     1     1.672205e-05     1.871386e+03\n"
     ]
    },
    {
     "name": "stdout",
     "output_type": "stream",
     "text": [
      "     2     1.525402e-11     1.185159e-04\n",
      " > Computing solution at time 0.5900000000000003\n",
      "Iter     f(x) inf-norm    Step 2-norm \n",
      "------   --------------   --------------\n",
      "     0     1.514109e-02              NaN\n"
     ]
    },
    {
     "name": "stdout",
     "output_type": "stream",
     "text": [
      "     1     1.659801e-05     3.314130e+02\n",
      "     2     1.470468e-11     1.171770e-04\n"
     ]
    },
    {
     "name": "stdout",
     "output_type": "stream",
     "text": [
      " > Computing solution at time 0.6000000000000003\n",
      "Iter     f(x) inf-norm    Step 2-norm \n",
      "------   --------------   --------------\n"
     ]
    },
    {
     "name": "stdout",
     "output_type": "stream",
     "text": [
      "     0     1.469017e-02              NaN\n",
      "     1     1.646206e-05     1.864925e+03\n"
     ]
    },
    {
     "name": "stdout",
     "output_type": "stream",
     "text": [
      "     2     1.420020e-11     1.152272e-04\n",
      " > Computing solution at time 0.6100000000000003\n",
      "Iter     f(x) inf-norm    Step 2-norm \n"
     ]
    },
    {
     "name": "stdout",
     "output_type": "stream",
     "text": [
      "------   --------------   --------------\n",
      "     0     1.512385e-02              NaN\n"
     ]
    },
    {
     "name": "stdout",
     "output_type": "stream",
     "text": [
      "     1     1.633438e-05     3.341865e+02\n",
      "     2     1.373435e-11     1.138170e-04\n",
      " > Computing solution at time 0.6200000000000003\n"
     ]
    },
    {
     "name": "stdout",
     "output_type": "stream",
     "text": [
      "Iter     f(x) inf-norm    Step 2-norm \n",
      "------   --------------   --------------\n",
      "     0     1.466992e-02              NaN\n",
      "     1     1.619572e-05     1.858167e+03\n"
     ]
    },
    {
     "name": "stdout",
     "output_type": "stream",
     "text": [
      "     2     1.332290e-11     1.118355e-04\n",
      " > Computing solution at time 0.6300000000000003\n",
      "Iter     f(x) inf-norm    Step 2-norm \n",
      "------   --------------   --------------\n",
      "     0     1.510041e-02              NaN\n"
     ]
    },
    {
     "name": "stdout",
     "output_type": "stream",
     "text": [
      "     1     1.606459e-05     3.370903e+02\n",
      "     2     1.287548e-11     1.103643e-04\n"
     ]
    },
    {
     "name": "stdout",
     "output_type": "stream",
     "text": [
      " > Computing solution at time 0.6400000000000003\n"
     ]
    },
    {
     "name": "stdout",
     "output_type": "stream",
     "text": [
      "Iter     f(x) inf-norm    Step 2-norm \n",
      "------   --------------   --------------\n",
      "     0     1.464344e-02              NaN\n",
      "     1     1.592334e-05     1.851109e+03\n"
     ]
    },
    {
     "name": "stdout",
     "output_type": "stream",
     "text": [
      "     2     1.246869e-11     1.083586e-04\n",
      " > Computing solution at time 0.6500000000000004\n",
      "Iter     f(x) inf-norm    Step 2-norm \n",
      "------   --------------   --------------\n",
      "     0     1.507072e-02              NaN\n"
     ]
    },
    {
     "name": "stdout",
     "output_type": "stream",
     "text": [
      "     1     1.578894e-05     3.401250e+02\n",
      "     2     1.202882e-11     1.068362e-04\n"
     ]
    },
    {
     "name": "stdout",
     "output_type": "stream",
     "text": [
      " > Computing solution at time 0.6600000000000004\n",
      "Iter     f(x) inf-norm    Step 2-norm \n",
      "------   --------------   --------------\n"
     ]
    },
    {
     "name": "stdout",
     "output_type": "stream",
     "text": [
      "     0     1.461069e-02              NaN\n",
      "     1     1.564523e-05     1.843745e+03\n"
     ]
    },
    {
     "name": "stdout",
     "output_type": "stream",
     "text": [
      "     2     1.163181e-11     1.048138e-04\n",
      " > Computing solution at time 0.6700000000000004\n",
      "Iter     f(x) inf-norm    Step 2-norm \n"
     ]
    },
    {
     "name": "stdout",
     "output_type": "stream",
     "text": [
      "------   --------------   --------------\n",
      "     0     1.503473e-02              NaN\n"
     ]
    },
    {
     "name": "stdout",
     "output_type": "stream",
     "text": [
      "     1     1.550775e-05     3.432915e+02\n",
      "     2     1.120415e-11     1.032492e-04\n"
     ]
    },
    {
     "name": "stdout",
     "output_type": "stream",
     "text": [
      " > Computing solution at time 0.6800000000000004\n",
      "Iter     f(x) inf-norm    Step 2-norm \n",
      "------   --------------   --------------\n"
     ]
    },
    {
     "name": "stdout",
     "output_type": "stream",
     "text": [
      "     0     1.457162e-02              NaN\n",
      "     1     1.536170e-05     1.836073e+03\n"
     ]
    },
    {
     "name": "stdout",
     "output_type": "stream",
     "text": [
      "     2     1.081668e-11     1.012168e-04\n",
      " > Computing solution at time 0.6900000000000004\n",
      "Iter     f(x) inf-norm    Step 2-norm \n",
      "------   --------------   --------------\n",
      "     0     1.499240e-02              NaN\n"
     ]
    },
    {
     "name": "stdout",
     "output_type": "stream",
     "text": [
      "     1     1.522133e-05     3.465904e+02\n",
      "     2     1.040235e-11     9.961847e-05\n"
     ]
    },
    {
     "name": "stdout",
     "output_type": "stream",
     "text": [
      " > Computing solution at time 0.7000000000000004\n",
      "Iter     f(x) inf-norm    Step 2-norm \n",
      "------   --------------   --------------\n"
     ]
    },
    {
     "name": "stdout",
     "output_type": "stream",
     "text": [
      "     0     1.452619e-02              NaN\n",
      "     1     1.507307e-05     1.828090e+03\n"
     ]
    },
    {
     "name": "stdout",
     "output_type": "stream",
     "text": [
      "     2     1.002931e-11     9.758269e-05\n",
      " > Computing solution at time 0.7100000000000004\n",
      "Iter     f(x) inf-norm    Step 2-norm \n",
      "------   --------------   --------------\n",
      "     0     1.494371e-02              NaN\n"
     ]
    },
    {
     "name": "stdout",
     "output_type": "stream",
     "text": [
      "     1     1.492998e-05     3.500227e+02\n",
      "     2     9.632295e-12     9.595849e-05\n"
     ]
    },
    {
     "name": "stdout",
     "output_type": "stream",
     "text": [
      " > Computing solution at time 0.7200000000000004\n",
      "Iter     f(x) inf-norm    Step 2-norm \n",
      "------   --------------   --------------\n"
     ]
    },
    {
     "name": "stdout",
     "output_type": "stream",
     "text": [
      "     0     1.447437e-02              NaN\n",
      "     1     1.477965e-05     1.819796e+03\n"
     ]
    },
    {
     "name": "stdout",
     "output_type": "stream",
     "text": [
      "     2     9.275691e-12     9.392534e-05\n",
      " > Computing solution at time 0.7300000000000004\n",
      "Iter     f(x) inf-norm    Step 2-norm \n",
      "------   --------------   --------------\n",
      "     0     1.488862e-02              NaN\n"
     ]
    },
    {
     "name": "stdout",
     "output_type": "stream",
     "text": [
      "     1     1.463402e-05     3.535892e+02\n",
      "     2     8.893331e-12     9.228262e-05\n"
     ]
    },
    {
     "name": "stdout",
     "output_type": "stream",
     "text": [
      " > Computing solution at time 0.7400000000000004\n",
      "Iter     f(x) inf-norm    Step 2-norm \n",
      "------   --------------   --------------\n"
     ]
    },
    {
     "name": "stdout",
     "output_type": "stream",
     "text": [
      "     0     1.441614e-02              NaN\n",
      "     1     1.448176e-05     1.811190e+03\n"
     ]
    },
    {
     "name": "stdout",
     "output_type": "stream",
     "text": [
      "     2     8.552714e-12     9.025774e-05\n",
      " > Computing solution at time 0.7500000000000004\n",
      "Iter     f(x) inf-norm    Step 2-norm \n",
      "------   --------------   --------------\n",
      "     0     1.482709e-02              NaN\n"
     ]
    },
    {
     "name": "stdout",
     "output_type": "stream",
     "text": [
      "     1     1.433375e-05     3.572910e+02\n",
      "     2     8.189449e-12     8.860332e-05\n"
     ]
    },
    {
     "name": "stdout",
     "output_type": "stream",
     "text": [
      " > Computing solution at time 0.7600000000000005\n",
      "Iter     f(x) inf-norm    Step 2-norm \n",
      "------   --------------   --------------\n"
     ]
    },
    {
     "name": "stdout",
     "output_type": "stream",
     "text": [
      "     0     1.435146e-02              NaN\n",
      "     1     1.417970e-05     1.802271e+03\n"
     ]
    },
    {
     "name": "stdout",
     "output_type": "stream",
     "text": [
      "     2     7.867484e-12     8.659199e-05\n",
      " > Computing solution at time 0.7700000000000005\n",
      "Iter     f(x) inf-norm    Step 2-norm \n",
      "------   --------------   --------------\n",
      "     0     1.475911e-02              NaN\n"
     ]
    },
    {
     "name": "stdout",
     "output_type": "stream",
     "text": [
      "     1     1.402950e-05     3.611291e+02\n",
      "     2     7.525092e-12     8.493220e-05\n"
     ]
    },
    {
     "name": "stdout",
     "output_type": "stream",
     "text": [
      " > Computing solution at time 0.7800000000000005\n",
      "Iter     f(x) inf-norm    Step 2-norm \n",
      "------   --------------   --------------\n"
     ]
    },
    {
     "name": "stdout",
     "output_type": "stream",
     "text": [
      "     0     1.428032e-02              NaN\n",
      "     1     1.387379e-05     1.793042e+03\n"
     ]
    },
    {
     "name": "stdout",
     "output_type": "stream",
     "text": [
      "     2     7.219558e-12     8.293931e-05\n",
      " > Computing solution at time 0.7900000000000005\n",
      "Iter     f(x) inf-norm    Step 2-norm \n"
     ]
    },
    {
     "name": "stdout",
     "output_type": "stream",
     "text": [
      "------   --------------   --------------\n",
      "     0     1.468467e-02              NaN\n"
     ]
    },
    {
     "name": "stdout",
     "output_type": "stream",
     "text": [
      "     1     1.372158e-05     3.651046e+02\n",
      "     2     6.893597e-12     8.128001e-05\n"
     ]
    },
    {
     "name": "stdout",
     "output_type": "stream",
     "text": [
      " > Computing solution at time 0.8000000000000005\n",
      "Iter     f(x) inf-norm    Step 2-norm \n",
      "------   --------------   --------------\n"
     ]
    },
    {
     "name": "stdout",
     "output_type": "stream",
     "text": [
      "     0     1.420270e-02              NaN\n",
      "     1     1.356435e-05     1.783502e+03\n"
     ]
    },
    {
     "name": "stdout",
     "output_type": "stream",
     "text": [
      "     2     6.608047e-12     7.931007e-05\n",
      " > Computing solution at time 0.8100000000000005\n",
      "Iter     f(x) inf-norm    Step 2-norm \n",
      "------   --------------   --------------\n",
      "     0     1.460374e-02              NaN\n"
     ]
    },
    {
     "name": "stdout",
     "output_type": "stream",
     "text": [
      "     1     1.341030e-05     3.692187e+02\n",
      "     2     6.302958e-12     7.765670e-05\n"
     ]
    },
    {
     "name": "stdout",
     "output_type": "stream",
     "text": [
      " > Computing solution at time 0.8200000000000005\n",
      "Iter     f(x) inf-norm    Step 2-norm \n",
      "------   --------------   --------------\n"
     ]
    },
    {
     "name": "stdout",
     "output_type": "stream",
     "text": [
      "     0     1.411859e-02              NaN\n",
      "     1     1.325170e-05     1.773655e+03\n"
     ]
    },
    {
     "name": "stdout",
     "output_type": "stream",
     "text": [
      "     2     6.035172e-12     7.571391e-05\n",
      " > Computing solution at time 0.8300000000000005\n",
      "Iter     f(x) inf-norm    Step 2-norm \n",
      "------   --------------   --------------\n",
      "     0     1.451631e-02              NaN\n"
     ]
    },
    {
     "name": "stdout",
     "output_type": "stream",
     "text": [
      "     1     1.309598e-05     3.734726e+02\n",
      "     2     5.748291e-12     7.407148e-05\n"
     ]
    },
    {
     "name": "stdout",
     "output_type": "stream",
     "text": [
      " > Computing solution at time 0.8400000000000005\n"
     ]
    },
    {
     "name": "stdout",
     "output_type": "stream",
     "text": [
      "Iter     f(x) inf-norm    Step 2-norm \n",
      "------   --------------   --------------\n"
     ]
    },
    {
     "name": "stdout",
     "output_type": "stream",
     "text": [
      "     0     1.402798e-02              NaN\n",
      "     1     1.293616e-05     1.763502e+03\n"
     ]
    },
    {
     "name": "stdout",
     "output_type": "stream",
     "text": [
      "     2     5.500045e-12     7.215968e-05\n",
      " > Computing solution at time 0.8500000000000005\n",
      "Iter     f(x) inf-norm    Step 2-norm \n",
      "------   --------------   --------------\n",
      "     0     1.442239e-02              NaN\n"
     ]
    },
    {
     "name": "stdout",
     "output_type": "stream",
     "text": [
      "     1     1.277894e-05     3.778677e+02\n",
      "     2     5.234035e-12     7.053283e-05\n"
     ]
    },
    {
     "name": "stdout",
     "output_type": "stream",
     "text": [
      " > Computing solution at time 0.8600000000000005\n",
      "Iter     f(x) inf-norm    Step 2-norm \n",
      "------   --------------   --------------\n"
     ]
    },
    {
     "name": "stdout",
     "output_type": "stream",
     "text": [
      "     0     1.393087e-02              NaN\n",
      "     1     1.261804e-05     1.753048e+03\n"
     ]
    },
    {
     "name": "stdout",
     "output_type": "stream",
     "text": [
      "     2     5.011991e-12     6.865554e-05\n",
      " > Computing solution at time 0.8700000000000006\n",
      "Iter     f(x) inf-norm    Step 2-norm \n",
      "------   --------------   --------------\n",
      "     0     1.432197e-02              NaN\n"
     ]
    },
    {
     "name": "stdout",
     "output_type": "stream",
     "text": [
      "     1     1.245950e-05     3.824054e+02\n",
      "     2     4.809930e-12     6.704854e-05\n"
     ]
    },
    {
     "name": "stdout",
     "output_type": "stream",
     "text": [
      " > Computing solution at time 0.8800000000000006\n",
      "Iter     f(x) inf-norm    Step 2-norm \n",
      "------   --------------   --------------\n"
     ]
    },
    {
     "name": "stdout",
     "output_type": "stream",
     "text": [
      "     0     1.382727e-02              NaN\n",
      "     1     1.229768e-05     1.742295e+03\n"
     ]
    },
    {
     "name": "stdout",
     "output_type": "stream",
     "text": [
      "     2     4.621192e-12     6.520900e-05\n",
      " > Computing solution at time 0.8900000000000006\n",
      "Iter     f(x) inf-norm    Step 2-norm \n"
     ]
    },
    {
     "name": "stdout",
     "output_type": "stream",
     "text": [
      "------   --------------   --------------\n",
      "     0     1.421505e-02              NaN\n"
     ]
    },
    {
     "name": "stdout",
     "output_type": "stream",
     "text": [
      "     1     1.213799e-05     3.870871e+02\n",
      "     2     4.429346e-12     6.362574e-05\n"
     ]
    },
    {
     "name": "stdout",
     "output_type": "stream",
     "text": [
      " > Computing solution at time 0.9000000000000006\n",
      "Iter     f(x) inf-norm    Step 2-norm \n",
      "------   --------------   --------------\n"
     ]
    },
    {
     "name": "stdout",
     "output_type": "stream",
     "text": [
      "     0     1.371717e-02              NaN\n",
      "     1     1.197538e-05     1.731248e+03\n"
     ]
    },
    {
     "name": "stdout",
     "output_type": "stream",
     "text": [
      "     2     4.251266e-12     6.182688e-05\n",
      " > Computing solution at time 0.9100000000000006\n",
      "Iter     f(x) inf-norm    Step 2-norm \n",
      "------   --------------   --------------\n",
      "     0     1.410165e-02              NaN\n"
     ]
    },
    {
     "name": "stdout",
     "output_type": "stream",
     "text": [
      "     1     1.181472e-05     3.919144e+02\n",
      "     2     4.071854e-12     6.027096e-05\n"
     ]
    },
    {
     "name": "stdout",
     "output_type": "stream",
     "text": [
      " > Computing solution at time 0.9200000000000006\n",
      "Iter     f(x) inf-norm    Step 2-norm \n",
      "------   --------------   --------------\n"
     ]
    },
    {
     "name": "stdout",
     "output_type": "stream",
     "text": [
      "     0     1.360058e-02              NaN\n",
      "     1     1.165149e-05     1.719912e+03\n"
     ]
    },
    {
     "name": "stdout",
     "output_type": "stream",
     "text": [
      "     2     3.905321e-12     5.851543e-05\n",
      " > Computing solution at time 0.9300000000000006\n",
      "Iter     f(x) inf-norm    Step 2-norm \n",
      "------   --------------   --------------\n",
      "     0     1.398177e-02              NaN\n"
     ]
    },
    {
     "name": "stdout",
     "output_type": "stream",
     "text": [
      "     1     1.149002e-05     3.968889e+02\n",
      "     2     3.732570e-12     5.699011e-05\n"
     ]
    },
    {
     "name": "stdout",
     "output_type": "stream",
     "text": [
      " > Computing solution at time 0.9400000000000006\n",
      "Iter     f(x) inf-norm    Step 2-norm \n",
      "------   --------------   --------------\n"
     ]
    },
    {
     "name": "stdout",
     "output_type": "stream",
     "text": [
      "     0     1.347754e-02              NaN\n",
      "     1     1.132632e-05     1.708291e+03\n"
     ]
    },
    {
     "name": "stdout",
     "output_type": "stream",
     "text": [
      "     2     3.578915e-12     5.528028e-05\n",
      " > Computing solution at time 0.9500000000000006\n",
      "Iter     f(x) inf-norm    Step 2-norm \n",
      "------   --------------   --------------\n",
      "     0     1.385545e-02              NaN\n"
     ]
    },
    {
     "name": "stdout",
     "output_type": "stream",
     "text": [
      "     1     1.116422e-05     4.020123e+02\n",
      "     2     3.417266e-12     5.378852e-05\n"
     ]
    },
    {
     "name": "stdout",
     "output_type": "stream",
     "text": [
      " > Computing solution at time 0.9600000000000006\n",
      "Iter     f(x) inf-norm    Step 2-norm \n",
      "------   --------------   --------------\n"
     ]
    },
    {
     "name": "stdout",
     "output_type": "stream",
     "text": [
      "     0     1.334804e-02              NaN\n",
      "     1     1.100020e-05     1.696391e+03\n"
     ]
    },
    {
     "name": "stdout",
     "output_type": "stream",
     "text": [
      "     2     3.269385e-12     5.212652e-05\n",
      " > Computing solution at time 0.9700000000000006\n",
      "Iter     f(x) inf-norm    Step 2-norm \n",
      "------   --------------   --------------\n",
      "     0     1.372268e-02              NaN\n"
     ]
    },
    {
     "name": "stdout",
     "output_type": "stream",
     "text": [
      "     1     1.083764e-05     4.072862e+02\n",
      "     2     3.121503e-12     5.067098e-05\n"
     ]
    },
    {
     "name": "stdout",
     "output_type": "stream",
     "text": [
      " > Computing solution at time 0.9800000000000006\n",
      "Iter     f(x) inf-norm    Step 2-norm \n",
      "------   --------------   --------------\n"
     ]
    },
    {
     "name": "stdout",
     "output_type": "stream",
     "text": [
      "     0     1.321213e-02              NaN\n",
      "     1     1.067346e-05     1.684218e+03\n"
     ]
    },
    {
     "name": "stdout",
     "output_type": "stream",
     "text": [
      "     2     2.984279e-12     4.905867e-05\n",
      " > Computing solution at time 0.9900000000000007\n",
      "Iter     f(x) inf-norm    Step 2-norm \n",
      "------   --------------   --------------\n",
      "     0     1.358352e-02              NaN\n"
     ]
    },
    {
     "name": "stdout",
     "output_type": "stream",
     "text": [
      "     1     1.051061e-05     4.127125e+02\n",
      "     2     2.868372e-12     4.764174e-05\n"
     ]
    },
    {
     "name": "stdout",
     "output_type": "stream",
     "text": [
      " > Computing solution at time 1.0000000000000007\n",
      "Iter     f(x) inf-norm    Step 2-norm \n",
      "------   --------------   --------------\n"
     ]
    },
    {
     "name": "stdout",
     "output_type": "stream",
     "text": [
      "     0     1.306983e-02              NaN\n",
      "     1     1.034642e-05     1.671777e+03\n"
     ]
    },
    {
     "name": "stdout",
     "output_type": "stream",
     "text": [
      "     2     2.746692e-12     4.608075e-05\n",
      " > Computing solution at time 1.0100000000000007\n",
      "Iter     f(x) inf-norm    Step 2-norm \n",
      "------   --------------   --------------\n",
      "     0     1.343798e-02              NaN\n"
     ]
    },
    {
     "name": "stdout",
     "output_type": "stream",
     "text": [
      "     1     1.018345e-05     4.182931e+02\n",
      "     2     2.642331e-12     4.470455e-05\n"
     ]
    },
    {
     "name": "stdout",
     "output_type": "stream",
     "text": [
      " > Computing solution at time 1.0200000000000007\n",
      "Iter     f(x) inf-norm    Step 2-norm \n",
      "------   --------------   --------------\n"
     ]
    },
    {
     "name": "stdout",
     "output_type": "stream",
     "text": [
      "     0     1.292117e-02              NaN\n",
      "     1     1.001941e-05     1.659076e+03\n"
     ]
    },
    {
     "name": "stdout",
     "output_type": "stream",
     "text": [
      "     2     2.527756e-12     4.319627e-05\n",
      " > Computing solution at time 1.0300000000000007\n",
      "Iter     f(x) inf-norm    Step 2-norm \n",
      "------   --------------   --------------\n",
      "     0     1.328610e-02              NaN\n"
     ]
    },
    {
     "name": "stdout",
     "output_type": "stream",
     "text": [
      "     1     9.856495e-06     4.240298e+02\n",
      "     2     2.427392e-12     4.186266e-05\n"
     ]
    },
    {
     "name": "stdout",
     "output_type": "stream",
     "text": [
      " > Computing solution at time 1.0400000000000007\n",
      "Iter     f(x) inf-norm    Step 2-norm \n",
      "------   --------------   --------------\n"
     ]
    },
    {
     "name": "stdout",
     "output_type": "stream",
     "text": [
      "     0     1.276619e-02              NaN\n",
      "     1     9.692757e-06     1.646121e+03\n"
     ]
    },
    {
     "name": "stdout",
     "output_type": "stream",
     "text": [
      "     2     2.317257e-12     4.040823e-05\n",
      " > Computing solution at time 1.0500000000000007\n",
      "Iter     f(x) inf-norm    Step 2-norm \n",
      "------   --------------   --------------\n",
      "     0     1.312793e-02              NaN\n"
     ]
    },
    {
     "name": "stdout",
     "output_type": "stream",
     "text": [
      "     1     9.530063e-06     4.299246e+02\n",
      "     2     2.223999e-12     3.911882e-05\n"
     ]
    },
    {
     "name": "stdout",
     "output_type": "stream",
     "text": [
      " > Computing solution at time 1.0600000000000007\n",
      "Iter     f(x) inf-norm    Step 2-norm \n",
      "------   --------------   --------------\n"
     ]
    },
    {
     "name": "stdout",
     "output_type": "stream",
     "text": [
      "     0     1.260494e-02              NaN\n",
      "     1     9.366784e-06     1.632919e+03\n"
     ]
    },
    {
     "name": "stdout",
     "output_type": "stream",
     "text": [
      "     2     2.120082e-12     3.771920e-05\n",
      " > Computing solution at time 1.0700000000000007\n",
      "Iter     f(x) inf-norm    Step 2-norm \n"
     ]
    },
    {
     "name": "stdout",
     "output_type": "stream",
     "text": [
      "------   --------------   --------------\n",
      "     0     1.296351e-02              NaN\n"
     ]
    },
    {
     "name": "stdout",
     "output_type": "stream",
     "text": [
      "     1     9.204482e-06     4.359795e+02\n",
      "     2     2.030376e-12     3.647536e-05\n"
     ]
    },
    {
     "name": "stdout",
     "output_type": "stream",
     "text": [
      " > Computing solution at time 1.0800000000000007\n",
      "Iter     f(x) inf-norm    Step 2-norm \n",
      "------   --------------   --------------\n"
     ]
    },
    {
     "name": "stdout",
     "output_type": "stream",
     "text": [
      "     0     1.243746e-02              NaN\n",
      "     1     9.041818e-06     1.619478e+03\n"
     ]
    },
    {
     "name": "stdout",
     "output_type": "stream",
     "text": [
      "     2     1.933564e-12     3.513127e-05\n",
      " > Computing solution at time 1.0900000000000007\n",
      "Iter     f(x) inf-norm    Step 2-norm \n",
      "------   --------------   --------------\n",
      "     0     1.279289e-02              NaN\n"
     ]
    },
    {
     "name": "stdout",
     "output_type": "stream",
     "text": [
      "     1     8.880074e-06     4.421965e+02\n",
      "     2     1.850964e-12     3.393413e-05\n"
     ]
    },
    {
     "name": "stdout",
     "output_type": "stream",
     "text": [
      " > Computing solution at time 1.1000000000000008\n",
      "Iter     f(x) inf-norm    Step 2-norm \n",
      "------   --------------   --------------\n"
     ]
    },
    {
     "name": "stdout",
     "output_type": "stream",
     "text": [
      "     0     1.226381e-02              NaN\n",
      "     1     8.718182e-06     1.605805e+03\n"
     ]
    },
    {
     "name": "stdout",
     "output_type": "stream",
     "text": [
      "     2     1.758593e-12     3.264608e-05\n",
      " > Computing solution at time 1.1100000000000008\n",
      "Iter     f(x) inf-norm    Step 2-norm \n"
     ]
    },
    {
     "name": "stdout",
     "output_type": "stream",
     "text": [
      "------   --------------   --------------\n",
      "     0     1.261612e-02              NaN\n"
     ]
    },
    {
     "name": "stdout",
     "output_type": "stream",
     "text": [
      "     1     8.557163e-06     4.485777e+02\n",
      "     2     1.682210e-12     3.149656e-05\n",
      " > Computing solution at time 1.1200000000000008\n"
     ]
    },
    {
     "name": "stdout",
     "output_type": "stream",
     "text": [
      "Iter     f(x) inf-norm    Step 2-norm \n",
      "------   --------------   --------------\n",
      "     0     1.208404e-02              NaN\n",
      "     1     8.396196e-06     1.591909e+03\n"
     ]
    },
    {
     "name": "stdout",
     "output_type": "stream",
     "text": [
      "     2     1.598721e-12     3.026488e-05\n",
      " > Computing solution at time 1.1300000000000008"
     ]
    },
    {
     "name": "stdout",
     "output_type": "stream",
     "text": [
      "\n",
      "Iter     f(x) inf-norm    Step 2-norm \n",
      "------   --------------   --------------\n",
      "     0     1.243327e-02              NaN\n"
     ]
    },
    {
     "name": "stdout",
     "output_type": "stream",
     "text": [
      "     1     8.236068e-06     4.551251e+02\n",
      "     2     1.523226e-12     2.916366e-05\n"
     ]
    },
    {
     "name": "stdout",
     "output_type": "stream",
     "text": [
      " > Computing solution at time 1.1400000000000008\n",
      "Iter     f(x) inf-norm    Step 2-norm \n",
      "------   --------------   --------------\n"
     ]
    },
    {
     "name": "stdout",
     "output_type": "stream",
     "text": [
      "     0     1.189822e-02              NaN\n",
      "     1     8.076182e-06     1.577797e+03\n"
     ]
    },
    {
     "name": "stdout",
     "output_type": "stream",
     "text": [
      "     2     1.447731e-12     2.798848e-05\n",
      " > Computing solution at time 1.1500000000000008\n",
      "Iter     f(x) inf-norm    Step 2-norm \n",
      "------   --------------   --------------\n",
      "     0     1.224440e-02              NaN\n"
     ]
    },
    {
     "name": "stdout",
     "output_type": "stream",
     "text": [
      "     1     7.917108e-06     4.618409e+02\n",
      "     2     1.377565e-12     2.693605e-05\n"
     ]
    },
    {
     "name": "stdout",
     "output_type": "stream",
     "text": [
      " > Computing solution at time 1.1600000000000008\n"
     ]
    },
    {
     "name": "stdout",
     "output_type": "stream",
     "text": [
      "Iter     f(x) inf-norm    Step 2-norm \n",
      "------   --------------   --------------\n",
      "     0     1.170640e-02              NaN\n",
      "     1     7.758458e-06     1.563478e+03\n"
     ]
    },
    {
     "name": "stdout",
     "output_type": "stream",
     "text": [
      "     2     1.306510e-12     2.581730e-05\n",
      " > Computing solution at time 1.1700000000000008\n",
      "Iter     f(x) inf-norm    Step 2-norm \n"
     ]
    },
    {
     "name": "stdout",
     "output_type": "stream",
     "text": [
      "------   --------------   --------------\n",
      "     0     1.204957e-02              NaN\n"
     ]
    },
    {
     "name": "stdout",
     "output_type": "stream",
     "text": [
      "     1     7.600601e-06     4.687271e+02\n",
      "     2     1.242562e-12     2.481396e-05\n"
     ]
    },
    {
     "name": "stdout",
     "output_type": "stream",
     "text": [
      " > Computing solution at time 1.1800000000000008\n",
      "Iter     f(x) inf-norm    Step 2-norm \n",
      "------   --------------   --------------\n"
     ]
    },
    {
     "name": "stdout",
     "output_type": "stream",
     "text": [
      "     0     1.150867e-02              NaN\n",
      "     1     7.443339e-06     1.548960e+03\n"
     ]
    },
    {
     "name": "stdout",
     "output_type": "stream",
     "text": [
      "     2     1.175948e-12     2.375141e-05\n",
      " > Computing solution at time 1.1900000000000008\n",
      "Iter     f(x) inf-norm    Step 2-norm \n",
      "------   --------------   --------------\n",
      "     0     1.184886e-02              NaN\n"
     ]
    },
    {
     "name": "stdout",
     "output_type": "stream",
     "text": [
      "     1     7.286860e-06     4.757859e+02\n",
      "     2     1.117328e-12     2.279724e-05\n"
     ]
    },
    {
     "name": "stdout",
     "output_type": "stream",
     "text": [
      " > Computing solution at time 1.2000000000000008\n",
      "Iter     f(x) inf-norm    Step 2-norm \n",
      "------   --------------   --------------\n"
     ]
    },
    {
     "name": "stdout",
     "output_type": "stream",
     "text": [
      "     0     1.130509e-02              NaN\n",
      "     1     7.131137e-06     1.534252e+03\n"
     ]
    },
    {
     "name": "stdout",
     "output_type": "stream",
     "text": [
      "     2     1.053380e-12     2.179048e-05\n",
      " > Computing solution at time 1.2100000000000009\n",
      "Iter     f(x) inf-norm    Step 2-norm \n",
      "------   --------------   --------------\n",
      "     0     1.164235e-02              NaN\n"
     ]
    },
    {
     "name": "stdout",
     "output_type": "stream",
     "text": [
      "     1     6.976196e-06     4.830194e+02\n",
      "     2     1.000089e-12     2.088539e-05\n"
     ]
    },
    {
     "name": "stdout",
     "output_type": "stream",
     "text": [
      " > Computing solution at time 1.2200000000000009\n",
      "Iter     f(x) inf-norm    Step 2-norm \n",
      "------   --------------   --------------\n"
     ]
    },
    {
     "name": "stdout",
     "output_type": "stream",
     "text": [
      "     0     1.109575e-02              NaN\n",
      "     1     6.822164e-06     1.519364e+03\n"
     ]
    },
    {
     "name": "stdout",
     "output_type": "stream",
     "text": [
      "     2     9.459100e-13     1.993384e-05\n",
      " > Computing solution at time 1.2300000000000009\n",
      "Iter     f(x) inf-norm    Step 2-norm \n",
      "------   --------------   --------------\n",
      "     0     1.143011e-02              NaN\n"
     ]
    },
    {
     "name": "stdout",
     "output_type": "stream",
     "text": [
      "     1     6.668918e-06     4.904296e+02\n",
      "     2     8.952838e-13     1.907756e-05\n"
     ]
    },
    {
     "name": "stdout",
     "output_type": "stream",
     "text": [
      " > Computing solution at time 1.2400000000000009\n",
      "Iter     f(x) inf-norm    Step 2-norm \n",
      "------   --------------   --------------\n"
     ]
    },
    {
     "name": "stdout",
     "output_type": "stream",
     "text": [
      "     0     1.088072e-02              NaN\n",
      "     1     6.516725e-06     1.504304e+03\n"
     ]
    },
    {
     "name": "stdout",
     "output_type": "stream",
     "text": [
      "     2     8.419931e-13     1.818050e-05\n",
      " > Computing solution at time 1.2500000000000009\n",
      "Iter     f(x) inf-norm    Step 2-norm \n"
     ]
    },
    {
     "name": "stdout",
     "output_type": "stream",
     "text": [
      "------   --------------   --------------\n",
      "     0     1.121224e-02              NaN\n"
     ]
    },
    {
     "name": "stdout",
     "output_type": "stream",
     "text": [
      "     1     6.365330e-06     4.980186e+02\n",
      "     2     7.966960e-13     1.737260e-05\n"
     ]
    },
    {
     "name": "stdout",
     "output_type": "stream",
     "text": [
      " > Computing solution at time 1.260000000000001\n",
      "Iter     f(x) inf-norm    Step 2-norm \n",
      "------   --------------   --------------\n"
     ]
    },
    {
     "name": "stdout",
     "output_type": "stream",
     "text": [
      "     0     1.066011e-02              NaN\n",
      "     1     6.215125e-06     1.489081e+03\n"
     ]
    },
    {
     "name": "stdout",
     "output_type": "stream",
     "text": [
      "     2     7.522871e-13     1.652915e-05\n",
      " > Computing solution at time 1.270000000000001\n",
      "Iter     f(x) inf-norm    Step 2-norm \n",
      "------   --------------   --------------\n",
      "     0     1.098882e-02              NaN\n"
     ]
    },
    {
     "name": "stdout",
     "output_type": "stream",
     "text": [
      "     1     6.065733e-06     5.057884e+02\n",
      "     2     7.096546e-13     1.576903e-05\n"
     ]
    },
    {
     "name": "stdout",
     "output_type": "stream",
     "text": [
      " > Computing solution at time 1.280000000000001\n",
      "Iter     f(x) inf-norm    Step 2-norm \n",
      "------   --------------   --------------\n"
     ]
    },
    {
     "name": "stdout",
     "output_type": "stream",
     "text": [
      "     0     1.043399e-02              NaN\n",
      "     1     5.917661e-06     1.473706e+03\n"
     ]
    },
    {
     "name": "stdout",
     "output_type": "stream",
     "text": [
      "     2     6.661338e-13     1.497816e-05\n",
      " > Computing solution at time 1.290000000000001\n",
      "Iter     f(x) inf-norm    Step 2-norm \n",
      "------   --------------   --------------\n",
      "     0     1.075994e-02              NaN\n"
     ]
    },
    {
     "name": "stdout",
     "output_type": "stream",
     "text": [
      "     1     5.770425e-06     5.137409e+02\n",
      "     2     6.279421e-13     1.426507e-05\n"
     ]
    },
    {
     "name": "stdout",
     "output_type": "stream",
     "text": [
      " > Computing solution at time 1.300000000000001\n",
      "Iter     f(x) inf-norm    Step 2-norm \n",
      "------   --------------   --------------\n"
     ]
    },
    {
     "name": "stdout",
     "output_type": "stream",
     "text": [
      "     0     1.020246e-02              NaN\n",
      "     1     5.624630e-06     1.458186e+03\n"
     ]
    },
    {
     "name": "stdout",
     "output_type": "stream",
     "text": [
      "     2     5.924150e-13     1.352564e-05\n",
      " > Computing solution at time 1.310000000000001\n",
      "Iter     f(x) inf-norm    Step 2-norm \n",
      "------   --------------   --------------\n",
      "     0     1.052571e-02              NaN\n"
     ]
    },
    {
     "name": "stdout",
     "output_type": "stream",
     "text": [
      "     1     5.479698e-06     5.218782e+02\n",
      "     2     5.542233e-13     1.285870e-05\n"
     ]
    },
    {
     "name": "stdout",
     "output_type": "stream",
     "text": [
      " > Computing solution at time 1.320000000000001\n",
      "Iter     f(x) inf-norm    Step 2-norm \n",
      "------   --------------   --------------\n"
     ]
    },
    {
     "name": "stdout",
     "output_type": "stream",
     "text": [
      "     0     9.965629e-03              NaN\n",
      "     1     5.336321e-06     1.442533e+03\n"
     ]
    },
    {
     "name": "stdout",
     "output_type": "stream",
     "text": [
      "     2     5.195844e-13     1.216943e-05\n",
      " > Computing solution at time 1.330000000000001\n",
      "Iter     f(x) inf-norm    Step 2-norm \n",
      "------   --------------   --------------\n",
      "     0     1.028623e-02              NaN\n"
     ]
    },
    {
     "name": "stdout",
     "output_type": "stream",
     "text": [
      "     1     5.193840e-06     5.302021e+02\n",
      "     2     4.876100e-13     1.154761e-05\n"
     ]
    },
    {
     "name": "stdout",
     "output_type": "stream",
     "text": [
      " > Computing solution at time 1.340000000000001\n",
      "Iter     f(x) inf-norm    Step 2-norm \n",
      "------   --------------   --------------\n"
     ]
    },
    {
     "name": "stdout",
     "output_type": "stream",
     "text": [
      "     0     9.723595e-03              NaN\n",
      "     1     5.053022e-06     1.426756e+03\n"
     ]
    },
    {
     "name": "stdout",
     "output_type": "stream",
     "text": [
      "     2     4.600764e-13     1.090712e-05\n",
      " > Computing solution at time 1.350000000000001\n",
      "Iter     f(x) inf-norm    Step 2-norm \n",
      "------   --------------   --------------\n",
      "     0     1.004159e-02              NaN\n"
     ]
    },
    {
     "name": "stdout",
     "output_type": "stream",
     "text": [
      "     1     4.913134e-06     5.387143e+02\n",
      "     2     4.298784e-13     1.032927e-05\n"
     ]
    },
    {
     "name": "stdout",
     "output_type": "stream",
     "text": [
      " > Computing solution at time 1.360000000000001\n",
      "Iter     f(x) inf-norm    Step 2-norm \n",
      "------   --------------   --------------\n"
     ]
    },
    {
     "name": "stdout",
     "output_type": "stream",
     "text": [
      "     0     9.476468e-03              NaN\n",
      "     1     4.775012e-06     1.410863e+03\n"
     ]
    },
    {
     "name": "stdout",
     "output_type": "stream",
     "text": [
      "     2     3.987921e-13     9.736058e-06\n",
      " > Computing solution at time 1.370000000000001\n",
      "Iter     f(x) inf-norm    Step 2-norm \n",
      "------   --------------   --------------\n",
      "     0     9.791924e-03              NaN\n"
     ]
    },
    {
     "name": "stdout",
     "output_type": "stream",
     "text": [
      "     1     4.637860e-06     5.474166e+02\n",
      "     2     3.730349e-13     9.200917e-06\n"
     ]
    },
    {
     "name": "stdout",
     "output_type": "stream",
     "text": [
      " > Computing solution at time 1.380000000000001\n",
      "Iter     f(x) inf-norm    Step 2-norm \n",
      "------   --------------   --------------\n"
     ]
    },
    {
     "name": "stdout",
     "output_type": "stream",
     "text": [
      "     0     9.224359e-03              NaN\n",
      "     1     4.502568e-06     1.394866e+03\n"
     ]
    },
    {
     "name": "stdout",
     "output_type": "stream",
     "text": [
      "     2     3.481659e-13     8.653397e-06\n",
      " > Computing solution at time 1.390000000000001\n",
      "Iter     f(x) inf-norm    Step 2-norm \n",
      "------   --------------   --------------\n",
      "     0     9.537331e-03              NaN\n"
     ]
    },
    {
     "name": "stdout",
     "output_type": "stream",
     "text": [
      "     1     4.368289e-06     5.563107e+02\n",
      "     2     3.250733e-13     8.159603e-06\n"
     ]
    },
    {
     "name": "stdout",
     "output_type": "stream",
     "text": [
      " > Computing solution at time 1.400000000000001\n",
      "Iter     f(x) inf-norm    Step 2-norm \n",
      "------   --------------   --------------\n"
     ]
    },
    {
     "name": "stdout",
     "output_type": "stream",
     "text": [
      "     0     8.967384e-03              NaN\n",
      "     1     4.235960e-06     1.378774e+03\n"
     ]
    },
    {
     "name": "stdout",
     "output_type": "stream",
     "text": [
      "     2     3.046452e-13     7.656093e-06\n",
      " > Computing solution at time 1.410000000000001\n",
      "Iter     f(x) inf-norm    Step 2-norm \n",
      "------   --------------   --------------\n",
      "     0     9.277932e-03              NaN\n"
     ]
    },
    {
     "name": "stdout",
     "output_type": "stream",
     "text": [
      "     1     4.104690e-06     5.653979e+02\n",
      "     2     2.824407e-13     7.202186e-06\n"
     ]
    },
    {
     "name": "stdout",
     "output_type": "stream",
     "text": [
      " > Computing solution at time 1.420000000000001\n",
      "Iter     f(x) inf-norm    Step 2-norm \n",
      "------   --------------   --------------\n"
     ]
    },
    {
     "name": "stdout",
     "output_type": "stream",
     "text": [
      "     0     8.705662e-03              NaN\n",
      "     1     3.975453e-06     1.362597e+03\n"
     ]
    },
    {
     "name": "stdout",
     "output_type": "stream",
     "text": [
      "     2     2.629008e-13     6.740930e-06\n",
      " > Computing solution at time 1.430000000000001\n",
      "Iter     f(x) inf-norm    Step 2-norm \n"
     ]
    },
    {
     "name": "stdout",
     "output_type": "stream",
     "text": [
      "------   --------------   --------------\n",
      "     0     9.013847e-03              NaN\n"
     ]
    },
    {
     "name": "stdout",
     "output_type": "stream",
     "text": [
      "     1     3.847322e-06     5.746799e+02\n",
      "     2     2.451372e-13     6.325365e-06\n"
     ]
    },
    {
     "name": "stdout",
     "output_type": "stream",
     "text": [
      " > Computing solution at time 1.440000000000001\n",
      "Iter     f(x) inf-norm    Step 2-norm \n",
      "------   --------------   --------------\n"
     ]
    },
    {
     "name": "stdout",
     "output_type": "stream",
     "text": [
      "     0     8.439317e-03              NaN\n",
      "     1     3.721304e-06     1.346345e+03\n"
     ]
    },
    {
     "name": "stdout",
     "output_type": "stream",
     "text": [
      "     2     2.247091e-13     5.904540e-06\n",
      " > Computing solution at time 1.450000000000001\n",
      "Iter     f(x) inf-norm    Step 2-norm \n",
      "------   --------------   --------------\n",
      "     0     8.745203e-03              NaN\n"
     ]
    },
    {
     "name": "stdout",
     "output_type": "stream",
     "text": [
      "     1     3.596442e-06     5.841577e+02\n",
      "     2     2.078338e-13     5.525697e-06\n"
     ]
    },
    {
     "name": "stdout",
     "output_type": "stream",
     "text": [
      " > Computing solution at time 1.460000000000001\n",
      "Iter     f(x) inf-norm    Step 2-norm \n",
      "------   --------------   --------------\n"
     ]
    },
    {
     "name": "stdout",
     "output_type": "stream",
     "text": [
      "     0     8.168474e-03              NaN\n",
      "     1     3.473766e-06     1.330027e+03\n"
     ]
    },
    {
     "name": "stdout",
     "output_type": "stream",
     "text": [
      "     2     1.962874e-13     5.143421e-06\n",
      " > Computing solution at time 1.470000000000001\n",
      "Iter     f(x) inf-norm    Step 2-norm \n",
      "------   --------------   --------------\n",
      "     0     8.472126e-03              NaN\n"
     ]
    },
    {
     "name": "stdout",
     "output_type": "stream",
     "text": [
      "     1     3.352298e-06     5.938327e+02\n",
      "     2     1.767475e-13     4.799618e-06\n"
     ]
    },
    {
     "name": "stdout",
     "output_type": "stream",
     "text": [
      " > Computing solution at time 1.480000000000001\n",
      "Iter     f(x) inf-norm    Step 2-norm \n",
      "------   --------------   --------------\n"
     ]
    },
    {
     "name": "stdout",
     "output_type": "stream",
     "text": [
      "     0     7.893264e-03              NaN\n",
      "     1     3.233084e-06     1.313653e+03\n"
     ]
    },
    {
     "name": "stdout",
     "output_type": "stream",
     "text": [
      "     2     1.634248e-13     4.453961e-06\n",
      " > Computing solution at time 1.490000000000001\n",
      "Iter     f(x) inf-norm    Step 2-norm \n",
      "------   --------------   --------------\n",
      "     0     8.194749e-03              NaN\n"
     ]
    },
    {
     "name": "stdout",
     "output_type": "stream",
     "text": [
      "     1     3.115132e-06     6.037059e+02\n",
      "     2     1.518785e-13     4.143460e-06\n"
     ]
    },
    {
     "name": "stdout",
     "output_type": "stream",
     "text": [
      " > Computing solution at time 1.500000000000001\n",
      "Iter     f(x) inf-norm    Step 2-norm \n",
      "------   --------------   --------------\n"
     ]
    },
    {
     "name": "stdout",
     "output_type": "stream",
     "text": [
      "     0     7.613820e-03              NaN\n",
      "     1     2.999497e-06     1.297234e+03\n"
     ]
    },
    {
     "name": "stdout",
     "output_type": "stream",
     "text": [
      "     2     1.385558e-13     3.832456e-06\n",
      " > Computing solution at time 1.5100000000000011\n",
      "Iter     f(x) inf-norm    Step 2-norm \n",
      "------   --------------   --------------\n",
      "     0     7.913207e-03              NaN\n"
     ]
    },
    {
     "name": "stdout",
     "output_type": "stream",
     "text": [
      "     1     2.885180e-06     6.137781e+02\n",
      "     2     1.270095e-13     3.553476e-06\n"
     ]
    },
    {
     "name": "stdout",
     "output_type": "stream",
     "text": [
      " > Computing solution at time 1.5200000000000011\n",
      "Iter     f(x) inf-norm    Step 2-norm \n",
      "------   --------------   --------------\n"
     ]
    },
    {
     "name": "stdout",
     "output_type": "stream",
     "text": [
      "     0     7.330279e-03              NaN\n",
      "     1     2.773237e-06     1.280779e+03\n"
     ]
    },
    {
     "name": "stdout",
     "output_type": "stream",
     "text": [
      "     2     1.145750e-13     3.275130e-06\n",
      " > Computing solution at time 1.5300000000000011\n",
      "Iter     f(x) inf-norm    Step 2-norm \n"
     ]
    },
    {
     "name": "stdout",
     "output_type": "stream",
     "text": [
      "------   --------------   --------------\n",
      "     0     7.627638e-03              NaN\n"
     ]
    },
    {
     "name": "stdout",
     "output_type": "stream",
     "text": [
      "     1     2.662668e-06     6.240501e+02\n",
      "     2     1.101341e-13     3.025857e-06\n"
     ]
    },
    {
     "name": "stdout",
     "output_type": "stream",
     "text": [
      " > Computing solution at time 1.5400000000000011\n",
      "Iter     f(x) inf-norm    Step 2-norm \n",
      "------   --------------   --------------\n"
     ]
    },
    {
     "name": "stdout",
     "output_type": "stream",
     "text": [
      "     0     7.042781e-03              NaN\n",
      "     1     2.554527e-06     1.264297e+03\n"
     ]
    },
    {
     "name": "stdout",
     "output_type": "stream",
     "text": [
      "     2     9.947598e-14     2.778157e-06\n",
      " > Computing solution at time 1.5500000000000012\n",
      "Iter     f(x) inf-norm    Step 2-norm \n",
      "------   --------------   --------------\n",
      "     0     7.338182e-03              NaN\n"
     ]
    },
    {
     "name": "stdout",
     "output_type": "stream",
     "text": [
      "     1     2.447819e-06     6.345225e+02\n",
      "     2     9.237056e-14     2.556755e-06\n"
     ]
    },
    {
     "name": "stdout",
     "output_type": "stream",
     "text": [
      " > Computing solution at time 1.5600000000000012\n",
      "Iter     f(x) inf-norm    Step 2-norm \n",
      "------   --------------   --------------\n"
     ]
    },
    {
     "name": "stdout",
     "output_type": "stream",
     "text": [
      "     0     6.751467e-03              NaN\n",
      "     1     2.343586e-06     1.247798e+03\n"
     ]
    },
    {
     "name": "stdout",
     "output_type": "stream",
     "text": [
      "     2     7.993606e-14     2.337681e-06\n",
      " > Computing solution at time 1.5700000000000012\n",
      "Iter     f(x) inf-norm    Step 2-norm \n",
      "------   --------------   --------------\n",
      "     0     7.044985e-03              NaN\n"
     ]
    },
    {
     "name": "stdout",
     "output_type": "stream",
     "text": [
      "     1     2.240844e-06     6.451956e+02\n",
      "     2     7.371881e-14     2.142300e-06\n"
     ]
    },
    {
     "name": "stdout",
     "output_type": "stream",
     "text": [
      " > Computing solution at time 1.5800000000000012\n"
     ]
    },
    {
     "name": "stdout",
     "output_type": "stream",
     "text": [
      "Iter     f(x) inf-norm    Step 2-norm \n",
      "------   --------------   --------------\n",
      "     0     6.456484e-03              NaN\n",
      "     1     2.140622e-06     1.231292e+03\n"
     ]
    },
    {
     "name": "stdout",
     "output_type": "stream",
     "text": [
      "     2     6.483702e-14     1.949837e-06\n",
      " > Computing solution at time 1.5900000000000012"
     ]
    },
    {
     "name": "stdout",
     "output_type": "stream",
     "text": [
      "\n",
      "Iter     f(x) inf-norm    Step 2-norm \n",
      "------   --------------   --------------\n",
      "     0     6.748193e-03              NaN\n"
     ]
    },
    {
     "name": "stdout",
     "output_type": "stream",
     "text": [
      "     1     2.041949e-06     6.560697e+02\n",
      "     2     5.950795e-14     1.778624e-06\n"
     ]
    },
    {
     "name": "stdout",
     "output_type": "stream",
     "text": [
      " > Computing solution at time 1.6000000000000012\n",
      "Iter     f(x) inf-norm    Step 2-norm \n",
      "------   --------------   --------------\n"
     ]
    },
    {
     "name": "stdout",
     "output_type": "stream",
     "text": [
      "     0     6.157981e-03              NaN\n",
      "     1     1.945836e-06     1.214788e+03\n"
     ]
    },
    {
     "name": "stdout",
     "output_type": "stream",
     "text": [
      "     2     5.329071e-14     1.610768e-06\n",
      " > Computing solution at time 1.6100000000000012\n",
      "Iter     f(x) inf-norm    Step 2-norm \n",
      "------   --------------   --------------\n",
      "     0     6.447956e-03              NaN\n"
     ]
    },
    {
     "name": "stdout",
     "output_type": "stream",
     "text": [
      "     1     1.851331e-06     6.671448e+02\n",
      "     2     5.062617e-14     1.461880e-06\n"
     ]
    },
    {
     "name": "stdout",
     "output_type": "stream",
     "text": [
      " > Computing solution at time 1.6200000000000012\n",
      "Iter     f(x) inf-norm    Step 2-norm \n",
      "------   --------------   --------------\n"
     ]
    },
    {
     "name": "stdout",
     "output_type": "stream",
     "text": [
      "     0     5.856108e-03              NaN\n",
      "     1     1.759422e-06     1.198296e+03\n"
     ]
    },
    {
     "name": "stdout",
     "output_type": "stream",
     "text": [
      "     2     4.352074e-14     1.316649e-06\n",
      " > Computing solution at time 1.6300000000000012\n",
      "Iter     f(x) inf-norm    Step 2-norm \n",
      "------   --------------   --------------\n",
      "     0     6.144427e-03              NaN\n"
     ]
    },
    {
     "name": "stdout",
     "output_type": "stream",
     "text": [
      "     1     1.669179e-06     6.784208e+02\n",
      "     2     4.174439e-14     1.188260e-06\n"
     ]
    },
    {
     "name": "stdout",
     "output_type": "stream",
     "text": [
      " > Computing solution at time 1.6400000000000012\n",
      "Iter     f(x) inf-norm    Step 2-norm \n",
      "------   --------------   --------------\n"
     ]
    },
    {
     "name": "stdout",
     "output_type": "stream",
     "text": [
      "     0     5.551020e-03              NaN\n",
      "     1     1.581564e-06     1.181824e+03\n"
     ]
    },
    {
     "name": "stdout",
     "output_type": "stream",
     "text": [
      "     2     3.641532e-14     1.063705e-06\n",
      " > Computing solution at time 1.6500000000000012\n",
      "Iter     f(x) inf-norm    Step 2-norm \n",
      "------   --------------   --------------\n",
      "     0     5.837760e-03              NaN\n"
     ]
    },
    {
     "name": "stdout",
     "output_type": "stream",
     "text": [
      "     1     1.495675e-06     6.898972e+02\n",
      "     2     3.019807e-14     9.540153e-07\n"
     ]
    },
    {
     "name": "stdout",
     "output_type": "stream",
     "text": [
      " > Computing solution at time 1.6600000000000013\n",
      "Iter     f(x) inf-norm    Step 2-norm \n",
      "------   --------------   --------------\n"
     ]
    },
    {
     "name": "stdout",
     "output_type": "stream",
     "text": [
      "     0     5.242872e-03              NaN\n",
      "     1     1.412440e-06     1.165381e+03\n"
     ]
    },
    {
     "name": "stdout",
     "output_type": "stream",
     "text": [
      "     2     2.664535e-14     8.482290e-07\n",
      " > Computing solution at time 1.6700000000000013\n",
      "Iter     f(x) inf-norm    Step 2-norm \n",
      "------   --------------   --------------\n",
      "     0     5.528114e-03              NaN\n"
     ]
    },
    {
     "name": "stdout",
     "output_type": "stream",
     "text": [
      "     1     1.330989e-06     7.015734e+02\n",
      "     2     2.309264e-14     7.554766e-07\n"
     ]
    },
    {
     "name": "stdout",
     "output_type": "stream",
     "text": [
      " > Computing solution at time 1.6800000000000013\n",
      "Iter     f(x) inf-norm    Step 2-norm \n",
      "------   --------------   --------------\n"
     ]
    },
    {
     "name": "stdout",
     "output_type": "stream",
     "text": [
      "     0     4.931823e-03              NaN\n",
      "     1     1.252216e-06     1.148977e+03\n"
     ]
    },
    {
     "name": "stdout",
     "output_type": "stream",
     "text": [
      "     2     2.220446e-14     6.666015e-07\n",
      " > Computing solution at time 1.6900000000000013\n",
      "Iter     f(x) inf-norm    Step 2-norm \n",
      "------   --------------   --------------\n",
      "     0     5.215648e-03              NaN\n"
     ]
    },
    {
     "name": "stdout",
     "output_type": "stream",
     "text": [
      "     1     1.175285e-06     7.134488e+02\n",
      "     2     1.865175e-14     5.890705e-07\n"
     ]
    },
    {
     "name": "stdout",
     "output_type": "stream",
     "text": [
      " > Computing solution at time 1.7000000000000013\n",
      "Iter     f(x) inf-norm    Step 2-norm \n",
      "------   --------------   --------------\n"
     ]
    },
    {
     "name": "stdout",
     "output_type": "stream",
     "text": [
      "     0     4.618035e-03              NaN\n",
      "     1     1.101052e-06     1.132620e+03\n"
     ]
    },
    {
     "name": "stdout",
     "output_type": "stream",
     "text": [
      "     2     1.598721e-14     5.153086e-07\n",
      " > Computing solution at time 1.7100000000000013\n",
      "Iter     f(x) inf-norm    Step 2-norm \n",
      "------   --------------   --------------\n",
      "     0     4.900524e-03              NaN\n"
     ]
    },
    {
     "name": "stdout",
     "output_type": "stream",
     "text": [
      "     1     1.028719e-06     7.255222e+02\n",
      "     2     1.598721e-14     4.513382e-07\n"
     ]
    },
    {
     "name": "stdout",
     "output_type": "stream",
     "text": [
      " > Computing solution at time 1.7200000000000013\n",
      "Iter     f(x) inf-norm    Step 2-norm \n",
      "------   --------------   --------------\n"
     ]
    },
    {
     "name": "stdout",
     "output_type": "stream",
     "text": [
      "     0     4.301670e-03              NaN\n",
      "     1     9.590986e-07     1.116319e+03\n"
     ]
    },
    {
     "name": "stdout",
     "output_type": "stream",
     "text": [
      "     2     1.776357e-14     3.909595e-07\n",
      " > Computing solution at time 1.7300000000000013\n",
      "Iter     f(x) inf-norm    Step 2-norm \n",
      "------   --------------   --------------\n",
      "     0     4.582906e-03              NaN\n"
     ]
    },
    {
     "name": "stdout",
     "output_type": "stream",
     "text": [
      "     1     8.914339e-07     7.377924e+02\n",
      "     2     1.065814e-14     3.389523e-07\n"
     ]
    },
    {
     "name": "stdout",
     "output_type": "stream",
     "text": [
      " > Computing solution at time 1.7400000000000013\n",
      "Iter     f(x) inf-norm    Step 2-norm \n",
      "------   --------------   --------------\n"
     ]
    },
    {
     "name": "stdout",
     "output_type": "stream",
     "text": [
      "     0     3.982894e-03              NaN\n",
      "     1     8.264954e-07     1.100082e+03\n"
     ]
    },
    {
     "name": "stdout",
     "output_type": "stream",
     "text": [
      "     2     1.154632e-14     2.903029e-07\n",
      " > Computing solution at time 1.7500000000000013\n",
      "Iter     f(x) inf-norm    Step 2-norm \n"
     ]
    },
    {
     "name": "stdout",
     "output_type": "stream",
     "text": [
      "------   --------------   --------------\n",
      "     0     4.262960e-03              NaN\n"
     ]
    },
    {
     "name": "stdout",
     "output_type": "stream",
     "text": [
      "     1     7.635675e-07     7.502578e+02\n",
      "     2     1.065814e-14     2.487332e-07\n"
     ]
    },
    {
     "name": "stdout",
     "output_type": "stream",
     "text": [
      " > Computing solution at time 1.7600000000000013\n"
     ]
    },
    {
     "name": "stdout",
     "output_type": "stream",
     "text": [
      "Iter     f(x) inf-norm    Step 2-norm \n",
      "------   --------------   --------------\n",
      "     0     3.661872e-03              NaN\n",
      "     1     7.033745e-07     1.083917e+03\n"
     ]
    },
    {
     "name": "stdout",
     "output_type": "stream",
     "text": [
      "     2     7.993606e-15     2.102432e-07\n",
      " > Computing solution at time 1.7700000000000014\n",
      "Iter     f(x) inf-norm    Step 2-norm \n"
     ]
    },
    {
     "name": "stdout",
     "output_type": "stream",
     "text": [
      "------   --------------   --------------\n",
      "     0     3.940854e-03              NaN\n"
     ]
    },
    {
     "name": "stdout",
     "output_type": "stream",
     "text": [
      "     1     6.452463e-07     7.629168e+02\n",
      "     2     6.661338e-15     1.776650e-07\n"
     ]
    },
    {
     "name": "stdout",
     "output_type": "stream",
     "text": [
      " > Computing solution at time 1.7800000000000014\n"
     ]
    },
    {
     "name": "stdout",
     "output_type": "stream",
     "text": [
      "Iter     f(x) inf-norm    Step 2-norm \n",
      "------   --------------   --------------\n",
      "     0     3.338775e-03              NaN\n",
      "     1     5.898582e-07     1.067832e+03\n"
     ]
    },
    {
     "name": "stdout",
     "output_type": "stream",
     "text": [
      "     2     7.105427e-15     1.478553e-07\n",
      " > Computing solution at time 1.7900000000000014\n",
      "Iter     f(x) inf-norm    Step 2-norm \n",
      "------   --------------   --------------\n",
      "     0     3.616757e-03              NaN\n"
     ]
    },
    {
     "name": "stdout",
     "output_type": "stream",
     "text": [
      "     1     5.365878e-07     7.757674e+02\n",
      "     2     5.329071e-15     1.229095e-07\n"
     ]
    },
    {
     "name": "stdout",
     "output_type": "stream",
     "text": [
      " > Computing solution at time 1.8000000000000014\n",
      "Iter     f(x) inf-norm    Step 2-norm \n",
      "------   --------------   --------------\n"
     ]
    },
    {
     "name": "stdout",
     "output_type": "stream",
     "text": [
      "     0     3.013772e-03              NaN\n",
      "     1     4.860592e-07     1.051835e+03\n"
     ]
    },
    {
     "name": "stdout",
     "output_type": "stream",
     "text": [
      "     2     5.329071e-15     1.003993e-07\n",
      " > Computing solution at time 1.8100000000000014\n",
      "Iter     f(x) inf-norm    Step 2-norm \n",
      "------   --------------   --------------\n",
      "     0     3.290840e-03              NaN\n"
     ]
    },
    {
     "name": "stdout",
     "output_type": "stream",
     "text": [
      "     1     4.376998e-07     7.888072e+02\n",
      "     2     5.329071e-15     8.182063e-08\n"
     ]
    },
    {
     "name": "stdout",
     "output_type": "stream",
     "text": [
      " > Computing solution at time 1.8200000000000014\n"
     ]
    },
    {
     "name": "stdout",
     "output_type": "stream",
     "text": [
      "Iter     f(x) inf-norm    Step 2-norm \n",
      "------   --------------   --------------\n"
     ]
    },
    {
     "name": "stdout",
     "output_type": "stream",
     "text": [
      "     0     2.687034e-03              NaN\n",
      "     1     3.920806e-07     1.035934e+03\n"
     ]
    },
    {
     "name": "stdout",
     "output_type": "stream",
     "text": [
      "     2     5.329071e-15     6.533357e-08\n",
      " > Computing solution at time 1.8300000000000014\n",
      "Iter     f(x) inf-norm    Step 2-norm \n"
     ]
    },
    {
     "name": "stdout",
     "output_type": "stream",
     "text": [
      "------   --------------   --------------\n",
      "     0     2.963276e-03              NaN\n"
     ]
    },
    {
     "name": "stdout",
     "output_type": "stream",
     "text": [
      "     1     3.486805e-07     8.020338e+02\n",
      "     2     7.105427e-15     5.195674e-08\n"
     ]
    },
    {
     "name": "stdout",
     "output_type": "stream",
     "text": [
      " > Computing solution at time 1.8400000000000014\n"
     ]
    },
    {
     "name": "stdout",
     "output_type": "stream",
     "text": [
      "Iter     f(x) inf-norm    Step 2-norm \n",
      "------   --------------   --------------\n"
     ]
    },
    {
     "name": "stdout",
     "output_type": "stream",
     "text": [
      "     0     2.358736e-03              NaN\n",
      "     1     3.080157e-07     1.020135e+03\n"
     ]
    },
    {
     "name": "stdout",
     "output_type": "stream",
     "text": [
      "     2     5.329071e-15     4.032678e-08\n",
      " > Computing solution at time 1.8500000000000014\n",
      "Iter     f(x) inf-norm    Step 2-norm \n"
     ]
    },
    {
     "name": "stdout",
     "output_type": "stream",
     "text": [
      "------   --------------   --------------\n",
      "     0     2.634239e-03              NaN\n"
     ]
    },
    {
     "name": "stdout",
     "output_type": "stream",
     "text": [
      "     1     2.696183e-07     8.154445e+02\n",
      "     2     7.105427e-15     3.109275e-08\n"
     ]
    },
    {
     "name": "stdout",
     "output_type": "stream",
     "text": [
      " > Computing solution at time 1.8600000000000014\n"
     ]
    },
    {
     "name": "stdout",
     "output_type": "stream",
     "text": [
      "Iter     f(x) inf-norm    Step 2-norm \n",
      "------   --------------   --------------\n",
      "     0     2.029051e-03              NaN\n",
      "     1     2.339480e-07     1.004446e+03\n"
     ]
    },
    {
     "name": "stdout",
     "output_type": "stream",
     "text": [
      "     2     4.884981e-15     2.326960e-08\n",
      " > Computing solution at time 1.8700000000000014\n",
      "Iter     f(x) inf-norm    Step 2-norm \n",
      "------   --------------   --------------\n",
      "     0     2.303902e-03              NaN\n"
     ]
    },
    {
     "name": "stdout",
     "output_type": "stream",
     "text": [
      "     1     2.005918e-07     8.290362e+02\n",
      "     2     4.440892e-15     1.723068e-08\n"
     ]
    },
    {
     "name": "stdout",
     "output_type": "stream",
     "text": [
      " > Computing solution at time 1.8800000000000014\n",
      "Iter     f(x) inf-norm    Step 2-norm \n",
      "------   --------------   --------------\n"
     ]
    },
    {
     "name": "stdout",
     "output_type": "stream",
     "text": [
      "     0     1.698154e-03              NaN\n",
      "     1     1.699513e-07     9.888735e+02\n"
     ]
    },
    {
     "name": "stdout",
     "output_type": "stream",
     "text": [
      "     2     5.329071e-15     1.228458e-08\n",
      " > Computing solution at time 1.8900000000000015\n",
      "Iter     f(x) inf-norm    Step 2-norm \n",
      "------   --------------   --------------\n",
      "     0     1.972443e-03              NaN\n"
     ]
    },
    {
     "name": "stdout",
     "output_type": "stream",
     "text": [
      "     1     1.416696e-07     8.428056e+02\n",
      "     2     5.329071e-15     8.609253e-09\n"
     ]
    },
    {
     "name": "stdout",
     "output_type": "stream",
     "text": [
      " > Computing solution at time 1.9000000000000015\n",
      "Iter     f(x) inf-norm    Step 2-norm \n",
      "------   --------------   --------------\n"
     ]
    },
    {
     "name": "stdout",
     "output_type": "stream",
     "text": [
      "     0     1.450515e-03              NaN\n",
      "     1     1.160891e-07     9.734244e+02\n"
     ]
    },
    {
     "name": "stdout",
     "output_type": "stream",
     "text": [
      "     2     5.329071e-15     5.735217e-09\n",
      " > Computing solution at time 1.9100000000000015\n",
      "Iter     f(x) inf-norm    Step 2-norm \n",
      "------   --------------   --------------\n",
      "     0     1.640038e-03              NaN\n"
     ]
    },
    {
     "name": "stdout",
     "output_type": "stream",
     "text": [
      "     1     9.291026e-08     8.567492e+02\n",
      "     2     5.329071e-15     3.712358e-09\n"
     ]
    },
    {
     "name": "stdout",
     "output_type": "stream",
     "text": [
      " > Computing solution at time 1.9200000000000015\n"
     ]
    },
    {
     "name": "stdout",
     "output_type": "stream",
     "text": [
      "Iter     f(x) inf-norm    Step 2-norm \n",
      "------   --------------   --------------\n",
      "     0     1.466723e-03              NaN\n",
      "     1     7.241512e-08     9.581050e+02\n"
     ]
    },
    {
     "name": "stdout",
     "output_type": "stream",
     "text": [
      "     2     5.329071e-15     2.233838e-09\n",
      " > Computing solution at time 1.9300000000000015\n",
      "Iter     f(x) inf-norm    Step 2-norm \n",
      "------   --------------   --------------\n",
      "     0     1.589057e-03              NaN\n"
     ]
    },
    {
     "name": "stdout",
     "output_type": "stream",
     "text": [
      "     1     5.436240e-08     8.708631e+02\n",
      "     2     5.329071e-15     1.276289e-09\n"
     ]
    },
    {
     "name": "stdout",
     "output_type": "stream",
     "text": [
      " > Computing solution at time 1.9400000000000015\n"
     ]
    },
    {
     "name": "stdout",
     "output_type": "stream",
     "text": [
      "Iter     f(x) inf-norm    Step 2-norm \n",
      "------   --------------   --------------\n"
     ]
    },
    {
     "name": "stdout",
     "output_type": "stream",
     "text": [
      "     0     1.482954e-03              NaN\n",
      "     1     3.897283e-08     9.429212e+02\n"
     ]
    },
    {
     "name": "stdout",
     "output_type": "stream",
     "text": [
      "     2     5.329071e-15     6.482019e-10\n",
      " > Computing solution at time 1.9500000000000015\n",
      "Iter     f(x) inf-norm    Step 2-norm \n"
     ]
    },
    {
     "name": "stdout",
     "output_type": "stream",
     "text": [
      "------   --------------   --------------\n",
      "     0     1.572692e-03              NaN\n"
     ]
    },
    {
     "name": "stdout",
     "output_type": "stream",
     "text": [
      "     1     2.606442e-08     8.851432e+02\n",
      "     2     5.329071e-15     2.957791e-10\n"
     ]
    },
    {
     "name": "stdout",
     "output_type": "stream",
     "text": [
      " > Computing solution at time 1.9600000000000015\n"
     ]
    },
    {
     "name": "stdout",
     "output_type": "stream",
     "text": [
      "Iter     f(x) inf-norm    Step 2-norm \n",
      "------   --------------   --------------\n"
     ]
    },
    {
     "name": "stdout",
     "output_type": "stream",
     "text": [
      "     0     1.499201e-03              NaN\n",
      "     1     1.579564e-08     9.278789e+02\n"
     ]
    },
    {
     "name": "stdout",
     "output_type": "stream",
     "text": [
      "     2     5.329071e-15     1.069363e-10\n",
      " > Computing solution at time 1.9700000000000015\n",
      "Iter     f(x) inf-norm    Step 2-norm \n"
     ]
    },
    {
     "name": "stdout",
     "output_type": "stream",
     "text": [
      "------   --------------   --------------\n",
      "     0     1.556313e-03              NaN\n"
     ]
    },
    {
     "name": "stdout",
     "output_type": "stream",
     "text": [
      "     1     8.044578e-09     8.995852e+02\n",
      " > Computing solution at time 1.9800000000000015\n",
      "Iter     f(x) inf-norm    Step 2-norm \n"
     ]
    },
    {
     "name": "stdout",
     "output_type": "stream",
     "text": [
      "------   --------------   --------------\n",
      "     0     1.515460e-03              NaN\n"
     ]
    },
    {
     "name": "stdout",
     "output_type": "stream",
     "text": [
      "     1     2.906850e-09     9.129839e+02\n",
      " > Computing solution at time 1.9900000000000015\n",
      "Iter     f(x) inf-norm    Step 2-norm \n"
     ]
    },
    {
     "name": "stdout",
     "output_type": "stream",
     "text": [
      "------   --------------   --------------\n",
      "     0     1.539926e-03              NaN\n"
     ]
    },
    {
     "name": "stdout",
     "output_type": "stream",
     "text": [
      "     1     3.209495e-10     9.141844e+02\n",
      " > Computing solution at time 2.0000000000000013\n"
     ]
    },
    {
     "data": {
      "text/plain": [
       "201-element Vector{String}:\n",
       " \"/home/gkluber/Desktop/GridapWorkshop2023Material/data/ins_transient.pvd\"\n",
       " \"/home/gkluber/Desktop/GridapWor\" ⋯ 23 bytes ⋯ \"ins_transient/solution_0.01.vtu\"\n",
       " \"/home/gkluber/Desktop/GridapWor\" ⋯ 23 bytes ⋯ \"ins_transient/solution_0.02.vtu\"\n",
       " \"/home/gkluber/Desktop/GridapWor\" ⋯ 23 bytes ⋯ \"ins_transient/solution_0.03.vtu\"\n",
       " \"/home/gkluber/Desktop/GridapWor\" ⋯ 23 bytes ⋯ \"ins_transient/solution_0.04.vtu\"\n",
       " \"/home/gkluber/Desktop/GridapWor\" ⋯ 23 bytes ⋯ \"ins_transient/solution_0.05.vtu\"\n",
       " \"/home/gkluber/Desktop/GridapWor\" ⋯ 39 bytes ⋯ \"lution_0.060000000000000005.vtu\"\n",
       " \"/home/gkluber/Desktop/GridapWor\" ⋯ 23 bytes ⋯ \"ins_transient/solution_0.07.vtu\"\n",
       " \"/home/gkluber/Desktop/GridapWor\" ⋯ 23 bytes ⋯ \"ins_transient/solution_0.08.vtu\"\n",
       " \"/home/gkluber/Desktop/GridapWor\" ⋯ 23 bytes ⋯ \"ins_transient/solution_0.09.vtu\"\n",
       " ⋮\n",
       " \"/home/gkluber/Desktop/GridapWor\" ⋯ 37 bytes ⋯ \"solution_1.9200000000000015.vtu\"\n",
       " \"/home/gkluber/Desktop/GridapWor\" ⋯ 37 bytes ⋯ \"solution_1.9300000000000015.vtu\"\n",
       " \"/home/gkluber/Desktop/GridapWor\" ⋯ 37 bytes ⋯ \"solution_1.9400000000000015.vtu\"\n",
       " \"/home/gkluber/Desktop/GridapWor\" ⋯ 37 bytes ⋯ \"solution_1.9500000000000015.vtu\"\n",
       " \"/home/gkluber/Desktop/GridapWor\" ⋯ 37 bytes ⋯ \"solution_1.9600000000000015.vtu\"\n",
       " \"/home/gkluber/Desktop/GridapWor\" ⋯ 37 bytes ⋯ \"solution_1.9700000000000015.vtu\"\n",
       " \"/home/gkluber/Desktop/GridapWor\" ⋯ 37 bytes ⋯ \"solution_1.9800000000000015.vtu\"\n",
       " \"/home/gkluber/Desktop/GridapWor\" ⋯ 37 bytes ⋯ \"solution_1.9900000000000015.vtu\"\n",
       " \"/home/gkluber/Desktop/GridapWor\" ⋯ 37 bytes ⋯ \"solution_2.0000000000000013.vtu\""
      ]
     },
     "metadata": {},
     "output_type": "display_data"
    }
   ],
   "source": [
    "u₀ = interpolate_everywhere([VectorValue(0.0,0.0),0.0],X(0.0))\n",
    "t₀ = 0.0\n",
    "T  = Tth\n",
    "xₕₜ = solve(ode_solver,op,u₀,t₀,T)\n",
    "\n",
    "dir = datadir(\"ins_transient\")\n",
    "!isdir(dir) && mkdir(dir)\n",
    "createpvd(dir) do pvd\n",
    "  for (xₕ,t) in xₕₜ\n",
    "    println(\" > Computing solution at time $t\")\n",
    "    uₕ,pₕ = xₕ\n",
    "    file = dir*\"/solution_$t\"*\".vtu\"\n",
    "    pvd[t] = createvtk(Ω,file,cellfields=[\"u\"=>uₕ,\"p\"=>pₕ])\n",
    "  end\n",
    "end"
   ]
  }
 ],
 "metadata": {
  "kernelspec": {
   "display_name": "Julia 1.9.4",
   "language": "julia",
   "name": "julia-1.9"
  },
  "language_info": {
   "file_extension": ".jl",
   "mimetype": "application/julia",
   "name": "julia",
   "version": "1.9.4"
  }
 },
 "nbformat": 4,
 "nbformat_minor": 3
}
